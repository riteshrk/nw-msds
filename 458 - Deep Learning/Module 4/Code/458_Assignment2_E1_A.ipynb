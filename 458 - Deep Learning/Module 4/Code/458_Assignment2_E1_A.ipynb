{
  "cells": [
    {
      "cell_type": "markdown",
      "metadata": {
        "id": "3-yji0OXBQS1"
      },
      "source": [
        "<img src=\"https://github.com/djp840/MSDS_458_Public/blob/main/images2/NorthwesternHeader.png?raw=1\" />"
      ]
    },
    {
      "cell_type": "markdown",
      "metadata": {
        "id": "SRLmkqrHBQS2"
      },
      "source": [
        "## MSDS458 Research Assignment 02 - Part 1\n",
        "<div class=\"alert alert-block alert-success\">\n",
        "    <b>More Technical</b>: Throughout the notebook. This types of boxes provide more technical details and extra references about what you are seeing. They contain helpful tips, but you can safely skip them the first time you run through the code.\n",
        "</div><br>"
      ]
    },
    {
      "cell_type": "markdown",
      "metadata": {
        "id": "v2-7tctUBQS2"
      },
      "source": [
        "The CIFAR-10 dataset (Canadian Institute For Advanced Research) is a collection of images that are commonly used to train machine learning and computer vision algorithms. It is one of the most widely used datasets for machine learning research. The CIFAR-10 dataset contains 60,000 32x32 color images in 10 different classes. The 10 different classes represent airplanes, cars, birds, cats, deer, dogs, frogs, horses, ships, and trucks. There are 6,000 images of each class."
      ]
    },
    {
      "cell_type": "markdown",
      "metadata": {
        "id": "pNvM9PVNAIyq"
      },
      "source": [
        "<div class=\"alert alert-block alert-info\">\n",
        "<b>The CIFAR-10 dataset</b><br>\n",
        "https://www.cs.toronto.edu/~kriz/cifar.html\n",
        "    </div>"
      ]
    },
    {
      "cell_type": "markdown",
      "metadata": {
        "id": "sSPcQhKUBQS2"
      },
      "source": [
        "## Imports"
      ]
    },
    {
      "cell_type": "code",
      "execution_count": null,
      "metadata": {
        "id": "eHmjw7WoBQS2"
      },
      "outputs": [],
      "source": [
        "import numpy as np\n",
        "import pandas as pd\n",
        "import datetime\n",
        "from packaging import version\n",
        "\n",
        "from sklearn.metrics import confusion_matrix, classification_report\n",
        "from sklearn.metrics import accuracy_score\n",
        "from sklearn.metrics import mean_squared_error as MSE\n",
        "from sklearn.model_selection import train_test_split\n",
        "\n",
        "import matplotlib.pyplot as plt\n",
        "import seaborn as sns\n",
        "\n",
        "import tensorflow as tf\n",
        "from tensorflow import keras\n",
        "from tensorflow.keras import models, layers\n",
        "from tensorflow.keras.models import Sequential\n",
        "from tensorflow.keras.layers import Conv2D, MaxPool2D, BatchNormalization, Dropout, Flatten, Dense\n",
        "from tensorflow.keras.callbacks import ModelCheckpoint, EarlyStopping\n",
        "from tensorflow.keras.preprocessing import image\n",
        "from tensorflow.keras.utils import to_categorical\n",
        "import tensorflow.keras.backend as k"
      ]
    },
    {
      "cell_type": "code",
      "execution_count": null,
      "metadata": {
        "id": "_cXetOQXBQS3"
      },
      "outputs": [],
      "source": [
        "%matplotlib inline\n",
        "np.set_printoptions(precision=3, suppress=True)"
      ]
    },
    {
      "cell_type": "markdown",
      "metadata": {
        "id": "yIDm78WyBQS3"
      },
      "source": [
        "## Verify TensorFlow Version"
      ]
    },
    {
      "cell_type": "code",
      "execution_count": null,
      "metadata": {
        "colab": {
          "base_uri": "https://localhost:8080/"
        },
        "id": "Z54Ct2ouBQS3",
        "outputId": "ed38ec50-ee2c-4efe-b4a8-13a27d8faf41"
      },
      "outputs": [
        {
          "output_type": "stream",
          "name": "stdout",
          "text": [
            "This notebook requires TensorFlow 2.0 or above\n",
            "TensorFlow version:  2.15.0\n"
          ]
        }
      ],
      "source": [
        "print(\"This notebook requires TensorFlow 2.0 or above\")\n",
        "print(\"TensorFlow version: \", tf.__version__)\n",
        "assert version.parse(tf.__version__).release[0] >=2"
      ]
    },
    {
      "cell_type": "markdown",
      "source": [],
      "metadata": {
        "id": "iigjVxSuZAm-"
      }
    },
    {
      "cell_type": "markdown",
      "metadata": {
        "id": "ApjAZzsZBQS6"
      },
      "source": [
        "## Mount Google Drive to Colab Environment"
      ]
    },
    {
      "cell_type": "code",
      "execution_count": 8,
      "metadata": {
        "id": "UqJfFzLIBQS6",
        "colab": {
          "base_uri": "https://localhost:8080/"
        },
        "outputId": "621089d8-34f1-477d-bf23-5f515fe7f2ab"
      },
      "outputs": [
        {
          "output_type": "stream",
          "name": "stdout",
          "text": [
            "Mounted at /content/gdrive\n"
          ]
        }
      ],
      "source": [
        "from google.colab import drive\n",
        "drive.mount('/content/gdrive')"
      ]
    },
    {
      "cell_type": "markdown",
      "metadata": {
        "id": "ehDxuQPgO6YM"
      },
      "source": [
        "## EDA Functions"
      ]
    },
    {
      "cell_type": "code",
      "execution_count": null,
      "metadata": {
        "id": "gP-TpqwuO6YM"
      },
      "outputs": [],
      "source": [
        "def get_three_classes(x, y):\n",
        "    def indices_of(class_id):\n",
        "        indices, _ = np.where(y == float(class_id))\n",
        "        return indices\n",
        "\n",
        "    indices = np.concatenate([indices_of(0), indices_of(1), indices_of(2)], axis=0)\n",
        "\n",
        "    x = x[indices]\n",
        "    y = y[indices]\n",
        "\n",
        "    count = x.shape[0]\n",
        "    indices = np.random.choice(range(count), count, replace=False)\n",
        "\n",
        "    x = x[indices]\n",
        "    y = y[indices]\n",
        "\n",
        "    y = tf.keras.utils.to_categorical(y)\n",
        "\n",
        "    return x, y"
      ]
    },
    {
      "cell_type": "code",
      "execution_count": null,
      "metadata": {
        "id": "FQEIznvlO6YN"
      },
      "outputs": [],
      "source": [
        "def show_random_examples(x, y, p):\n",
        "    indices = np.random.choice(range(x.shape[0]), 10, replace=False)\n",
        "\n",
        "    x = x[indices]\n",
        "    y = y[indices]\n",
        "    p = p[indices]\n",
        "\n",
        "    plt.figure(figsize=(10, 5))\n",
        "    for i in range(10):\n",
        "        plt.subplot(2, 5, i + 1)\n",
        "        plt.imshow(x[i])\n",
        "        plt.xticks([])\n",
        "        plt.yticks([])\n",
        "        col = 'green' if np.argmax(y[i]) == np.argmax(p[i]) else 'red'\n",
        "        plt.xlabel(class_names_preview[np.argmax(p[i])], color=col)\n",
        "    plt.show()"
      ]
    },
    {
      "cell_type": "markdown",
      "metadata": {
        "id": "wheq-fA-5VuQ"
      },
      "source": [
        "## Research Assignment Reporting Functions"
      ]
    },
    {
      "cell_type": "code",
      "execution_count": null,
      "metadata": {
        "id": "HMit7lJfO6YO"
      },
      "outputs": [],
      "source": [
        "def plot_history(history):\n",
        "  losses = history.history['loss']\n",
        "  accs = history.history['accuracy']\n",
        "  val_losses = history.history['val_loss']\n",
        "  val_accs = history.history['val_accuracy']\n",
        "  epochs = len(losses)\n",
        "\n",
        "  plt.figure(figsize=(16, 4))\n",
        "  for i, metrics in enumerate(zip([losses, accs], [val_losses, val_accs], ['Loss', 'Accuracy'])):\n",
        "    plt.subplot(1, 2, i + 1)\n",
        "    plt.plot(range(epochs), metrics[0], label='Training {}'.format(metrics[2]))\n",
        "    plt.plot(range(epochs), metrics[1], label='Validation {}'.format(metrics[2]))\n",
        "    plt.legend()\n",
        "  plt.show()\n",
        "\n",
        "def display_training_curves(training, validation, title, subplot):\n",
        "  ax = plt.subplot(subplot)\n",
        "  ax.plot(training)\n",
        "  ax.plot(validation)\n",
        "  ax.set_title('model '+ title)\n",
        "  ax.set_ylabel(title)\n",
        "  ax.set_xlabel('epoch')\n",
        "  ax.legend(['training', 'validation'])"
      ]
    },
    {
      "cell_type": "code",
      "execution_count": null,
      "metadata": {
        "id": "hMmC4BQy5UoQ"
      },
      "outputs": [],
      "source": [
        "def print_validation_report(y_test, predictions):\n",
        "    print(\"Classification Report\")\n",
        "    print(classification_report(y_test, predictions))\n",
        "    print('Accuracy Score: {}'.format(accuracy_score(y_test, predictions)))\n",
        "    print('Root Mean Square Error: {}'.format(np.sqrt(MSE(y_test, predictions))))"
      ]
    },
    {
      "cell_type": "code",
      "execution_count": null,
      "metadata": {
        "id": "oJKrRAYk5dCm"
      },
      "outputs": [],
      "source": [
        "def plot_confusion_matrix(y_true, y_pred):\n",
        "    mtx = confusion_matrix(y_true, y_pred)\n",
        "    fig, ax = plt.subplots(figsize=(16,12))\n",
        "    sns.heatmap(mtx, annot=True, fmt='d', linewidths=.75,  cbar=False, ax=ax,cmap='Blues',linecolor='white')\n",
        "    #  square=True,\n",
        "    plt.ylabel('true label')\n",
        "    plt.xlabel('predicted label')"
      ]
    },
    {
      "cell_type": "markdown",
      "metadata": {
        "id": "m2smn4LPBQS6"
      },
      "source": [
        "## Loading cifar10 Dataset\n",
        "\n",
        "The CIFAR-10 dataset consists of 60000 32x32 colour images in 10 classes, with 6000 images per class. There are 50000 training images and 10000 test images.<br>\n",
        "\n",
        "The dataset is divided into five training batches and one test batch, each with 10000 images. The test batch contains exactly 1000 randomly-selected images from each class. The training batches contain the remaining images in random order, but some training batches may contain more images from one class than another. Between them, the training batches contain exactly 5000 images from each class.\n"
      ]
    },
    {
      "cell_type": "code",
      "execution_count": null,
      "metadata": {
        "id": "Bs_WjVbQE9TQ",
        "colab": {
          "base_uri": "https://localhost:8080/"
        },
        "outputId": "6f34865c-746b-4223-ae2f-11ab6c1ea5f8"
      },
      "outputs": [
        {
          "output_type": "stream",
          "name": "stdout",
          "text": [
            "Downloading data from https://www.cs.toronto.edu/~kriz/cifar-10-python.tar.gz\n",
            "170498071/170498071 [==============================] - 6s 0us/step\n"
          ]
        }
      ],
      "source": [
        "(x_train, y_train), (x_test, y_test) = keras.datasets.cifar10.load_data()"
      ]
    },
    {
      "cell_type": "markdown",
      "metadata": {
        "id": "L1nXyX8xBQS6"
      },
      "source": [
        "* Tuple of Numpy arrays: (x_train, y_train), (x_test, y_test).\n",
        "* x_train, x_test: uint8 arrays of color image data with shapes (num_samples, 32, 32).\n",
        "* y_train, y_test: uint8 arrays of digit labels (integers in range 0-9)"
      ]
    },
    {
      "cell_type": "markdown",
      "metadata": {
        "id": "0qXkOUboBQS6"
      },
      "source": [
        "## EDA Training and Test Datasets\n",
        "\n",
        "* Imported 50000 examples for training and 10000 examples for test\n",
        "* Imported 50000 labels for training and 10000 labels for test"
      ]
    },
    {
      "cell_type": "code",
      "execution_count": null,
      "metadata": {
        "colab": {
          "base_uri": "https://localhost:8080/"
        },
        "id": "un0LuWX2BQS7",
        "outputId": "c9ed0428-fb96-45ac-d4e7-6329a66e4ab8"
      },
      "outputs": [
        {
          "output_type": "stream",
          "name": "stdout",
          "text": [
            "train_images:\t(50000, 32, 32, 3)\n",
            "train_labels:\t(50000, 1)\n",
            "test_images:\t\t(10000, 32, 32, 3)\n",
            "test_labels:\t\t(10000, 1)\n"
          ]
        }
      ],
      "source": [
        "print('train_images:\\t{}'.format(x_train.shape))\n",
        "print('train_labels:\\t{}'.format(y_train.shape))\n",
        "print('test_images:\\t\\t{}'.format(x_test.shape))\n",
        "print('test_labels:\\t\\t{}'.format(y_test.shape))"
      ]
    },
    {
      "cell_type": "markdown",
      "metadata": {
        "id": "tDL-RelMBQS7"
      },
      "source": [
        "## Review Labels"
      ]
    },
    {
      "cell_type": "code",
      "execution_count": null,
      "metadata": {
        "colab": {
          "base_uri": "https://localhost:8080/"
        },
        "id": "L_gEoattBQS7",
        "outputId": "bb3c9b21-86bc-4e0c-9388-50b9fe80c3c5"
      },
      "outputs": [
        {
          "output_type": "stream",
          "name": "stdout",
          "text": [
            "First ten labels training dataset:\n",
            " [[6]\n",
            " [9]\n",
            " [9]\n",
            " [4]\n",
            " [1]\n",
            " [1]\n",
            " [2]\n",
            " [7]\n",
            " [8]\n",
            " [3]]\n",
            "\n",
            "This output the numeric label, need to convert to item description\n"
          ]
        }
      ],
      "source": [
        "print(\"First ten labels training dataset:\\n {}\\n\".format(y_train[0:10]))\n",
        "print(\"This output the numeric label, need to convert to item description\")"
      ]
    },
    {
      "cell_type": "markdown",
      "metadata": {
        "id": "Fpba3_-nBQS7"
      },
      "source": [
        "## Plot Subset of Examples"
      ]
    },
    {
      "cell_type": "code",
      "execution_count": null,
      "metadata": {
        "id": "E-OB0cAWBQS7"
      },
      "outputs": [],
      "source": [
        "(train_images, train_labels),(test_images, test_labels)= tf.keras.datasets.cifar10.load_data()"
      ]
    },
    {
      "cell_type": "code",
      "execution_count": null,
      "metadata": {
        "id": "w4JdRKm5BQS7"
      },
      "outputs": [],
      "source": [
        "x_preview, y_preview = get_three_classes(train_images, train_labels)\n",
        "x_preview, y_preview = get_three_classes(test_images, test_labels)"
      ]
    },
    {
      "cell_type": "code",
      "execution_count": null,
      "metadata": {
        "colab": {
          "base_uri": "https://localhost:8080/",
          "height": 400
        },
        "id": "PrUAgX78BQS8",
        "outputId": "0838ce2f-7bfa-4890-c166-0938cd3ede9e"
      },
      "outputs": [
        {
          "output_type": "display_data",
          "data": {
            "text/plain": [
              "<Figure size 1000x500 with 10 Axes>"
            ],
            "image/png": "[encoded data removed]"
          },
          "metadata": {}
        }
      ],
      "source": [
        "class_names_preview = ['aeroplane', 'car', 'bird']\n",
        "\n",
        "show_random_examples(x_preview, y_preview, y_preview)"
      ]
    },
    {
      "cell_type": "markdown",
      "metadata": {
        "id": "zmOULZ_8BQS8"
      },
      "source": [
        "## Preprocessing Data for Model Development"
      ]
    },
    {
      "cell_type": "markdown",
      "metadata": {
        "id": "fWrM9M7tBQS9"
      },
      "source": [
        "The labels are an array of integers, ranging from 0 to 9. These correspond to the class of clothing the image represents:\n",
        "\n",
        "|Label  |Class_  |\n",
        "|-------|--------|\n",
        "|0|\tairplane     |\n",
        "|1|\tautomobile   |\n",
        "|2|\tbird         |\n",
        "|3|\tcat          |\n",
        "|4|\tdeer         |\n",
        "|5|\tdog          |\n",
        "|6|\tfrog         |\n",
        "|7|\thorse        |\n",
        "|8|\tship         |\n",
        "|9|\ttruck        |"
      ]
    },
    {
      "cell_type": "code",
      "execution_count": null,
      "metadata": {
        "id": "0pOir5__BQS9"
      },
      "outputs": [],
      "source": [
        "class_names = ['airplane'\n",
        ",'automobile'\n",
        ",'bird'\n",
        ",'cat'\n",
        ",'deer'\n",
        ",'dog'\n",
        ",'frog'\n",
        ",'horse'\n",
        ",'ship'\n",
        ",'truck']"
      ]
    },
    {
      "cell_type": "markdown",
      "metadata": {
        "id": "VLEIzXIhGimu"
      },
      "source": [
        "## Create Validation Data Set"
      ]
    },
    {
      "cell_type": "code",
      "execution_count": null,
      "metadata": {
        "id": "FwsWXD4VGvbI"
      },
      "outputs": [],
      "source": [
        "x_train_split, x_valid_split, y_train_split, y_valid_split = train_test_split(x_train\n",
        "                                                                              ,y_train\n",
        "                                                                              ,test_size=.1\n",
        "                                                                              ,random_state=42\n",
        "                                                                              ,shuffle=True)"
      ]
    },
    {
      "cell_type": "markdown",
      "metadata": {
        "id": "4m3HBmXfG_eO"
      },
      "source": [
        "## Confirm Datasets {Train, Validation, Test}"
      ]
    },
    {
      "cell_type": "code",
      "execution_count": null,
      "metadata": {
        "colab": {
          "base_uri": "https://localhost:8080/"
        },
        "id": "RvERfc-kGvhG",
        "outputId": "15c29f5d-bd7b-407b-bce2-0484b5ccef44"
      },
      "outputs": [
        {
          "output_type": "stream",
          "name": "stdout",
          "text": [
            "(45000, 32, 32, 3) (5000, 32, 32, 3) (10000, 32, 32, 3)\n"
          ]
        }
      ],
      "source": [
        "print(x_train_split.shape, x_valid_split.shape, x_test.shape)"
      ]
    },
    {
      "cell_type": "markdown",
      "metadata": {
        "id": "f1Bc7VFlBQS9"
      },
      "source": [
        "## Rescale Examples  {Train, Validation, Test}\n",
        "The images are 28x28 NumPy arrays, with pixel values ranging from 0 to 255\n"
      ]
    },
    {
      "cell_type": "markdown",
      "metadata": {
        "id": "83IzVivSBQS9"
      },
      "source": [
        "1. Each element in each example is a pixel value\n",
        "2. Pixel values range from 0 to 255\n",
        "3. 0 = black\n",
        "4. 255 = white"
      ]
    },
    {
      "cell_type": "code",
      "execution_count": null,
      "metadata": {
        "id": "42FmtjcVBQS9"
      },
      "outputs": [],
      "source": [
        "x_train_norm = x_train_split/255\n",
        "x_valid_norm = x_valid_split/255\n",
        "x_test_norm = x_test/255"
      ]
    },
    {
      "cell_type": "markdown",
      "metadata": {
        "id": "SMrBHqFDBQS-"
      },
      "source": [
        "## Create the Model"
      ]
    },
    {
      "cell_type": "markdown",
      "metadata": {
        "id": "ZQksDxFtBQS-"
      },
      "source": [
        "## Experiment 1 Build DNN Model with 2 layers"
      ]
    },
    {
      "cell_type": "markdown",
      "metadata": {
        "id": "kUAXSso3BQS-"
      },
      "source": [
        "Deep Neural Network (DNN) with 2 layers (no regularization) using TensorFlow"
      ]
    },
    {
      "cell_type": "code",
      "execution_count": null,
      "metadata": {
        "id": "s8pXP2OxBQS-"
      },
      "outputs": [],
      "source": [
        "k.clear_session()\n",
        "\n",
        "# Create the model\n",
        "model = Sequential([\n",
        "    Flatten(input_shape=(32, 32, 3)),  # Adjusting input shape according to the dataset\n",
        "    Dense(units=128, activation='relu'),  # First hidden layer with 128 units\n",
        "    Dense(units=64, activation='relu'),   # Second hidden layer with 64 units\n",
        "    Dense(units=10, activation='softmax') # Output layer with 10 units (for 10 classes)\n",
        "])"
      ]
    },
    {
      "cell_type": "code",
      "execution_count": null,
      "metadata": {
        "colab": {
          "base_uri": "https://localhost:8080/"
        },
        "id": "9-sVZXeoBQS-",
        "outputId": "14cad95a-1eea-4816-9011-0fc020971f02"
      },
      "outputs": [
        {
          "output_type": "stream",
          "name": "stdout",
          "text": [
            "Model: \"sequential\"\n",
            "_________________________________________________________________\n",
            " Layer (type)                Output Shape              Param #   \n",
            "=================================================================\n",
            " flatten (Flatten)           (None, 3072)              0         \n",
            "                                                                 \n",
            " dense (Dense)               (None, 128)               393344    \n",
            "                                                                 \n",
            " dense_1 (Dense)             (None, 64)                8256      \n",
            "                                                                 \n",
            " dense_2 (Dense)             (None, 10)                650       \n",
            "                                                                 \n",
            "=================================================================\n",
            "Total params: 402250 (1.53 MB)\n",
            "Trainable params: 402250 (1.53 MB)\n",
            "Non-trainable params: 0 (0.00 Byte)\n",
            "_________________________________________________________________\n"
          ]
        }
      ],
      "source": [
        "model.summary()"
      ]
    },
    {
      "cell_type": "code",
      "execution_count": null,
      "metadata": {
        "colab": {
          "base_uri": "https://localhost:8080/",
          "height": 533
        },
        "id": "04XBVY0pBQS-",
        "outputId": "902e082f-5d6a-484a-aeb1-451312f09627",
        "scrolled": false
      },
      "outputs": [
        {
          "output_type": "execute_result",
          "data": {
            "image/png": "[encoded data removed]",
            "text/plain": [
              "<IPython.core.display.Image object>"
            ]
          },
          "metadata": {},
          "execution_count": 22
        }
      ],
      "source": [
        "tf.keras.utils.plot_model(model, \"CIFAR10.png\", show_shapes=True)"
      ]
    },
    {
      "cell_type": "markdown",
      "metadata": {
        "id": "dTfZ8L55BQS-"
      },
      "source": [
        "## Compiling the model"
      ]
    },
    {
      "cell_type": "markdown",
      "metadata": {
        "id": "uNsQ6Qb-BQS-"
      },
      "source": [
        "In addition to setting up our model architecture, we also need to define which algorithm should the model use in order to optimize the weights and biases as per the given data. We will use stochastic gradient descent.\n",
        "\n",
        "We also need to define a loss function. Think of this function as the difference between the predicted outputs and the actual outputs given in the dataset. This loss needs to be minimised in order to have a higher model accuracy. That's what the optimization algorithm essentially does - it minimises the loss during model training. For our multi-class classification problem, categorical cross entropy is commonly used.\n",
        "\n",
        "Finally, we will use the accuracy during training as a metric to keep track of as the model trains."
      ]
    },
    {
      "cell_type": "markdown",
      "metadata": {
        "id": "kPIeG65BT_0R"
      },
      "source": [
        "<div class=\"alert alert-block alert-info\">\n",
        "<b>tf.keras.losses.SparseCategoricalCrossentropy</b><br>\n",
        "https://www.tensorflow.org/api_docs/python/tf/keras/losses/SparseCategoricalCrossentropy</div>"
      ]
    },
    {
      "cell_type": "code",
      "execution_count": null,
      "metadata": {
        "id": "nizhoIobBQS-"
      },
      "outputs": [],
      "source": [
        "model.compile(optimizer='adam',\n",
        "              loss=tf.keras.losses.SparseCategoricalCrossentropy(from_logits=False),\n",
        "              metrics=['accuracy'])"
      ]
    },
    {
      "cell_type": "markdown",
      "metadata": {
        "id": "r5ZMEIgVBQS-"
      },
      "source": [
        "## Training the model"
      ]
    },
    {
      "cell_type": "markdown",
      "metadata": {
        "id": "X71tbaZaT_0R"
      },
      "source": [
        "<div class=\"alert alert-block alert-success\">\n",
        "    <b>Module: tf.keras.callbacks</b></div>"
      ]
    },
    {
      "cell_type": "markdown",
      "metadata": {
        "id": "m88yYO0qT_0R"
      },
      "source": [
        "<div class=\"alert alert-block alert-info\">\n",
        "<b>tf.keras.callbacks.EarlyStopping</b><br>\n",
        "https://www.tensorflow.org/api_docs/python/tf/keras/callbacks/EarlyStopping</div>"
      ]
    },
    {
      "cell_type": "markdown",
      "metadata": {
        "id": "-08cH7qgT_0R"
      },
      "source": [
        "<div class=\"alert alert-block alert-info\">\n",
        "<b>tf.keras.callbacks.ModelCheckpoint</b><br>\n",
        "https://www.tensorflow.org/api_docs/python/tf/keras/callbacks/ModelCheckpoint</div>"
      ]
    },
    {
      "cell_type": "code",
      "execution_count": null,
      "metadata": {
        "colab": {
          "base_uri": "https://localhost:8080/"
        },
        "id": "JF67tVFKBQS-",
        "outputId": "3e339974-5d91-46ba-9515-e43b6618aa1a",
        "scrolled": false
      },
      "outputs": [
        {
          "output_type": "stream",
          "name": "stdout",
          "text": [
            "Epoch 1/200\n",
            "704/704 [==============================] - 5s 4ms/step - loss: 1.9200 - accuracy: 0.3127 - val_loss: 1.7849 - val_accuracy: 0.3652\n",
            "Epoch 2/200\n",
            " 56/704 [=>............................] - ETA: 1s - loss: 1.7976 - accuracy: 0.3585"
          ]
        },
        {
          "output_type": "stream",
          "name": "stderr",
          "text": [
            "/usr/local/lib/python3.10/dist-packages/keras/src/engine/training.py:3103: UserWarning: You are saving your model as an HDF5 file via `model.save()`. This file format is considered legacy. We recommend using instead the native Keras format, e.g. `model.save('my_model.keras')`.\n",
            "  saving_api.save_model(\n"
          ]
        },
        {
          "output_type": "stream",
          "name": "stdout",
          "text": [
            "704/704 [==============================] - 2s 3ms/step - loss: 1.7287 - accuracy: 0.3833 - val_loss: 1.7065 - val_accuracy: 0.3890\n",
            "Epoch 3/200\n",
            "704/704 [==============================] - 2s 3ms/step - loss: 1.6576 - accuracy: 0.4077 - val_loss: 1.6389 - val_accuracy: 0.4062\n",
            "Epoch 4/200\n",
            "704/704 [==============================] - 2s 3ms/step - loss: 1.5981 - accuracy: 0.4298 - val_loss: 1.6248 - val_accuracy: 0.4168\n",
            "Epoch 5/200\n",
            "704/704 [==============================] - 2s 3ms/step - loss: 1.5605 - accuracy: 0.4445 - val_loss: 1.6966 - val_accuracy: 0.4032\n",
            "Epoch 6/200\n",
            "704/704 [==============================] - 2s 3ms/step - loss: 1.5322 - accuracy: 0.4545 - val_loss: 1.5651 - val_accuracy: 0.4320\n",
            "Epoch 7/200\n",
            "704/704 [==============================] - 2s 3ms/step - loss: 1.5026 - accuracy: 0.4675 - val_loss: 1.5659 - val_accuracy: 0.4334\n",
            "Epoch 8/200\n",
            "704/704 [==============================] - 2s 3ms/step - loss: 1.4820 - accuracy: 0.4728 - val_loss: 1.5403 - val_accuracy: 0.4444\n",
            "Epoch 9/200\n",
            "704/704 [==============================] - 2s 3ms/step - loss: 1.4696 - accuracy: 0.4773 - val_loss: 1.5158 - val_accuracy: 0.4564\n",
            "Epoch 10/200\n",
            "704/704 [==============================] - 2s 3ms/step - loss: 1.4510 - accuracy: 0.4854 - val_loss: 1.5405 - val_accuracy: 0.4502\n",
            "Epoch 11/200\n",
            "704/704 [==============================] - 2s 3ms/step - loss: 1.4344 - accuracy: 0.4888 - val_loss: 1.5755 - val_accuracy: 0.4300\n",
            "Epoch 12/200\n",
            "704/704 [==============================] - 2s 3ms/step - loss: 1.4242 - accuracy: 0.4920 - val_loss: 1.5250 - val_accuracy: 0.4604\n",
            "Epoch 13/200\n",
            "704/704 [==============================] - 2s 3ms/step - loss: 1.4086 - accuracy: 0.5028 - val_loss: 1.5152 - val_accuracy: 0.4554\n",
            "Epoch 14/200\n",
            "704/704 [==============================] - 2s 3ms/step - loss: 1.4035 - accuracy: 0.4999 - val_loss: 1.5042 - val_accuracy: 0.4596\n",
            "Epoch 15/200\n",
            "704/704 [==============================] - 2s 3ms/step - loss: 1.3891 - accuracy: 0.5057 - val_loss: 1.5071 - val_accuracy: 0.4624\n",
            "Epoch 16/200\n",
            "704/704 [==============================] - 2s 3ms/step - loss: 1.3770 - accuracy: 0.5131 - val_loss: 1.4955 - val_accuracy: 0.4640\n",
            "Epoch 17/200\n",
            "704/704 [==============================] - 2s 3ms/step - loss: 1.3696 - accuracy: 0.5135 - val_loss: 1.5373 - val_accuracy: 0.4520\n",
            "Epoch 18/200\n",
            "704/704 [==============================] - 2s 3ms/step - loss: 1.3573 - accuracy: 0.5169 - val_loss: 1.5182 - val_accuracy: 0.4556\n",
            "Epoch 19/200\n",
            "704/704 [==============================] - 2s 3ms/step - loss: 1.3536 - accuracy: 0.5177 - val_loss: 1.5166 - val_accuracy: 0.4560\n"
          ]
        }
      ],
      "source": [
        "# Train the model with specified parameters\n",
        "history = model.fit(\n",
        "    x_train_norm, y_train_split,\n",
        "    epochs=200,\n",
        "    batch_size=64,\n",
        "    validation_data=(x_valid_norm, y_valid_split),\n",
        "    callbacks=[\n",
        "        tf.keras.callbacks.ModelCheckpoint(\"DNN_model.h5\", save_best_only=True, save_weights_only=False),\n",
        "        tf.keras.callbacks.EarlyStopping(monitor='val_accuracy', patience=3)\n",
        "    ]\n",
        ")"
      ]
    },
    {
      "cell_type": "markdown",
      "metadata": {
        "id": "Y8bj0gb4BQS_"
      },
      "source": [
        "## Evaluate the model"
      ]
    },
    {
      "cell_type": "markdown",
      "metadata": {
        "id": "fCENqAxPBQS_"
      },
      "source": [
        "In order to ensure that this is not a simple \"memorization\" by the machine, we should evaluate the performance on the test set. This is easy to do, we simply use the `evaluate` method on our model."
      ]
    },
    {
      "cell_type": "code",
      "execution_count": null,
      "metadata": {
        "colab": {
          "base_uri": "https://localhost:8080/"
        },
        "id": "n5ou4G4FBQS_",
        "outputId": "60730082-beb1-43c5-af9c-2ec22f6200c7"
      },
      "outputs": [
        {
          "output_type": "stream",
          "name": "stdout",
          "text": [
            "313/313 [==============================] - 1s 2ms/step - loss: 1.4591 - accuracy: 0.4815\n",
            "Test acc: 0.481\n"
          ]
        }
      ],
      "source": [
        "model = tf.keras.models.load_model(\"DNN_model.h5\")\n",
        "print(f\"Test acc: {model.evaluate(x_test_norm, y_test)[1]:.3f}\")"
      ]
    },
    {
      "cell_type": "markdown",
      "metadata": {
        "id": "SnGY6erRBQS_"
      },
      "source": [
        "## Predictions"
      ]
    },
    {
      "cell_type": "code",
      "execution_count": null,
      "metadata": {
        "colab": {
          "base_uri": "https://localhost:8080/"
        },
        "id": "RFDcNklXBQS_",
        "outputId": "e2f18eff-4a84-4324-9d2c-bf1e8499208d"
      },
      "outputs": [
        {
          "output_type": "stream",
          "name": "stdout",
          "text": [
            "313/313 [==============================] - 1s 1ms/step\n",
            "shape of preds:  (10000, 10)\n"
          ]
        }
      ],
      "source": [
        "preds = model.predict(x_test_norm)\n",
        "print('shape of preds: ', preds.shape)"
      ]
    },
    {
      "cell_type": "markdown",
      "metadata": {
        "id": "Q1dk3sX1BQS_"
      },
      "source": [
        "## Plotting Performance Metrics\n",
        "\n",
        "We use Matplotlib to create 2 plots--displaying the training and validation loss (resp. accuracy) for each (training) epoch side by side."
      ]
    },
    {
      "cell_type": "code",
      "execution_count": null,
      "metadata": {
        "colab": {
          "base_uri": "https://localhost:8080/"
        },
        "id": "ROIyEsUtBQS_",
        "outputId": "d3df933e-8de9-40fa-d3fa-e91435c29c8e"
      },
      "outputs": [
        {
          "output_type": "execute_result",
          "data": {
            "text/plain": [
              "dict_keys(['loss', 'accuracy', 'val_loss', 'val_accuracy'])"
            ]
          },
          "metadata": {},
          "execution_count": 28
        }
      ],
      "source": [
        "history_dict = history.history\n",
        "history_dict.keys()"
      ]
    },
    {
      "cell_type": "code",
      "execution_count": null,
      "metadata": {
        "colab": {
          "base_uri": "https://localhost:8080/",
          "height": 206
        },
        "id": "NxYHCMOlBQS_",
        "outputId": "8e467d18-fb4a-4539-b8b2-493b2b3793e2"
      },
      "outputs": [
        {
          "output_type": "execute_result",
          "data": {
            "text/plain": [
              "     loss  accuracy  val_loss  val_accuracy\n",
              "14  1.389     0.506     1.507         0.462\n",
              "15  1.377     0.513     1.495         0.464\n",
              "16  1.370     0.513     1.537         0.452\n",
              "17  1.357     0.517     1.518         0.456\n",
              "18  1.354     0.518     1.517         0.456"
            ],
            "text/html": [
              "\n",
              "  <div id=\"df-1c6d6429-3543-4e55-a09c-c5ff2b71d155\" class=\"colab-df-container\">\n",
              "    <div>\n",
              "<style scoped>\n",
              "    .dataframe tbody tr th:only-of-type {\n",
              "        vertical-align: middle;\n",
              "    }\n",
              "\n",
              "    .dataframe tbody tr th {\n",
              "        vertical-align: top;\n",
              "    }\n",
              "\n",
              "    .dataframe thead th {\n",
              "        text-align: right;\n",
              "    }\n",
              "</style>\n",
              "<table border=\"1\" class=\"dataframe\">\n",
              "  <thead>\n",
              "    <tr style=\"text-align: right;\">\n",
              "      <th></th>\n",
              "      <th>loss</th>\n",
              "      <th>accuracy</th>\n",
              "      <th>val_loss</th>\n",
              "      <th>val_accuracy</th>\n",
              "    </tr>\n",
              "  </thead>\n",
              "  <tbody>\n",
              "    <tr>\n",
              "      <th>14</th>\n",
              "      <td>1.389</td>\n",
              "      <td>0.506</td>\n",
              "      <td>1.507</td>\n",
              "      <td>0.462</td>\n",
              "    </tr>\n",
              "    <tr>\n",
              "      <th>15</th>\n",
              "      <td>1.377</td>\n",
              "      <td>0.513</td>\n",
              "      <td>1.495</td>\n",
              "      <td>0.464</td>\n",
              "    </tr>\n",
              "    <tr>\n",
              "      <th>16</th>\n",
              "      <td>1.370</td>\n",
              "      <td>0.513</td>\n",
              "      <td>1.537</td>\n",
              "      <td>0.452</td>\n",
              "    </tr>\n",
              "    <tr>\n",
              "      <th>17</th>\n",
              "      <td>1.357</td>\n",
              "      <td>0.517</td>\n",
              "      <td>1.518</td>\n",
              "      <td>0.456</td>\n",
              "    </tr>\n",
              "    <tr>\n",
              "      <th>18</th>\n",
              "      <td>1.354</td>\n",
              "      <td>0.518</td>\n",
              "      <td>1.517</td>\n",
              "      <td>0.456</td>\n",
              "    </tr>\n",
              "  </tbody>\n",
              "</table>\n",
              "</div>\n",
              "    <div class=\"colab-df-buttons\">\n",
              "\n",
              "  <div class=\"colab-df-container\">\n",
              "    <button class=\"colab-df-convert\" onclick=\"convertToInteractive('df-1c6d6429-3543-4e55-a09c-c5ff2b71d155')\"\n",
              "            title=\"Convert this dataframe to an interactive table.\"\n",
              "            style=\"display:none;\">\n",
              "\n",
              "  <svg xmlns=\"http://www.w3.org/2000/svg\" height=\"24px\" viewBox=\"0 -960 960 960\">\n",
              "    <path d=\"M120-120v-720h720v720H120Zm60-500h600v-160H180v160Zm220 220h160v-160H400v160Zm0 220h160v-160H400v160ZM180-400h160v-160H180v160Zm440 0h160v-160H620v160ZM180-180h160v-160H180v160Zm440 0h160v-160H620v160Z\"/>\n",
              "  </svg>\n",
              "    </button>\n",
              "\n",
              "  <style>\n",
              "    .colab-df-container {\n",
              "      display:flex;\n",
              "      gap: 12px;\n",
              "    }\n",
              "\n",
              "    .colab-df-convert {\n",
              "      background-color: #E8F0FE;\n",
              "      border: none;\n",
              "      border-radius: 50%;\n",
              "      cursor: pointer;\n",
              "      display: none;\n",
              "      fill: #1967D2;\n",
              "      height: 32px;\n",
              "      padding: 0 0 0 0;\n",
              "      width: 32px;\n",
              "    }\n",
              "\n",
              "    .colab-df-convert:hover {\n",
              "      background-color: #E2EBFA;\n",
              "      box-shadow: 0px 1px 2px rgba(60, 64, 67, 0.3), 0px 1px 3px 1px rgba(60, 64, 67, 0.15);\n",
              "      fill: #174EA6;\n",
              "    }\n",
              "\n",
              "    .colab-df-buttons div {\n",
              "      margin-bottom: 4px;\n",
              "    }\n",
              "\n",
              "    [theme=dark] .colab-df-convert {\n",
              "      background-color: #3B4455;\n",
              "      fill: #D2E3FC;\n",
              "    }\n",
              "\n",
              "    [theme=dark] .colab-df-convert:hover {\n",
              "      background-color: #434B5C;\n",
              "      box-shadow: 0px 1px 3px 1px rgba(0, 0, 0, 0.15);\n",
              "      filter: drop-shadow(0px 1px 2px rgba(0, 0, 0, 0.3));\n",
              "      fill: #FFFFFF;\n",
              "    }\n",
              "  </style>\n",
              "\n",
              "    <script>\n",
              "      const buttonEl =\n",
              "        document.querySelector('#df-1c6d6429-3543-4e55-a09c-c5ff2b71d155 button.colab-df-convert');\n",
              "      buttonEl.style.display =\n",
              "        google.colab.kernel.accessAllowed ? 'block' : 'none';\n",
              "\n",
              "      async function convertToInteractive(key) {\n",
              "        const element = document.querySelector('#df-1c6d6429-3543-4e55-a09c-c5ff2b71d155');\n",
              "        const dataTable =\n",
              "          await google.colab.kernel.invokeFunction('convertToInteractive',\n",
              "                                                    [key], {});\n",
              "        if (!dataTable) return;\n",
              "\n",
              "        const docLinkHtml = 'Like what you see? Visit the ' +\n",
              "          '<a target=\"_blank\" href=https://colab.research.google.com/notebooks/data_table.ipynb>data table notebook</a>'\n",
              "          + ' to learn more about interactive tables.';\n",
              "        element.innerHTML = '';\n",
              "        dataTable['output_type'] = 'display_data';\n",
              "        await google.colab.output.renderOutput(dataTable, element);\n",
              "        const docLink = document.createElement('div');\n",
              "        docLink.innerHTML = docLinkHtml;\n",
              "        element.appendChild(docLink);\n",
              "      }\n",
              "    </script>\n",
              "  </div>\n",
              "\n",
              "\n",
              "<div id=\"df-4723ff95-896a-4934-b335-7f921ebf09c1\">\n",
              "  <button class=\"colab-df-quickchart\" onclick=\"quickchart('df-4723ff95-896a-4934-b335-7f921ebf09c1')\"\n",
              "            title=\"Suggest charts\"\n",
              "            style=\"display:none;\">\n",
              "\n",
              "<svg xmlns=\"http://www.w3.org/2000/svg\" height=\"24px\"viewBox=\"0 0 24 24\"\n",
              "     width=\"24px\">\n",
              "    <g>\n",
              "        <path d=\"M19 3H5c-1.1 0-2 .9-2 2v14c0 1.1.9 2 2 2h14c1.1 0 2-.9 2-2V5c0-1.1-.9-2-2-2zM9 17H7v-7h2v7zm4 0h-2V7h2v10zm4 0h-2v-4h2v4z\"/>\n",
              "    </g>\n",
              "</svg>\n",
              "  </button>\n",
              "\n",
              "<style>\n",
              "  .colab-df-quickchart {\n",
              "      --bg-color: #E8F0FE;\n",
              "      --fill-color: #1967D2;\n",
              "      --hover-bg-color: #E2EBFA;\n",
              "      --hover-fill-color: #174EA6;\n",
              "      --disabled-fill-color: #AAA;\n",
              "      --disabled-bg-color: #DDD;\n",
              "  }\n",
              "\n",
              "  [theme=dark] .colab-df-quickchart {\n",
              "      --bg-color: #3B4455;\n",
              "      --fill-color: #D2E3FC;\n",
              "      --hover-bg-color: #434B5C;\n",
              "      --hover-fill-color: #FFFFFF;\n",
              "      --disabled-bg-color: #3B4455;\n",
              "      --disabled-fill-color: #666;\n",
              "  }\n",
              "\n",
              "  .colab-df-quickchart {\n",
              "    background-color: var(--bg-color);\n",
              "    border: none;\n",
              "    border-radius: 50%;\n",
              "    cursor: pointer;\n",
              "    display: none;\n",
              "    fill: var(--fill-color);\n",
              "    height: 32px;\n",
              "    padding: 0;\n",
              "    width: 32px;\n",
              "  }\n",
              "\n",
              "  .colab-df-quickchart:hover {\n",
              "    background-color: var(--hover-bg-color);\n",
              "    box-shadow: 0 1px 2px rgba(60, 64, 67, 0.3), 0 1px 3px 1px rgba(60, 64, 67, 0.15);\n",
              "    fill: var(--button-hover-fill-color);\n",
              "  }\n",
              "\n",
              "  .colab-df-quickchart-complete:disabled,\n",
              "  .colab-df-quickchart-complete:disabled:hover {\n",
              "    background-color: var(--disabled-bg-color);\n",
              "    fill: var(--disabled-fill-color);\n",
              "    box-shadow: none;\n",
              "  }\n",
              "\n",
              "  .colab-df-spinner {\n",
              "    border: 2px solid var(--fill-color);\n",
              "    border-color: transparent;\n",
              "    border-bottom-color: var(--fill-color);\n",
              "    animation:\n",
              "      spin 1s steps(1) infinite;\n",
              "  }\n",
              "\n",
              "  @keyframes spin {\n",
              "    0% {\n",
              "      border-color: transparent;\n",
              "      border-bottom-color: var(--fill-color);\n",
              "      border-left-color: var(--fill-color);\n",
              "    }\n",
              "    20% {\n",
              "      border-color: transparent;\n",
              "      border-left-color: var(--fill-color);\n",
              "      border-top-color: var(--fill-color);\n",
              "    }\n",
              "    30% {\n",
              "      border-color: transparent;\n",
              "      border-left-color: var(--fill-color);\n",
              "      border-top-color: var(--fill-color);\n",
              "      border-right-color: var(--fill-color);\n",
              "    }\n",
              "    40% {\n",
              "      border-color: transparent;\n",
              "      border-right-color: var(--fill-color);\n",
              "      border-top-color: var(--fill-color);\n",
              "    }\n",
              "    60% {\n",
              "      border-color: transparent;\n",
              "      border-right-color: var(--fill-color);\n",
              "    }\n",
              "    80% {\n",
              "      border-color: transparent;\n",
              "      border-right-color: var(--fill-color);\n",
              "      border-bottom-color: var(--fill-color);\n",
              "    }\n",
              "    90% {\n",
              "      border-color: transparent;\n",
              "      border-bottom-color: var(--fill-color);\n",
              "    }\n",
              "  }\n",
              "</style>\n",
              "\n",
              "  <script>\n",
              "    async function quickchart(key) {\n",
              "      const quickchartButtonEl =\n",
              "        document.querySelector('#' + key + ' button');\n",
              "      quickchartButtonEl.disabled = true;  // To prevent multiple clicks.\n",
              "      quickchartButtonEl.classList.add('colab-df-spinner');\n",
              "      try {\n",
              "        const charts = await google.colab.kernel.invokeFunction(\n",
              "            'suggestCharts', [key], {});\n",
              "      } catch (error) {\n",
              "        console.error('Error during call to suggestCharts:', error);\n",
              "      }\n",
              "      quickchartButtonEl.classList.remove('colab-df-spinner');\n",
              "      quickchartButtonEl.classList.add('colab-df-quickchart-complete');\n",
              "    }\n",
              "    (() => {\n",
              "      let quickchartButtonEl =\n",
              "        document.querySelector('#df-4723ff95-896a-4934-b335-7f921ebf09c1 button');\n",
              "      quickchartButtonEl.style.display =\n",
              "        google.colab.kernel.accessAllowed ? 'block' : 'none';\n",
              "    })();\n",
              "  </script>\n",
              "</div>\n",
              "\n",
              "    </div>\n",
              "  </div>\n"
            ],
            "application/vnd.google.colaboratory.intrinsic+json": {
              "type": "dataframe",
              "summary": "{\n  \"name\": \"history_df\",\n  \"rows\": 5,\n  \"fields\": [\n    {\n      \"column\": \"loss\",\n      \"properties\": {\n        \"dtype\": \"number\",\n        \"std\": 0.014432601983010532,\n        \"min\": 1.354,\n        \"max\": 1.389,\n        \"num_unique_values\": 5,\n        \"samples\": [\n          1.377,\n          1.354,\n          1.37\n        ],\n        \"semantic_type\": \"\",\n        \"description\": \"\"\n      }\n    },\n    {\n      \"column\": \"accuracy\",\n      \"properties\": {\n        \"dtype\": \"number\",\n        \"std\": 0.004722287581247042,\n        \"min\": 0.506,\n        \"max\": 0.518,\n        \"num_unique_values\": 4,\n        \"samples\": [\n          0.513,\n          0.518,\n          0.506\n        ],\n        \"semantic_type\": \"\",\n        \"description\": \"\"\n      }\n    },\n    {\n      \"column\": \"val_loss\",\n      \"properties\": {\n        \"dtype\": \"number\",\n        \"std\": 0.015498387012847446,\n        \"min\": 1.495,\n        \"max\": 1.537,\n        \"num_unique_values\": 5,\n        \"samples\": [\n          1.495,\n          1.517,\n          1.537\n        ],\n        \"semantic_type\": \"\",\n        \"description\": \"\"\n      }\n    },\n    {\n      \"column\": \"val_accuracy\",\n      \"properties\": {\n        \"dtype\": \"number\",\n        \"std\": 0.00489897948556636,\n        \"min\": 0.452,\n        \"max\": 0.464,\n        \"num_unique_values\": 4,\n        \"samples\": [\n          0.464,\n          0.456,\n          0.462\n        ],\n        \"semantic_type\": \"\",\n        \"description\": \"\"\n      }\n    }\n  ]\n}"
            }
          },
          "metadata": {},
          "execution_count": 29
        }
      ],
      "source": [
        "history_df=pd.DataFrame(history_dict)\n",
        "history_df.tail().round(3)"
      ]
    },
    {
      "cell_type": "markdown",
      "metadata": {
        "id": "gqyx8kCcO6Ye"
      },
      "source": [
        "## Plot Training Metrics (Loss and Accuracy)"
      ]
    },
    {
      "cell_type": "code",
      "execution_count": null,
      "metadata": {
        "colab": {
          "base_uri": "https://localhost:8080/",
          "height": 1000
        },
        "id": "6nj9PlMmcRUo",
        "outputId": "8930c84b-087a-4e18-d936-c02fd32896d0"
      },
      "outputs": [
        {
          "output_type": "stream",
          "name": "stderr",
          "text": [
            "<ipython-input-7-353fbae40d9a>:17: MatplotlibDeprecationWarning: Auto-removal of overlapping axes is deprecated since 3.6 and will be removed two minor releases later; explicitly call ax.remove() as needed.\n",
            "  ax = plt.subplot(subplot)\n"
          ]
        },
        {
          "output_type": "display_data",
          "data": {
            "text/plain": [
              "<Figure size 1600x1200 with 2 Axes>"
            ],
            "image/png": "[encoded data removed]"
          },
          "metadata": {}
        }
      ],
      "source": [
        "plt.subplots(figsize=(16,12))\n",
        "plt.tight_layout()\n",
        "display_training_curves(history_df['accuracy'], history_df['val_accuracy'], 'accuracy', 211)\n",
        "display_training_curves(history_df['loss'], history_df['val_loss'], 'loss', 212)"
      ]
    },
    {
      "cell_type": "markdown",
      "metadata": {
        "id": "eo4quLxCBQTA"
      },
      "source": [
        "## Confusion matrices\n",
        "Using both `sklearn.metrics`. Then we visualize the confusion matrix and see what that tells us."
      ]
    },
    {
      "cell_type": "code",
      "execution_count": null,
      "metadata": {
        "colab": {
          "base_uri": "https://localhost:8080/"
        },
        "id": "SJQl4PTC1z3b",
        "outputId": "504af14a-4f66-4537-933d-9c6a911446dc"
      },
      "outputs": [
        {
          "output_type": "stream",
          "name": "stdout",
          "text": [
            "313/313 [==============================] - 0s 1ms/step\n"
          ]
        }
      ],
      "source": [
        "pred1= model.predict(x_test_norm)\n",
        "pred1=np.argmax(pred1, axis=1)"
      ]
    },
    {
      "cell_type": "code",
      "execution_count": null,
      "metadata": {
        "colab": {
          "base_uri": "https://localhost:8080/"
        },
        "id": "bGmYQw9J142G",
        "outputId": "5d29d6f6-754b-466d-d432-a92d03f443e1"
      },
      "outputs": [
        {
          "output_type": "stream",
          "name": "stdout",
          "text": [
            "Classification Report\n",
            "              precision    recall  f1-score   support\n",
            "\n",
            "           0       0.51      0.52      0.51      1000\n",
            "           1       0.65      0.56      0.60      1000\n",
            "           2       0.40      0.28      0.33      1000\n",
            "           3       0.35      0.33      0.34      1000\n",
            "           4       0.37      0.54      0.44      1000\n",
            "           5       0.49      0.26      0.34      1000\n",
            "           6       0.46      0.59      0.52      1000\n",
            "           7       0.53      0.53      0.53      1000\n",
            "           8       0.55      0.67      0.60      1000\n",
            "           9       0.54      0.54      0.54      1000\n",
            "\n",
            "    accuracy                           0.48     10000\n",
            "   macro avg       0.49      0.48      0.48     10000\n",
            "weighted avg       0.49      0.48      0.48     10000\n",
            "\n",
            "Accuracy Score: 0.4815\n",
            "Root Mean Square Error: 3.131006228035965\n"
          ]
        }
      ],
      "source": [
        "print_validation_report(y_test, pred1)"
      ]
    },
    {
      "cell_type": "code",
      "execution_count": null,
      "metadata": {
        "colab": {
          "base_uri": "https://localhost:8080/",
          "height": 1000
        },
        "id": "26OXI2N22D4B",
        "outputId": "085d4992-2d73-4d4e-ac09-9c5664e68d6e"
      },
      "outputs": [
        {
          "output_type": "display_data",
          "data": {
            "text/plain": [
              "<Figure size 1600x1200 with 1 Axes>"
            ],
            "image/png": "[encoded data removed]"
          },
          "metadata": {}
        }
      ],
      "source": [
        "plot_confusion_matrix(y_test,pred1)"
      ]
    },
    {
      "cell_type": "markdown",
      "metadata": {
        "id": "7uyMNPRdBQTA"
      },
      "source": [
        "## Load HDF5 Model Format"
      ]
    },
    {
      "cell_type": "markdown",
      "metadata": {
        "id": "PRoYhaAVT_0T"
      },
      "source": [
        "<div class=\"alert alert-block alert-info\">\n",
        "<b>tf.keras.models.load_model</b><br>\n",
        "https://www.tensorflow.org/api_docs/python/tf/keras/models/load_model</div>"
      ]
    },
    {
      "cell_type": "code",
      "execution_count": null,
      "metadata": {
        "id": "QjE3aqniBQTA"
      },
      "outputs": [],
      "source": [
        "model = tf.keras.models.load_model('DNN_model.h5')"
      ]
    },
    {
      "cell_type": "code",
      "execution_count": null,
      "metadata": {
        "colab": {
          "base_uri": "https://localhost:8080/"
        },
        "id": "LzxYqvOVBQTA",
        "outputId": "6af8dd3e-6994-4553-d81c-4ee6fc21a0c5"
      },
      "outputs": [
        {
          "output_type": "stream",
          "name": "stdout",
          "text": [
            "313/313 [==============================] - 0s 1ms/step\n"
          ]
        }
      ],
      "source": [
        "preds = model.predict(x_test_norm)"
      ]
    },
    {
      "cell_type": "code",
      "execution_count": null,
      "metadata": {
        "colab": {
          "base_uri": "https://localhost:8080/"
        },
        "id": "fOIByBY-BQTA",
        "outputId": "cc4e5911-8f67-4504-b559-fbbf285ed7f9"
      },
      "outputs": [
        {
          "output_type": "execute_result",
          "data": {
            "text/plain": [
              "(10000, 10)"
            ]
          },
          "metadata": {},
          "execution_count": 36
        }
      ],
      "source": [
        "preds.shape"
      ]
    },
    {
      "cell_type": "markdown",
      "metadata": {
        "id": "q1h-XqX5BQTB"
      },
      "source": [
        "\n"
      ]
    },
    {
      "cell_type": "markdown",
      "metadata": {
        "id": "qgK4yZt4BQTB"
      },
      "source": [
        "## Predictions"
      ]
    },
    {
      "cell_type": "code",
      "execution_count": null,
      "metadata": {
        "id": "yur69upzBQTB"
      },
      "outputs": [],
      "source": [
        "cm = sns.light_palette((260, 75, 60), input=\"husl\", as_cmap=True)"
      ]
    },
    {
      "cell_type": "code",
      "execution_count": null,
      "metadata": {
        "colab": {
          "base_uri": "https://localhost:8080/",
          "height": 676
        },
        "id": "FoXrnXb8BQTB",
        "outputId": "dd15eced-dec6-4b96-9b0d-ecb6d63e548d"
      },
      "outputs": [
        {
          "output_type": "execute_result",
          "data": {
            "text/plain": [
              "<pandas.io.formats.style.Styler at 0x79eedc093ca0>"
            ],
            "text/html": [
              "<style type=\"text/css\">\n",
              "#T_0a8c9_row0_col0, #T_0a8c9_row4_col2, #T_0a8c9_row7_col1, #T_0a8c9_row12_col1, #T_0a8c9_row17_col6 {\n",
              "  background-color: #dee1f0;\n",
              "  color: #000000;\n",
              "}\n",
              "#T_0a8c9_row0_col1 {\n",
              "  background-color: #cdd3ee;\n",
              "  color: #000000;\n",
              "}\n",
              "#T_0a8c9_row0_col2 {\n",
              "  background-color: #96a6e7;\n",
              "  color: #f1f1f1;\n",
              "}\n",
              "#T_0a8c9_row0_col3 {\n",
              "  background-color: #b5bfeb;\n",
              "  color: #000000;\n",
              "}\n",
              "#T_0a8c9_row0_col4, #T_0a8c9_row16_col7, #T_0a8c9_row19_col5 {\n",
              "  background-color: #e7e9f1;\n",
              "  color: #000000;\n",
              "}\n",
              "#T_0a8c9_row0_col5, #T_0a8c9_row2_col0, #T_0a8c9_row6_col1, #T_0a8c9_row8_col3, #T_0a8c9_row17_col4, #T_0a8c9_row18_col0 {\n",
              "  background-color: #ccd2ee;\n",
              "  color: #000000;\n",
              "}\n",
              "#T_0a8c9_row0_col6, #T_0a8c9_row3_col9 {\n",
              "  background-color: #dbdff0;\n",
              "  color: #000000;\n",
              "}\n",
              "#T_0a8c9_row0_col7, #T_0a8c9_row3_col4, #T_0a8c9_row5_col1, #T_0a8c9_row7_col9, #T_0a8c9_row9_col6, #T_0a8c9_row10_col6 {\n",
              "  background-color: #efeff2;\n",
              "  color: #000000;\n",
              "}\n",
              "#T_0a8c9_row0_col8, #T_0a8c9_row6_col2, #T_0a8c9_row6_col7, #T_0a8c9_row9_col3, #T_0a8c9_row13_col9, #T_0a8c9_row14_col0, #T_0a8c9_row15_col3, #T_0a8c9_row16_col1 {\n",
              "  background-color: #ebecf2;\n",
              "  color: #000000;\n",
              "}\n",
              "#T_0a8c9_row0_col9, #T_0a8c9_row3_col3, #T_0a8c9_row4_col3, #T_0a8c9_row4_col5, #T_0a8c9_row9_col7, #T_0a8c9_row11_col0, #T_0a8c9_row15_col6, #T_0a8c9_row16_col4, #T_0a8c9_row16_col6, #T_0a8c9_row16_col9, #T_0a8c9_row19_col4 {\n",
              "  background-color: #eeeff2;\n",
              "  color: #000000;\n",
              "}\n",
              "#T_0a8c9_row1_col0, #T_0a8c9_row3_col1, #T_0a8c9_row6_col9, #T_0a8c9_row13_col1 {\n",
              "  background-color: #e0e3f0;\n",
              "  color: #000000;\n",
              "}\n",
              "#T_0a8c9_row1_col1 {\n",
              "  background-color: #d6dbef;\n",
              "  color: #000000;\n",
              "}\n",
              "#T_0a8c9_row1_col2, #T_0a8c9_row4_col8, #T_0a8c9_row7_col8, #T_0a8c9_row8_col9, #T_0a8c9_row9_col4, #T_0a8c9_row10_col1, #T_0a8c9_row10_col4, #T_0a8c9_row10_col9, #T_0a8c9_row13_col5, #T_0a8c9_row13_col8, #T_0a8c9_row15_col7, #T_0a8c9_row17_col8, #T_0a8c9_row18_col2, #T_0a8c9_row18_col4, #T_0a8c9_row18_col7, #T_0a8c9_row19_col9 {\n",
              "  background-color: #f0f0f2;\n",
              "  color: #000000;\n",
              "}\n",
              "#T_0a8c9_row1_col3, #T_0a8c9_row1_col4, #T_0a8c9_row1_col5, #T_0a8c9_row1_col6, #T_0a8c9_row1_col7, #T_0a8c9_row2_col2, #T_0a8c9_row2_col3, #T_0a8c9_row2_col4, #T_0a8c9_row2_col5, #T_0a8c9_row2_col6, #T_0a8c9_row2_col7, #T_0a8c9_row3_col6, #T_0a8c9_row4_col0, #T_0a8c9_row4_col1, #T_0a8c9_row4_col7, #T_0a8c9_row4_col9, #T_0a8c9_row5_col8, #T_0a8c9_row6_col4, #T_0a8c9_row7_col7, #T_0a8c9_row8_col8, #T_0a8c9_row10_col7, #T_0a8c9_row11_col2, #T_0a8c9_row11_col3, #T_0a8c9_row11_col4, #T_0a8c9_row11_col5, #T_0a8c9_row11_col6, #T_0a8c9_row11_col7, #T_0a8c9_row13_col4, #T_0a8c9_row13_col6, #T_0a8c9_row14_col4, #T_0a8c9_row14_col6, #T_0a8c9_row14_col8, #T_0a8c9_row15_col1, #T_0a8c9_row16_col8, #T_0a8c9_row17_col1, #T_0a8c9_row18_col3, #T_0a8c9_row18_col5, #T_0a8c9_row18_col6, #T_0a8c9_row19_col0, #T_0a8c9_row19_col1, #T_0a8c9_row19_col8 {\n",
              "  background-color: #f0f1f2;\n",
              "  color: #000000;\n",
              "}\n",
              "#T_0a8c9_row1_col8 {\n",
              "  background-color: #ced4ee;\n",
              "  color: #000000;\n",
              "}\n",
              "#T_0a8c9_row1_col9, #T_0a8c9_row4_col4, #T_0a8c9_row8_col2, #T_0a8c9_row9_col1, #T_0a8c9_row10_col8, #T_0a8c9_row13_col0, #T_0a8c9_row13_col7, #T_0a8c9_row16_col3, #T_0a8c9_row16_col5, #T_0a8c9_row19_col6 {\n",
              "  background-color: #778ce4;\n",
              "  color: #f1f1f1;\n",
              "}\n",
              "#T_0a8c9_row2_col1 {\n",
              "  background-color: #c8cfed;\n",
              "  color: #000000;\n",
              "}\n",
              "#T_0a8c9_row2_col8 {\n",
              "  background-color: #9dace8;\n",
              "  color: #000000;\n",
              "}\n",
              "#T_0a8c9_row2_col9, #T_0a8c9_row15_col4 {\n",
              "  background-color: #dfe2f0;\n",
              "  color: #000000;\n",
              "}\n",
              "#T_0a8c9_row3_col0 {\n",
              "  background-color: #adb9ea;\n",
              "  color: #000000;\n",
              "}\n",
              "#T_0a8c9_row3_col2, #T_0a8c9_row3_col7, #T_0a8c9_row6_col6, #T_0a8c9_row8_col6, #T_0a8c9_row9_col8, #T_0a8c9_row12_col7, #T_0a8c9_row13_col2 {\n",
              "  background-color: #ecedf2;\n",
              "  color: #000000;\n",
              "}\n",
              "#T_0a8c9_row3_col5, #T_0a8c9_row8_col1, #T_0a8c9_row13_col3, #T_0a8c9_row15_col9 {\n",
              "  background-color: #eff0f2;\n",
              "  color: #000000;\n",
              "}\n",
              "#T_0a8c9_row3_col8 {\n",
              "  background-color: #a2afe9;\n",
              "  color: #000000;\n",
              "}\n",
              "#T_0a8c9_row4_col6, #T_0a8c9_row7_col3, #T_0a8c9_row7_col4, #T_0a8c9_row11_col8, #T_0a8c9_row16_col2 {\n",
              "  background-color: #e6e8f1;\n",
              "  color: #000000;\n",
              "}\n",
              "#T_0a8c9_row5_col0 {\n",
              "  background-color: #e5e7f1;\n",
              "  color: #000000;\n",
              "}\n",
              "#T_0a8c9_row5_col2 {\n",
              "  background-color: #d0d6ee;\n",
              "  color: #000000;\n",
              "}\n",
              "#T_0a8c9_row5_col3 {\n",
              "  background-color: #c0c9ec;\n",
              "  color: #000000;\n",
              "}\n",
              "#T_0a8c9_row5_col4 {\n",
              "  background-color: #e2e5f1;\n",
              "  color: #000000;\n",
              "}\n",
              "#T_0a8c9_row5_col5 {\n",
              "  background-color: #d3d8ef;\n",
              "  color: #000000;\n",
              "}\n",
              "#T_0a8c9_row5_col6 {\n",
              "  background-color: #9caae8;\n",
              "  color: #000000;\n",
              "}\n",
              "#T_0a8c9_row5_col7 {\n",
              "  background-color: #e4e7f1;\n",
              "  color: #000000;\n",
              "}\n",
              "#T_0a8c9_row5_col9, #T_0a8c9_row7_col5, #T_0a8c9_row9_col5, #T_0a8c9_row12_col9, #T_0a8c9_row14_col3, #T_0a8c9_row14_col5, #T_0a8c9_row16_col0 {\n",
              "  background-color: #edeef2;\n",
              "  color: #000000;\n",
              "}\n",
              "#T_0a8c9_row6_col0 {\n",
              "  background-color: #bcc5ec;\n",
              "  color: #000000;\n",
              "}\n",
              "#T_0a8c9_row6_col3 {\n",
              "  background-color: #9baae8;\n",
              "  color: #000000;\n",
              "}\n",
              "#T_0a8c9_row6_col5, #T_0a8c9_row8_col4, #T_0a8c9_row17_col0 {\n",
              "  background-color: #d5daef;\n",
              "  color: #000000;\n",
              "}\n",
              "#T_0a8c9_row6_col8 {\n",
              "  background-color: #e9eaf1;\n",
              "  color: #000000;\n",
              "}\n",
              "#T_0a8c9_row7_col0 {\n",
              "  background-color: #e3e5f1;\n",
              "  color: #000000;\n",
              "}\n",
              "#T_0a8c9_row7_col2 {\n",
              "  background-color: #adb8ea;\n",
              "  color: #000000;\n",
              "}\n",
              "#T_0a8c9_row7_col6, #T_0a8c9_row14_col9 {\n",
              "  background-color: #8295e5;\n",
              "  color: #f1f1f1;\n",
              "}\n",
              "#T_0a8c9_row8_col0 {\n",
              "  background-color: #bbc5ec;\n",
              "  color: #000000;\n",
              "}\n",
              "#T_0a8c9_row8_col5 {\n",
              "  background-color: #bfc7ec;\n",
              "  color: #000000;\n",
              "}\n",
              "#T_0a8c9_row8_col7, #T_0a8c9_row17_col7, #T_0a8c9_row19_col2 {\n",
              "  background-color: #d7dbef;\n",
              "  color: #000000;\n",
              "}\n",
              "#T_0a8c9_row9_col0, #T_0a8c9_row18_col9 {\n",
              "  background-color: #e8e9f1;\n",
              "  color: #000000;\n",
              "}\n",
              "#T_0a8c9_row9_col2 {\n",
              "  background-color: #cbd1ee;\n",
              "  color: #000000;\n",
              "}\n",
              "#T_0a8c9_row9_col9 {\n",
              "  background-color: #d7dcef;\n",
              "  color: #000000;\n",
              "}\n",
              "#T_0a8c9_row10_col0 {\n",
              "  background-color: #d1d6ee;\n",
              "  color: #000000;\n",
              "}\n",
              "#T_0a8c9_row10_col2, #T_0a8c9_row12_col0, #T_0a8c9_row17_col9 {\n",
              "  background-color: #ebedf2;\n",
              "  color: #000000;\n",
              "}\n",
              "#T_0a8c9_row10_col3, #T_0a8c9_row15_col2, #T_0a8c9_row18_col1 {\n",
              "  background-color: #eaebf1;\n",
              "  color: #000000;\n",
              "}\n",
              "#T_0a8c9_row10_col5 {\n",
              "  background-color: #e8eaf1;\n",
              "  color: #000000;\n",
              "}\n",
              "#T_0a8c9_row11_col1 {\n",
              "  background-color: #b1bceb;\n",
              "  color: #000000;\n",
              "}\n",
              "#T_0a8c9_row11_col9 {\n",
              "  background-color: #7a8ee4;\n",
              "  color: #f1f1f1;\n",
              "}\n",
              "#T_0a8c9_row12_col2 {\n",
              "  background-color: #cfd5ee;\n",
              "  color: #000000;\n",
              "}\n",
              "#T_0a8c9_row12_col3 {\n",
              "  background-color: #d1d7ee;\n",
              "  color: #000000;\n",
              "}\n",
              "#T_0a8c9_row12_col4 {\n",
              "  background-color: #dadef0;\n",
              "  color: #000000;\n",
              "}\n",
              "#T_0a8c9_row12_col5 {\n",
              "  background-color: #d8dcef;\n",
              "  color: #000000;\n",
              "}\n",
              "#T_0a8c9_row12_col6 {\n",
              "  background-color: #abb7ea;\n",
              "  color: #000000;\n",
              "}\n",
              "#T_0a8c9_row12_col8, #T_0a8c9_row14_col7 {\n",
              "  background-color: #e9ebf1;\n",
              "  color: #000000;\n",
              "}\n",
              "#T_0a8c9_row14_col1 {\n",
              "  background-color: #aebaea;\n",
              "  color: #000000;\n",
              "}\n",
              "#T_0a8c9_row14_col2 {\n",
              "  background-color: #dde1f0;\n",
              "  color: #000000;\n",
              "}\n",
              "#T_0a8c9_row15_col0 {\n",
              "  background-color: #e4e6f1;\n",
              "  color: #000000;\n",
              "}\n",
              "#T_0a8c9_row15_col5, #T_0a8c9_row17_col5 {\n",
              "  background-color: #d4d9ef;\n",
              "  color: #000000;\n",
              "}\n",
              "#T_0a8c9_row15_col8 {\n",
              "  background-color: #8a9ce6;\n",
              "  color: #f1f1f1;\n",
              "}\n",
              "#T_0a8c9_row17_col2 {\n",
              "  background-color: #95a5e7;\n",
              "  color: #f1f1f1;\n",
              "}\n",
              "#T_0a8c9_row17_col3 {\n",
              "  background-color: #c3cbed;\n",
              "  color: #000000;\n",
              "}\n",
              "#T_0a8c9_row18_col8 {\n",
              "  background-color: #7b8fe4;\n",
              "  color: #f1f1f1;\n",
              "}\n",
              "#T_0a8c9_row19_col3 {\n",
              "  background-color: #dce0f0;\n",
              "  color: #000000;\n",
              "}\n",
              "#T_0a8c9_row19_col7 {\n",
              "  background-color: #c2caed;\n",
              "  color: #000000;\n",
              "}\n",
              "</style>\n",
              "<table id=\"T_0a8c9\" class=\"dataframe\">\n",
              "  <thead>\n",
              "    <tr>\n",
              "      <th class=\"blank level0\" >&nbsp;</th>\n",
              "      <th id=\"T_0a8c9_level0_col0\" class=\"col_heading level0 col0\" >airplane</th>\n",
              "      <th id=\"T_0a8c9_level0_col1\" class=\"col_heading level0 col1\" >automobile</th>\n",
              "      <th id=\"T_0a8c9_level0_col2\" class=\"col_heading level0 col2\" >bird</th>\n",
              "      <th id=\"T_0a8c9_level0_col3\" class=\"col_heading level0 col3\" >cat</th>\n",
              "      <th id=\"T_0a8c9_level0_col4\" class=\"col_heading level0 col4\" >deer</th>\n",
              "      <th id=\"T_0a8c9_level0_col5\" class=\"col_heading level0 col5\" >dog</th>\n",
              "      <th id=\"T_0a8c9_level0_col6\" class=\"col_heading level0 col6\" >frog</th>\n",
              "      <th id=\"T_0a8c9_level0_col7\" class=\"col_heading level0 col7\" >horse</th>\n",
              "      <th id=\"T_0a8c9_level0_col8\" class=\"col_heading level0 col8\" >ship</th>\n",
              "      <th id=\"T_0a8c9_level0_col9\" class=\"col_heading level0 col9\" >truck</th>\n",
              "    </tr>\n",
              "  </thead>\n",
              "  <tbody>\n",
              "    <tr>\n",
              "      <th id=\"T_0a8c9_level0_row0\" class=\"row_heading level0 row0\" >0</th>\n",
              "      <td id=\"T_0a8c9_row0_col0\" class=\"data row0 col0\" >6.25%</td>\n",
              "      <td id=\"T_0a8c9_row0_col1\" class=\"data row0 col1\" >20.66%</td>\n",
              "      <td id=\"T_0a8c9_row0_col2\" class=\"data row0 col2\" >14.00%</td>\n",
              "      <td id=\"T_0a8c9_row0_col3\" class=\"data row0 col3\" >23.91%</td>\n",
              "      <td id=\"T_0a8c9_row0_col4\" class=\"data row0 col4\" >6.76%</td>\n",
              "      <td id=\"T_0a8c9_row0_col5\" class=\"data row0 col5\" >11.08%</td>\n",
              "      <td id=\"T_0a8c9_row0_col6\" class=\"data row0 col6\" >11.35%</td>\n",
              "      <td id=\"T_0a8c9_row0_col7\" class=\"data row0 col7\" >0.60%</td>\n",
              "      <td id=\"T_0a8c9_row0_col8\" class=\"data row0 col8\" >4.07%</td>\n",
              "      <td id=\"T_0a8c9_row0_col9\" class=\"data row0 col9\" >1.31%</td>\n",
              "    </tr>\n",
              "    <tr>\n",
              "      <th id=\"T_0a8c9_level0_row1\" class=\"row_heading level0 row1\" >1</th>\n",
              "      <td id=\"T_0a8c9_row1_col0\" class=\"data row1 col0\" >5.43%</td>\n",
              "      <td id=\"T_0a8c9_row1_col1\" class=\"data row1 col1\" >15.40%</td>\n",
              "      <td id=\"T_0a8c9_row1_col2\" class=\"data row1 col2\" >0.12%</td>\n",
              "      <td id=\"T_0a8c9_row1_col3\" class=\"data row1 col3\" >0.04%</td>\n",
              "      <td id=\"T_0a8c9_row1_col4\" class=\"data row1 col4\" >0.13%</td>\n",
              "      <td id=\"T_0a8c9_row1_col5\" class=\"data row1 col5\" >0.01%</td>\n",
              "      <td id=\"T_0a8c9_row1_col6\" class=\"data row1 col6\" >0.02%</td>\n",
              "      <td id=\"T_0a8c9_row1_col7\" class=\"data row1 col7\" >0.06%</td>\n",
              "      <td id=\"T_0a8c9_row1_col8\" class=\"data row1 col8\" >23.10%</td>\n",
              "      <td id=\"T_0a8c9_row1_col9\" class=\"data row1 col9\" >55.68%</td>\n",
              "    </tr>\n",
              "    <tr>\n",
              "      <th id=\"T_0a8c9_level0_row2\" class=\"row_heading level0 row2\" >2</th>\n",
              "      <td id=\"T_0a8c9_row2_col0\" class=\"data row2 col0\" >12.26%</td>\n",
              "      <td id=\"T_0a8c9_row2_col1\" class=\"data row2 col1\" >23.95%</td>\n",
              "      <td id=\"T_0a8c9_row2_col2\" class=\"data row2 col2\" >0.07%</td>\n",
              "      <td id=\"T_0a8c9_row2_col3\" class=\"data row2 col3\" >0.08%</td>\n",
              "      <td id=\"T_0a8c9_row2_col4\" class=\"data row2 col4\" >0.08%</td>\n",
              "      <td id=\"T_0a8c9_row2_col5\" class=\"data row2 col5\" >0.03%</td>\n",
              "      <td id=\"T_0a8c9_row2_col6\" class=\"data row2 col6\" >0.01%</td>\n",
              "      <td id=\"T_0a8c9_row2_col7\" class=\"data row2 col7\" >0.07%</td>\n",
              "      <td id=\"T_0a8c9_row2_col8\" class=\"data row2 col8\" >55.45%</td>\n",
              "      <td id=\"T_0a8c9_row2_col9\" class=\"data row2 col9\" >7.99%</td>\n",
              "    </tr>\n",
              "    <tr>\n",
              "      <th id=\"T_0a8c9_level0_row3\" class=\"row_heading level0 row3\" >3</th>\n",
              "      <td id=\"T_0a8c9_row3_col0\" class=\"data row3 col0\" >22.59%</td>\n",
              "      <td id=\"T_0a8c9_row3_col1\" class=\"data row3 col1\" >9.75%</td>\n",
              "      <td id=\"T_0a8c9_row3_col2\" class=\"data row3 col2\" >0.75%</td>\n",
              "      <td id=\"T_0a8c9_row3_col3\" class=\"data row3 col3\" >1.10%</td>\n",
              "      <td id=\"T_0a8c9_row3_col4\" class=\"data row3 col4\" >1.37%</td>\n",
              "      <td id=\"T_0a8c9_row3_col5\" class=\"data row3 col5\" >0.35%</td>\n",
              "      <td id=\"T_0a8c9_row3_col6\" class=\"data row3 col6\" >0.09%</td>\n",
              "      <td id=\"T_0a8c9_row3_col7\" class=\"data row3 col7\" >1.48%</td>\n",
              "      <td id=\"T_0a8c9_row3_col8\" class=\"data row3 col8\" >52.64%</td>\n",
              "      <td id=\"T_0a8c9_row3_col9\" class=\"data row3 col9\" >9.88%</td>\n",
              "    </tr>\n",
              "    <tr>\n",
              "      <th id=\"T_0a8c9_level0_row4\" class=\"row_heading level0 row4\" >4</th>\n",
              "      <td id=\"T_0a8c9_row4_col0\" class=\"data row4 col0\" >0.02%</td>\n",
              "      <td id=\"T_0a8c9_row4_col1\" class=\"data row4 col1\" >0.02%</td>\n",
              "      <td id=\"T_0a8c9_row4_col2\" class=\"data row4 col2\" >2.89%</td>\n",
              "      <td id=\"T_0a8c9_row4_col3\" class=\"data row4 col3\" >1.07%</td>\n",
              "      <td id=\"T_0a8c9_row4_col4\" class=\"data row4 col4\" >89.07%</td>\n",
              "      <td id=\"T_0a8c9_row4_col5\" class=\"data row4 col5\" >0.63%</td>\n",
              "      <td id=\"T_0a8c9_row4_col6\" class=\"data row4 col6\" >5.70%</td>\n",
              "      <td id=\"T_0a8c9_row4_col7\" class=\"data row4 col7\" >0.19%</td>\n",
              "      <td id=\"T_0a8c9_row4_col8\" class=\"data row4 col8\" >0.40%</td>\n",
              "      <td id=\"T_0a8c9_row4_col9\" class=\"data row4 col9\" >0.02%</td>\n",
              "    </tr>\n",
              "    <tr>\n",
              "      <th id=\"T_0a8c9_level0_row5\" class=\"row_heading level0 row5\" >5</th>\n",
              "      <td id=\"T_0a8c9_row5_col0\" class=\"data row5 col0\" >3.87%</td>\n",
              "      <td id=\"T_0a8c9_row5_col1\" class=\"data row5 col1\" >0.95%</td>\n",
              "      <td id=\"T_0a8c9_row5_col2\" class=\"data row5 col2\" >4.99%</td>\n",
              "      <td id=\"T_0a8c9_row5_col3\" class=\"data row5 col3\" >19.47%</td>\n",
              "      <td id=\"T_0a8c9_row5_col4\" class=\"data row5 col4\" >10.24%</td>\n",
              "      <td id=\"T_0a8c9_row5_col5\" class=\"data row5 col5\" >8.94%</td>\n",
              "      <td id=\"T_0a8c9_row5_col6\" class=\"data row5 col6\" >45.34%</td>\n",
              "      <td id=\"T_0a8c9_row5_col7\" class=\"data row5 col7\" >4.62%</td>\n",
              "      <td id=\"T_0a8c9_row5_col8\" class=\"data row5 col8\" >0.24%</td>\n",
              "      <td id=\"T_0a8c9_row5_col9\" class=\"data row5 col9\" >1.34%</td>\n",
              "    </tr>\n",
              "    <tr>\n",
              "      <th id=\"T_0a8c9_level0_row6\" class=\"row_heading level0 row6\" >6</th>\n",
              "      <td id=\"T_0a8c9_row6_col0\" class=\"data row6 col0\" >17.37%</td>\n",
              "      <td id=\"T_0a8c9_row6_col1\" class=\"data row6 col1\" >21.24%</td>\n",
              "      <td id=\"T_0a8c9_row6_col2\" class=\"data row6 col2\" >0.88%</td>\n",
              "      <td id=\"T_0a8c9_row6_col3\" class=\"data row6 col3\" >34.64%</td>\n",
              "      <td id=\"T_0a8c9_row6_col4\" class=\"data row6 col4\" >0.13%</td>\n",
              "      <td id=\"T_0a8c9_row6_col5\" class=\"data row6 col5\" >8.44%</td>\n",
              "      <td id=\"T_0a8c9_row6_col6\" class=\"data row6 col6\" >2.41%</td>\n",
              "      <td id=\"T_0a8c9_row6_col7\" class=\"data row6 col7\" >2.01%</td>\n",
              "      <td id=\"T_0a8c9_row6_col8\" class=\"data row6 col8\" >5.23%</td>\n",
              "      <td id=\"T_0a8c9_row6_col9\" class=\"data row6 col9\" >7.65%</td>\n",
              "    </tr>\n",
              "    <tr>\n",
              "      <th id=\"T_0a8c9_level0_row7\" class=\"row_heading level0 row7\" >7</th>\n",
              "      <td id=\"T_0a8c9_row7_col0\" class=\"data row7 col0\" >4.62%</td>\n",
              "      <td id=\"T_0a8c9_row7_col1\" class=\"data row7 col1\" >10.81%</td>\n",
              "      <td id=\"T_0a8c9_row7_col2\" class=\"data row7 col2\" >10.58%</td>\n",
              "      <td id=\"T_0a8c9_row7_col3\" class=\"data row7 col3\" >4.36%</td>\n",
              "      <td id=\"T_0a8c9_row7_col4\" class=\"data row7 col4\" >7.94%</td>\n",
              "      <td id=\"T_0a8c9_row7_col5\" class=\"data row7 col5\" >0.99%</td>\n",
              "      <td id=\"T_0a8c9_row7_col6\" class=\"data row7 col6\" >59.25%</td>\n",
              "      <td id=\"T_0a8c9_row7_col7\" class=\"data row7 col7\" >0.14%</td>\n",
              "      <td id=\"T_0a8c9_row7_col8\" class=\"data row7 col8\" >0.50%</td>\n",
              "      <td id=\"T_0a8c9_row7_col9\" class=\"data row7 col9\" >0.82%</td>\n",
              "    </tr>\n",
              "    <tr>\n",
              "      <th id=\"T_0a8c9_level0_row8\" class=\"row_heading level0 row8\" >8</th>\n",
              "      <td id=\"T_0a8c9_row8_col0\" class=\"data row8 col0\" >17.70%</td>\n",
              "      <td id=\"T_0a8c9_row8_col1\" class=\"data row8 col1\" >0.64%</td>\n",
              "      <td id=\"T_0a8c9_row8_col2\" class=\"data row8 col2\" >18.91%</td>\n",
              "      <td id=\"T_0a8c9_row8_col3\" class=\"data row8 col3\" >14.90%</td>\n",
              "      <td id=\"T_0a8c9_row8_col4\" class=\"data row8 col4\" >20.41%</td>\n",
              "      <td id=\"T_0a8c9_row8_col5\" class=\"data row8 col5\" >14.94%</td>\n",
              "      <td id=\"T_0a8c9_row8_col6\" class=\"data row8 col6\" >2.44%</td>\n",
              "      <td id=\"T_0a8c9_row8_col7\" class=\"data row8 col7\" >9.60%</td>\n",
              "      <td id=\"T_0a8c9_row8_col8\" class=\"data row8 col8\" >0.21%</td>\n",
              "      <td id=\"T_0a8c9_row8_col9\" class=\"data row8 col9\" >0.25%</td>\n",
              "    </tr>\n",
              "    <tr>\n",
              "      <th id=\"T_0a8c9_level0_row9\" class=\"row_heading level0 row9\" >9</th>\n",
              "      <td id=\"T_0a8c9_row9_col0\" class=\"data row9 col0\" >2.94%</td>\n",
              "      <td id=\"T_0a8c9_row9_col1\" class=\"data row9 col1\" >71.37%</td>\n",
              "      <td id=\"T_0a8c9_row9_col2\" class=\"data row9 col2\" >5.93%</td>\n",
              "      <td id=\"T_0a8c9_row9_col3\" class=\"data row9 col3\" >2.21%</td>\n",
              "      <td id=\"T_0a8c9_row9_col4\" class=\"data row9 col4\" >0.52%</td>\n",
              "      <td id=\"T_0a8c9_row9_col5\" class=\"data row9 col5\" >1.11%</td>\n",
              "      <td id=\"T_0a8c9_row9_col6\" class=\"data row9 col6\" >0.97%</td>\n",
              "      <td id=\"T_0a8c9_row9_col7\" class=\"data row9 col7\" >0.77%</td>\n",
              "      <td id=\"T_0a8c9_row9_col8\" class=\"data row9 col8\" >2.73%</td>\n",
              "      <td id=\"T_0a8c9_row9_col9\" class=\"data row9 col9\" >11.45%</td>\n",
              "    </tr>\n",
              "    <tr>\n",
              "      <th id=\"T_0a8c9_level0_row10\" class=\"row_heading level0 row10\" >10</th>\n",
              "      <td id=\"T_0a8c9_row10_col0\" class=\"data row10 col0\" >10.66%</td>\n",
              "      <td id=\"T_0a8c9_row10_col1\" class=\"data row10 col1\" >0.34%</td>\n",
              "      <td id=\"T_0a8c9_row10_col2\" class=\"data row10 col2\" >0.82%</td>\n",
              "      <td id=\"T_0a8c9_row10_col3\" class=\"data row10 col3\" >2.69%</td>\n",
              "      <td id=\"T_0a8c9_row10_col4\" class=\"data row10 col4\" >0.67%</td>\n",
              "      <td id=\"T_0a8c9_row10_col5\" class=\"data row10 col5\" >2.47%</td>\n",
              "      <td id=\"T_0a8c9_row10_col6\" class=\"data row10 col6\" >0.78%</td>\n",
              "      <td id=\"T_0a8c9_row10_col7\" class=\"data row10 col7\" >0.08%</td>\n",
              "      <td id=\"T_0a8c9_row10_col8\" class=\"data row10 col8\" >81.18%</td>\n",
              "      <td id=\"T_0a8c9_row10_col9\" class=\"data row10 col9\" >0.31%</td>\n",
              "    </tr>\n",
              "    <tr>\n",
              "      <th id=\"T_0a8c9_level0_row11\" class=\"row_heading level0 row11\" >11</th>\n",
              "      <td id=\"T_0a8c9_row11_col0\" class=\"data row11 col0\" >0.94%</td>\n",
              "      <td id=\"T_0a8c9_row11_col1\" class=\"data row11 col1\" >37.27%</td>\n",
              "      <td id=\"T_0a8c9_row11_col2\" class=\"data row11 col2\" >0.04%</td>\n",
              "      <td id=\"T_0a8c9_row11_col3\" class=\"data row11 col3\" >0.10%</td>\n",
              "      <td id=\"T_0a8c9_row11_col4\" class=\"data row11 col4\" >0.10%</td>\n",
              "      <td id=\"T_0a8c9_row11_col5\" class=\"data row11 col5\" >0.02%</td>\n",
              "      <td id=\"T_0a8c9_row11_col6\" class=\"data row11 col6\" >0.04%</td>\n",
              "      <td id=\"T_0a8c9_row11_col7\" class=\"data row11 col7\" >0.06%</td>\n",
              "      <td id=\"T_0a8c9_row11_col8\" class=\"data row11 col8\" >7.19%</td>\n",
              "      <td id=\"T_0a8c9_row11_col9\" class=\"data row11 col9\" >54.25%</td>\n",
              "    </tr>\n",
              "    <tr>\n",
              "      <th id=\"T_0a8c9_level0_row12\" class=\"row_heading level0 row12\" >12</th>\n",
              "      <td id=\"T_0a8c9_row12_col0\" class=\"data row12 col0\" >1.66%</td>\n",
              "      <td id=\"T_0a8c9_row12_col1\" class=\"data row12 col1\" >10.88%</td>\n",
              "      <td id=\"T_0a8c9_row12_col2\" class=\"data row12 col2\" >5.27%</td>\n",
              "      <td id=\"T_0a8c9_row12_col3\" class=\"data row12 col3\" >12.71%</td>\n",
              "      <td id=\"T_0a8c9_row12_col4\" class=\"data row12 col4\" >16.69%</td>\n",
              "      <td id=\"T_0a8c9_row12_col5\" class=\"data row12 col5\" >7.34%</td>\n",
              "      <td id=\"T_0a8c9_row12_col6\" class=\"data row12 col6\" >37.36%</td>\n",
              "      <td id=\"T_0a8c9_row12_col7\" class=\"data row12 col7\" >1.57%</td>\n",
              "      <td id=\"T_0a8c9_row12_col8\" class=\"data row12 col8\" >4.94%</td>\n",
              "      <td id=\"T_0a8c9_row12_col9\" class=\"data row12 col9\" >1.57%</td>\n",
              "    </tr>\n",
              "    <tr>\n",
              "      <th id=\"T_0a8c9_level0_row13\" class=\"row_heading level0 row13\" >13</th>\n",
              "      <td id=\"T_0a8c9_row13_col0\" class=\"data row13 col0\" >40.71%</td>\n",
              "      <td id=\"T_0a8c9_row13_col1\" class=\"data row13 col1\" >9.63%</td>\n",
              "      <td id=\"T_0a8c9_row13_col2\" class=\"data row13 col2\" >0.68%</td>\n",
              "      <td id=\"T_0a8c9_row13_col3\" class=\"data row13 col3\" >0.51%</td>\n",
              "      <td id=\"T_0a8c9_row13_col4\" class=\"data row13 col4\" >0.18%</td>\n",
              "      <td id=\"T_0a8c9_row13_col5\" class=\"data row13 col5\" >0.22%</td>\n",
              "      <td id=\"T_0a8c9_row13_col6\" class=\"data row13 col6\" >0.06%</td>\n",
              "      <td id=\"T_0a8c9_row13_col7\" class=\"data row13 col7\" >45.17%</td>\n",
              "      <td id=\"T_0a8c9_row13_col8\" class=\"data row13 col8\" >0.37%</td>\n",
              "      <td id=\"T_0a8c9_row13_col9\" class=\"data row13 col9\" >2.46%</td>\n",
              "    </tr>\n",
              "    <tr>\n",
              "      <th id=\"T_0a8c9_level0_row14\" class=\"row_heading level0 row14\" >14</th>\n",
              "      <td id=\"T_0a8c9_row14_col0\" class=\"data row14 col0\" >1.97%</td>\n",
              "      <td id=\"T_0a8c9_row14_col1\" class=\"data row14 col1\" >38.82%</td>\n",
              "      <td id=\"T_0a8c9_row14_col2\" class=\"data row14 col2\" >3.03%</td>\n",
              "      <td id=\"T_0a8c9_row14_col3\" class=\"data row14 col3\" >1.46%</td>\n",
              "      <td id=\"T_0a8c9_row14_col4\" class=\"data row14 col4\" >0.08%</td>\n",
              "      <td id=\"T_0a8c9_row14_col5\" class=\"data row14 col5\" >1.09%</td>\n",
              "      <td id=\"T_0a8c9_row14_col6\" class=\"data row14 col6\" >0.13%</td>\n",
              "      <td id=\"T_0a8c9_row14_col7\" class=\"data row14 col7\" >2.80%</td>\n",
              "      <td id=\"T_0a8c9_row14_col8\" class=\"data row14 col8\" >0.25%</td>\n",
              "      <td id=\"T_0a8c9_row14_col9\" class=\"data row14 col9\" >50.37%</td>\n",
              "    </tr>\n",
              "    <tr>\n",
              "      <th id=\"T_0a8c9_level0_row15\" class=\"row_heading level0 row15\" >15</th>\n",
              "      <td id=\"T_0a8c9_row15_col0\" class=\"data row15 col0\" >4.21%</td>\n",
              "      <td id=\"T_0a8c9_row15_col1\" class=\"data row15 col1\" >0.21%</td>\n",
              "      <td id=\"T_0a8c9_row15_col2\" class=\"data row15 col2\" >1.14%</td>\n",
              "      <td id=\"T_0a8c9_row15_col3\" class=\"data row15 col3\" >2.40%</td>\n",
              "      <td id=\"T_0a8c9_row15_col4\" class=\"data row15 col4\" >12.87%</td>\n",
              "      <td id=\"T_0a8c9_row15_col5\" class=\"data row15 col5\" >8.65%</td>\n",
              "      <td id=\"T_0a8c9_row15_col6\" class=\"data row15 col6\" >1.53%</td>\n",
              "      <td id=\"T_0a8c9_row15_col7\" class=\"data row15 col7\" >0.40%</td>\n",
              "      <td id=\"T_0a8c9_row15_col8\" class=\"data row15 col8\" >68.12%</td>\n",
              "      <td id=\"T_0a8c9_row15_col9\" class=\"data row15 col9\" >0.47%</td>\n",
              "    </tr>\n",
              "    <tr>\n",
              "      <th id=\"T_0a8c9_level0_row16\" class=\"row_heading level0 row16\" >16</th>\n",
              "      <td id=\"T_0a8c9_row16_col0\" class=\"data row16 col0\" >1.28%</td>\n",
              "      <td id=\"T_0a8c9_row16_col1\" class=\"data row16 col1\" >3.20%</td>\n",
              "      <td id=\"T_0a8c9_row16_col2\" class=\"data row16 col2\" >1.66%</td>\n",
              "      <td id=\"T_0a8c9_row16_col3\" class=\"data row16 col3\" >49.28%</td>\n",
              "      <td id=\"T_0a8c9_row16_col4\" class=\"data row16 col4\" >1.69%</td>\n",
              "      <td id=\"T_0a8c9_row16_col5\" class=\"data row16 col5\" >36.76%</td>\n",
              "      <td id=\"T_0a8c9_row16_col6\" class=\"data row16 col6\" >1.38%</td>\n",
              "      <td id=\"T_0a8c9_row16_col7\" class=\"data row16 col7\" >3.48%</td>\n",
              "      <td id=\"T_0a8c9_row16_col8\" class=\"data row16 col8\" >0.31%</td>\n",
              "      <td id=\"T_0a8c9_row16_col9\" class=\"data row16 col9\" >0.96%</td>\n",
              "    </tr>\n",
              "    <tr>\n",
              "      <th id=\"T_0a8c9_level0_row17\" class=\"row_heading level0 row17\" >17</th>\n",
              "      <td id=\"T_0a8c9_row17_col0\" class=\"data row17 col0\" >9.32%</td>\n",
              "      <td id=\"T_0a8c9_row17_col1\" class=\"data row17 col1\" >0.12%</td>\n",
              "      <td id=\"T_0a8c9_row17_col2\" class=\"data row17 col2\" >14.14%</td>\n",
              "      <td id=\"T_0a8c9_row17_col3\" class=\"data row17 col3\" >18.66%</td>\n",
              "      <td id=\"T_0a8c9_row17_col4\" class=\"data row17 col4\" >26.79%</td>\n",
              "      <td id=\"T_0a8c9_row17_col5\" class=\"data row17 col5\" >8.73%</td>\n",
              "      <td id=\"T_0a8c9_row17_col6\" class=\"data row17 col6\" >9.75%</td>\n",
              "      <td id=\"T_0a8c9_row17_col7\" class=\"data row17 col7\" >9.58%</td>\n",
              "      <td id=\"T_0a8c9_row17_col8\" class=\"data row17 col8\" >0.54%</td>\n",
              "      <td id=\"T_0a8c9_row17_col9\" class=\"data row17 col9\" >2.36%</td>\n",
              "    </tr>\n",
              "    <tr>\n",
              "      <th id=\"T_0a8c9_level0_row18\" class=\"row_heading level0 row18\" >18</th>\n",
              "      <td id=\"T_0a8c9_row18_col0\" class=\"data row18 col0\" >12.35%</td>\n",
              "      <td id=\"T_0a8c9_row18_col1\" class=\"data row18 col1\" >3.93%</td>\n",
              "      <td id=\"T_0a8c9_row18_col2\" class=\"data row18 col2\" >0.12%</td>\n",
              "      <td id=\"T_0a8c9_row18_col3\" class=\"data row18 col3\" >0.10%</td>\n",
              "      <td id=\"T_0a8c9_row18_col4\" class=\"data row18 col4\" >0.48%</td>\n",
              "      <td id=\"T_0a8c9_row18_col5\" class=\"data row18 col5\" >0.01%</td>\n",
              "      <td id=\"T_0a8c9_row18_col6\" class=\"data row18 col6\" >0.02%</td>\n",
              "      <td id=\"T_0a8c9_row18_col7\" class=\"data row18 col7\" >0.31%</td>\n",
              "      <td id=\"T_0a8c9_row18_col8\" class=\"data row18 col8\" >78.64%</td>\n",
              "      <td id=\"T_0a8c9_row18_col9\" class=\"data row18 col9\" >4.05%</td>\n",
              "    </tr>\n",
              "    <tr>\n",
              "      <th id=\"T_0a8c9_level0_row19\" class=\"row_heading level0 row19\" >19</th>\n",
              "      <td id=\"T_0a8c9_row19_col0\" class=\"data row19 col0\" >0.18%</td>\n",
              "      <td id=\"T_0a8c9_row19_col1\" class=\"data row19 col1\" >0.08%</td>\n",
              "      <td id=\"T_0a8c9_row19_col2\" class=\"data row19 col2\" >4.09%</td>\n",
              "      <td id=\"T_0a8c9_row19_col3\" class=\"data row19 col3\" >8.32%</td>\n",
              "      <td id=\"T_0a8c9_row19_col4\" class=\"data row19 col4\" >1.73%</td>\n",
              "      <td id=\"T_0a8c9_row19_col5\" class=\"data row19 col5\" >2.81%</td>\n",
              "      <td id=\"T_0a8c9_row19_col6\" class=\"data row19 col6\" >65.16%</td>\n",
              "      <td id=\"T_0a8c9_row19_col7\" class=\"data row19 col7\" >17.21%</td>\n",
              "      <td id=\"T_0a8c9_row19_col8\" class=\"data row19 col8\" >0.02%</td>\n",
              "      <td id=\"T_0a8c9_row19_col9\" class=\"data row19 col9\" >0.39%</td>\n",
              "    </tr>\n",
              "  </tbody>\n",
              "</table>\n"
            ]
          },
          "metadata": {},
          "execution_count": 38
        }
      ],
      "source": [
        "df = pd.DataFrame(preds[0:20], columns = ['airplane'\n",
        "                                          ,'automobile'\n",
        "                                          ,'bird'\n",
        "                                          ,'cat'\n",
        "                                          ,'deer'\n",
        "                                          ,'dog'\n",
        "                                          ,'frog'\n",
        "                                          ,'horse'\n",
        "                                          ,'ship'\n",
        "                                          ,'truck'])\n",
        "df.style.format(\"{:.2%}\").background_gradient(cmap=cm)"
      ]
    },
    {
      "cell_type": "code",
      "execution_count": null,
      "metadata": {
        "colab": {
          "base_uri": "https://localhost:8080/",
          "height": 406
        },
        "id": "--jq-EuoaTh8",
        "outputId": "f2576695-074b-496c-8767-bafe88dbac44"
      },
      "outputs": [
        {
          "output_type": "display_data",
          "data": {
            "text/plain": [
              "<Figure size 640x480 with 1 Axes>"
            ],
            "image/png": "[encoded data removed]"
          },
          "metadata": {}
        }
      ],
      "source": [
        "(_,_), (test_images, test_labels) = tf.keras.datasets.cifar10.load_data()\n",
        "\n",
        "img = test_images[2004]\n",
        "img_tensor = image.img_to_array(img)\n",
        "img_tensor = np.expand_dims(img_tensor, axis=0)\n",
        "\n",
        "class_names = ['airplane'\n",
        ",'automobile'\n",
        ",'bird'\n",
        ",'cat'\n",
        ",'deer'\n",
        ",'dog'\n",
        ",'frog'\n",
        ",'horse'\n",
        ",'ship'\n",
        ",'truck']\n",
        "\n",
        "plt.imshow(img, cmap='viridis')\n",
        "plt.axis('off')\n",
        "plt.show()"
      ]
    },
    {
      "cell_type": "code",
      "execution_count": null,
      "metadata": {
        "id": "v7HMVYT_aUNs"
      },
      "outputs": [],
      "source": [
        "# Extracts the outputs of the top 8 layers:\n",
        "layer_outputs = [layer.output for layer in model.layers[:8]]\n",
        "# Creates a model that will return these outputs, given the model input:\n",
        "activation_model = models.Model(inputs=model.input, outputs=layer_outputs)"
      ]
    },
    {
      "cell_type": "code",
      "execution_count": null,
      "metadata": {
        "colab": {
          "base_uri": "https://localhost:8080/"
        },
        "id": "Q9sSr6LpBQTB",
        "outputId": "68bbdb57-3d38-4d0a-ec78-b56494be1270"
      },
      "outputs": [
        {
          "output_type": "stream",
          "name": "stdout",
          "text": [
            "1/1 [==============================] - 0s 76ms/step\n"
          ]
        },
        {
          "output_type": "execute_result",
          "data": {
            "text/plain": [
              "4"
            ]
          },
          "metadata": {},
          "execution_count": 41
        }
      ],
      "source": [
        "activations = activation_model.predict(img_tensor)\n",
        "len(activations)"
      ]
    },
    {
      "cell_type": "code",
      "execution_count": null,
      "metadata": {
        "colab": {
          "base_uri": "https://localhost:8080/"
        },
        "id": "kdf1Xm4Zc0T2",
        "outputId": "e4a8ac55-1074-4638-ef14-ced103e6f700"
      },
      "outputs": [
        {
          "output_type": "execute_result",
          "data": {
            "text/plain": [
              "['flatten', 'dense', 'dense_1', 'dense_2']"
            ]
          },
          "metadata": {},
          "execution_count": 42
        }
      ],
      "source": [
        "layer_names = []\n",
        "for layer in model.layers:\n",
        "    layer_names.append(layer.name)\n",
        "\n",
        "layer_names"
      ]
    },
    {
      "cell_type": "code",
      "execution_count": null,
      "metadata": {
        "id": "E_KkKxCuBQTB",
        "scrolled": false,
        "colab": {
          "base_uri": "https://localhost:8080/",
          "height": 606
        },
        "outputId": "3be16db9-f204-491d-f27c-a5ab80cd3acf"
      },
      "outputs": [
        {
          "output_type": "stream",
          "name": "stdout",
          "text": [
            "1/1 [==============================] - 0s 53ms/step\n"
          ]
        },
        {
          "output_type": "display_data",
          "data": {
            "text/plain": [
              "<Figure size 1500x100 with 2 Axes>"
            ],
            "image/png": "[encoded data removed]"
          },
          "metadata": {}
        },
        {
          "output_type": "display_data",
          "data": {
            "text/plain": [
              "<Figure size 1500x100 with 2 Axes>"
            ],
            "image/png": "[encoded data removed]"
          },
          "metadata": {}
        },
        {
          "output_type": "display_data",
          "data": {
            "text/plain": [
              "<Figure size 1500x100 with 2 Axes>"
            ],
            "image/png": "[encoded data removed]"
          },
          "metadata": {}
        },
        {
          "output_type": "display_data",
          "data": {
            "text/plain": [
              "<Figure size 1500x100 with 2 Axes>"
            ],
            "image/png": "[encoded data removed]"
          },
          "metadata": {}
        }
      ],
      "source": [
        "import numpy as np\n",
        "import matplotlib.pyplot as plt\n",
        "from tensorflow.keras import Model\n",
        "\n",
        "# These are the names of all layers\n",
        "layer_names = [layer.name for layer in model.layers]\n",
        "\n",
        "# Create a new model that will output the activations of the specified layers\n",
        "layer_outputs = [layer.output for layer in model.layers]\n",
        "activation_model = Model(inputs=model.input, outputs=layer_outputs)\n",
        "\n",
        "# Use a sample input to get the activations\n",
        "sample_input = np.expand_dims(x_train_norm[0], axis=0)  # Use the first sample from your normalized training data\n",
        "activations = activation_model.predict(sample_input)\n",
        "\n",
        "# Now let's display our feature maps\n",
        "for layer_name, layer_activation in zip(layer_names, activations):\n",
        "    # Check the dimensionality of the layer activation\n",
        "    if len(layer_activation.shape) == 2:  # Dense layer or Flatten layer output\n",
        "        plt.figure(figsize=(15, 1))\n",
        "        plt.imshow(layer_activation, aspect='auto', cmap='viridis')\n",
        "        plt.title(f'Activation of layer: {layer_name}')\n",
        "        plt.colorbar()\n",
        "        plt.show()\n",
        "\n",
        "plt.show()\n"
      ]
    },
    {
      "cell_type": "code",
      "source": [
        "# Time Stamp\n",
        "current_time = datetime.datetime.now()\n",
        "formatted_time = current_time.strftime(\"%Y-%m-%d %H:%M:%S\")\n",
        "\n",
        "# Print the formatted time\n",
        "print(\"Last Run:\", formatted_time)"
      ],
      "metadata": {
        "id": "wXk9OW_7E1Lx",
        "colab": {
          "base_uri": "https://localhost:8080/"
        },
        "outputId": "f9222ff8-39f9-48a4-c285-256ed2ccc8ae"
      },
      "execution_count": null,
      "outputs": [
        {
          "output_type": "stream",
          "name": "stdout",
          "text": [
            "Last Run: 2024-06-11 18:01:33\n"
          ]
        }
      ]
    },
    {
      "cell_type": "code",
      "source": [
        "from google.colab import drive\n",
        "drive.mount('/content/drive')"
      ],
      "metadata": {
        "colab": {
          "base_uri": "https://localhost:8080/"
        },
        "id": "gYe0pPjQaCG4",
        "outputId": "b4227194-951c-430b-8e36-1e1315d6ae3c"
      },
      "execution_count": 1,
      "outputs": [
        {
          "output_type": "stream",
          "name": "stdout",
          "text": [
            "Mounted at /content/drive\n"
          ]
        }
      ]
    },
    {
      "cell_type": "code",
      "source": [
        "!jupyter nbconvert --to html \"/content/drive/MyDrive/Colab Notebooks/458_Assignment2_E1_A.ipynb\""
      ],
      "metadata": {
        "colab": {
          "base_uri": "https://localhost:8080/"
        },
        "id": "DWcfzjv_Xpu5",
        "outputId": "90ad945c-0252-4b44-d5cf-bae4c7766c6c"
      },
      "execution_count": 4,
      "outputs": [
        {
          "output_type": "stream",
          "name": "stdout",
          "text": [
            "[NbConvertApp] Converting notebook /content/drive/MyDrive/Colab Notebooks/458_Assignment2_E1_A.ipynb to html\n",
            "[NbConvertApp] Writing 1113016 bytes to /content/drive/MyDrive/Colab Notebooks/458_Assignment2_E1_A.html\n"
          ]
        }
      ]
    }
  ],
  "metadata": {
    "accelerator": "GPU",
    "colab": {
      "machine_shape": "hm",
      "provenance": [],
      "gpuType": "T4"
    },
    "kernelspec": {
      "display_name": "Python 3",
      "name": "python3"
    },
    "language_info": {
      "codemirror_mode": {
        "name": "ipython",
        "version": 3
      },
      "file_extension": ".py",
      "mimetype": "text/x-python",
      "name": "python",
      "nbconvert_exporter": "python",
      "pygments_lexer": "ipython3",
      "version": "3.8.10"
    },
    "toc": {
      "base_numbering": 1,
      "nav_menu": {},
      "number_sections": false,
      "sideBar": true,
      "skip_h1_title": false,
      "title_cell": "Table of Contents",
      "title_sidebar": "Contents",
      "toc_cell": false,
      "toc_position": {},
      "toc_section_display": true,
      "toc_window_display": false
    }
  },
  "nbformat": 4,
  "nbformat_minor": 0
}