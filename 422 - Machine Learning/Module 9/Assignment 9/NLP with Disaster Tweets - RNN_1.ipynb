{
 "cells": [
  {
   "cell_type": "markdown",
   "source": [
    "# 1. Imports"
   ],
   "metadata": {
    "collapsed": false
   },
   "id": "d0abcc6f4997100b"
  },
  {
   "cell_type": "code",
   "execution_count": 24,
   "id": "initial_id",
   "metadata": {
    "collapsed": true,
    "ExecuteTime": {
     "end_time": "2024-03-05T12:23:50.251756Z",
     "start_time": "2024-03-05T12:23:50.246360Z"
    }
   },
   "outputs": [],
   "source": [
    "import pandas as pd\n",
    "import numpy as np\n",
    "import matplotlib.pyplot as plt\n",
    "import seaborn as sns\n",
    "import tensorflow as tf\n",
    "import sklearn\n",
    "from tensorflow.keras.preprocessing.text import Tokenizer\n",
    "from tensorflow.keras.preprocessing.sequence import pad_sequences\n",
    "from tensorflow.keras.models import Sequential\n",
    "from tensorflow.python.keras.callbacks import EarlyStopping\n",
    "from tensorflow.keras.layers import SpatialDropout1D, Dropout, Bidirectional, Input, Embedding\n",
    "from keras_tuner.tuners import RandomSearch\n",
    "from keras_tuner import HyperParameters\n",
    "from tensorflow.keras.preprocessing.sequence import pad_sequences\n",
    "from sklearn.model_selection import train_test_split\n",
    "import re\n",
    "import os\n",
    "import string\n",
    "import  random"
   ]
  },
  {
   "cell_type": "code",
   "outputs": [],
   "source": [
    "df = pd.read_csv('train.csv')"
   ],
   "metadata": {
    "collapsed": false,
    "ExecuteTime": {
     "end_time": "2024-03-05T12:21:42.550117Z",
     "start_time": "2024-03-05T12:21:42.505191Z"
    }
   },
   "id": "bdb70215f60d6ee3",
   "execution_count": 3
  },
  {
   "cell_type": "code",
   "outputs": [
    {
     "data": {
      "text/plain": "(7613, 5)"
     },
     "execution_count": 4,
     "metadata": {},
     "output_type": "execute_result"
    }
   ],
   "source": [
    "df.shape"
   ],
   "metadata": {
    "collapsed": false,
    "ExecuteTime": {
     "end_time": "2024-03-05T12:21:42.559761Z",
     "start_time": "2024-03-05T12:21:42.552320Z"
    }
   },
   "id": "f35cb016617dc433",
   "execution_count": 4
  },
  {
   "cell_type": "code",
   "outputs": [
    {
     "data": {
      "text/plain": "id           int64\nkeyword     object\nlocation    object\ntext        object\ntarget       int64\ndtype: object"
     },
     "execution_count": 5,
     "metadata": {},
     "output_type": "execute_result"
    }
   ],
   "source": [
    "df.dtypes"
   ],
   "metadata": {
    "collapsed": false,
    "ExecuteTime": {
     "end_time": "2024-03-05T12:21:42.590638Z",
     "start_time": "2024-03-05T12:21:42.580097Z"
    }
   },
   "id": "13a837fbeb753ffa",
   "execution_count": 5
  },
  {
   "cell_type": "markdown",
   "source": [
    "# 2. Data Exploration"
   ],
   "metadata": {
    "collapsed": false
   },
   "id": "7b0741e91e15df16"
  },
  {
   "cell_type": "code",
   "outputs": [
    {
     "data": {
      "text/plain": "   id keyword location                                               text  \\\n0   1     NaN      NaN  Our Deeds are the Reason of this #earthquake M...   \n1   4     NaN      NaN             Forest fire near La Ronge Sask. Canada   \n2   5     NaN      NaN  All residents asked to 'shelter in place' are ...   \n3   6     NaN      NaN  13,000 people receive #wildfires evacuation or...   \n4   7     NaN      NaN  Just got sent this photo from Ruby #Alaska as ...   \n\n   target  \n0       1  \n1       1  \n2       1  \n3       1  \n4       1  ",
      "text/html": "<div>\n<style scoped>\n    .dataframe tbody tr th:only-of-type {\n        vertical-align: middle;\n    }\n\n    .dataframe tbody tr th {\n        vertical-align: top;\n    }\n\n    .dataframe thead th {\n        text-align: right;\n    }\n</style>\n<table border=\"1\" class=\"dataframe\">\n  <thead>\n    <tr style=\"text-align: right;\">\n      <th></th>\n      <th>id</th>\n      <th>keyword</th>\n      <th>location</th>\n      <th>text</th>\n      <th>target</th>\n    </tr>\n  </thead>\n  <tbody>\n    <tr>\n      <th>0</th>\n      <td>1</td>\n      <td>NaN</td>\n      <td>NaN</td>\n      <td>Our Deeds are the Reason of this #earthquake M...</td>\n      <td>1</td>\n    </tr>\n    <tr>\n      <th>1</th>\n      <td>4</td>\n      <td>NaN</td>\n      <td>NaN</td>\n      <td>Forest fire near La Ronge Sask. Canada</td>\n      <td>1</td>\n    </tr>\n    <tr>\n      <th>2</th>\n      <td>5</td>\n      <td>NaN</td>\n      <td>NaN</td>\n      <td>All residents asked to 'shelter in place' are ...</td>\n      <td>1</td>\n    </tr>\n    <tr>\n      <th>3</th>\n      <td>6</td>\n      <td>NaN</td>\n      <td>NaN</td>\n      <td>13,000 people receive #wildfires evacuation or...</td>\n      <td>1</td>\n    </tr>\n    <tr>\n      <th>4</th>\n      <td>7</td>\n      <td>NaN</td>\n      <td>NaN</td>\n      <td>Just got sent this photo from Ruby #Alaska as ...</td>\n      <td>1</td>\n    </tr>\n  </tbody>\n</table>\n</div>"
     },
     "execution_count": 6,
     "metadata": {},
     "output_type": "execute_result"
    }
   ],
   "source": [
    "df.head()"
   ],
   "metadata": {
    "collapsed": false,
    "ExecuteTime": {
     "end_time": "2024-03-05T12:21:42.643750Z",
     "start_time": "2024-03-05T12:21:42.615312Z"
    }
   },
   "id": "17fbfcc361d9e6aa",
   "execution_count": 6
  },
  {
   "cell_type": "code",
   "outputs": [
    {
     "data": {
      "text/plain": "id             0\nkeyword       61\nlocation    2533\ntext           0\ntarget         0\ndtype: int64"
     },
     "execution_count": 7,
     "metadata": {},
     "output_type": "execute_result"
    }
   ],
   "source": [
    "df.isna().sum()"
   ],
   "metadata": {
    "collapsed": false,
    "ExecuteTime": {
     "end_time": "2024-03-05T12:21:42.697910Z",
     "start_time": "2024-03-05T12:21:42.689288Z"
    }
   },
   "id": "9af2d114172ed27a",
   "execution_count": 7
  },
  {
   "cell_type": "code",
   "outputs": [
    {
     "data": {
      "text/plain": "0"
     },
     "execution_count": 8,
     "metadata": {},
     "output_type": "execute_result"
    }
   ],
   "source": [
    "df.duplicated().sum()"
   ],
   "metadata": {
    "collapsed": false,
    "ExecuteTime": {
     "end_time": "2024-03-05T12:21:42.778614Z",
     "start_time": "2024-03-05T12:21:42.760911Z"
    }
   },
   "id": "82905b468fed4043",
   "execution_count": 8
  },
  {
   "cell_type": "code",
   "outputs": [
    {
     "data": {
      "text/plain": "                 id      target\ncount   7613.000000  7613.00000\nmean    5441.934848     0.42966\nstd     3137.116090     0.49506\nmin        1.000000     0.00000\n25%     2734.000000     0.00000\n50%     5408.000000     0.00000\n75%     8146.000000     1.00000\nmax    10873.000000     1.00000",
      "text/html": "<div>\n<style scoped>\n    .dataframe tbody tr th:only-of-type {\n        vertical-align: middle;\n    }\n\n    .dataframe tbody tr th {\n        vertical-align: top;\n    }\n\n    .dataframe thead th {\n        text-align: right;\n    }\n</style>\n<table border=\"1\" class=\"dataframe\">\n  <thead>\n    <tr style=\"text-align: right;\">\n      <th></th>\n      <th>id</th>\n      <th>target</th>\n    </tr>\n  </thead>\n  <tbody>\n    <tr>\n      <th>count</th>\n      <td>7613.000000</td>\n      <td>7613.00000</td>\n    </tr>\n    <tr>\n      <th>mean</th>\n      <td>5441.934848</td>\n      <td>0.42966</td>\n    </tr>\n    <tr>\n      <th>std</th>\n      <td>3137.116090</td>\n      <td>0.49506</td>\n    </tr>\n    <tr>\n      <th>min</th>\n      <td>1.000000</td>\n      <td>0.00000</td>\n    </tr>\n    <tr>\n      <th>25%</th>\n      <td>2734.000000</td>\n      <td>0.00000</td>\n    </tr>\n    <tr>\n      <th>50%</th>\n      <td>5408.000000</td>\n      <td>0.00000</td>\n    </tr>\n    <tr>\n      <th>75%</th>\n      <td>8146.000000</td>\n      <td>1.00000</td>\n    </tr>\n    <tr>\n      <th>max</th>\n      <td>10873.000000</td>\n      <td>1.00000</td>\n    </tr>\n  </tbody>\n</table>\n</div>"
     },
     "execution_count": 9,
     "metadata": {},
     "output_type": "execute_result"
    }
   ],
   "source": [
    "df.describe()"
   ],
   "metadata": {
    "collapsed": false,
    "ExecuteTime": {
     "end_time": "2024-03-05T12:21:42.821792Z",
     "start_time": "2024-03-05T12:21:42.800224Z"
    }
   },
   "id": "c5c6b950ecadfe04",
   "execution_count": 9
  },
  {
   "cell_type": "code",
   "outputs": [
    {
     "data": {
      "text/plain": "221"
     },
     "execution_count": 10,
     "metadata": {},
     "output_type": "execute_result"
    }
   ],
   "source": [
    "df.keyword.nunique()"
   ],
   "metadata": {
    "collapsed": false,
    "ExecuteTime": {
     "end_time": "2024-03-05T12:21:42.871477Z",
     "start_time": "2024-03-05T12:21:42.866113Z"
    }
   },
   "id": "4bd864c6de907554",
   "execution_count": 10
  },
  {
   "cell_type": "code",
   "outputs": [
    {
     "data": {
      "text/plain": "target\n0    4342\n1    3271\nName: count, dtype: int64"
     },
     "execution_count": 11,
     "metadata": {},
     "output_type": "execute_result"
    }
   ],
   "source": [
    "df.target.value_counts().sort_values(ascending=False)"
   ],
   "metadata": {
    "collapsed": false,
    "ExecuteTime": {
     "end_time": "2024-03-05T12:21:43.031819Z",
     "start_time": "2024-03-05T12:21:43.025463Z"
    }
   },
   "id": "8f7f95570e6c255f",
   "execution_count": 11
  },
  {
   "cell_type": "code",
   "outputs": [
    {
     "data": {
      "text/plain": "<Figure size 800x600 with 1 Axes>",
      "image/png": "[encoded data removed]"
     },
     "metadata": {},
     "output_type": "display_data"
    }
   ],
   "source": [
    "# Create bar plot\n",
    "plt.figure(figsize=(8, 6))\n",
    "plt.bar(df.target.value_counts().index, df.target.value_counts())\n",
    "\n",
    "# Set plot title and labels\n",
    "plt.title('Counts of Target Variable')\n",
    "plt.xlabel('Target')\n",
    "plt.ylabel('Count')\n",
    "\n",
    "# Show the plot\n",
    "plt.show()\n"
   ],
   "metadata": {
    "collapsed": false,
    "ExecuteTime": {
     "end_time": "2024-03-05T12:21:43.497216Z",
     "start_time": "2024-03-05T12:21:43.108206Z"
    }
   },
   "id": "bd35db467320e2f",
   "execution_count": 12
  },
  {
   "cell_type": "code",
   "outputs": [
    {
     "data": {
      "text/plain": "keyword\nfatalities               45\narmageddon               42\ndeluge                   42\nsinking                  41\ndamage                   41\n                         ..\nforest%20fire            19\nepicentre                12\nthreat                   11\ninundation               10\nradiation%20emergency     9\nName: count, Length: 221, dtype: int64"
     },
     "execution_count": 13,
     "metadata": {},
     "output_type": "execute_result"
    }
   ],
   "source": [
    "df.keyword.value_counts().sort_values(ascending=False)"
   ],
   "metadata": {
    "collapsed": false,
    "ExecuteTime": {
     "end_time": "2024-03-05T12:21:43.510145Z",
     "start_time": "2024-03-05T12:21:43.499553Z"
    }
   },
   "id": "e9673077899bb5e2",
   "execution_count": 13
  },
  {
   "cell_type": "code",
   "outputs": [
    {
     "data": {
      "text/plain": "<Figure size 1200x600 with 1 Axes>",
      "image/png": "[encoded data removed]"
     },
     "metadata": {},
     "output_type": "display_data"
    }
   ],
   "source": [
    "# Create bar plot\n",
    "plt.figure(figsize=(12, 6))\n",
    "plt.bar(df.keyword.value_counts().index[:10], df.keyword.value_counts()[:10])\n",
    "\n",
    "# Set plot title and labels\n",
    "plt.title('Counts of Top-10 Keywords')\n",
    "plt.xlabel('Keyword')\n",
    "plt.ylabel('Count')\n",
    "\n",
    "# Show the plot\n",
    "plt.show()"
   ],
   "metadata": {
    "collapsed": false,
    "ExecuteTime": {
     "end_time": "2024-03-05T12:21:43.765911Z",
     "start_time": "2024-03-05T12:21:43.511340Z"
    }
   },
   "id": "45afee3082190189",
   "execution_count": 14
  },
  {
   "cell_type": "markdown",
   "source": [
    "The code has calculated the text length statistics for training and test datasets, showing the average text length is around 101 characters for both. It also tokenizes texts from both datasets, identifying 22,700 unique tokens in the training set and 12,818 in the test set, indicating a rich vocabulary used across the texts."
   ],
   "metadata": {
    "collapsed": false
   },
   "id": "323ad7e1601d0d7c"
  },
  {
   "cell_type": "markdown",
   "source": [
    "# 3. Preprocessing"
   ],
   "metadata": {
    "collapsed": false
   },
   "id": "e600d3cd1675ef8b"
  },
  {
   "cell_type": "code",
   "outputs": [],
   "source": [
    "# To ensure reproducibility in the experiments, we fix the random seed for all components in the code\n",
    "seed_value=1\n",
    "\n",
    "# 1. Set the `PYTHONHASHSEED` environment variable at a fixed value\n",
    "os.environ['PYTHONHASHSEED']=str(seed_value)\n",
    "\n",
    "# 2. Set Python built-in pseudorandom generator at a fixed value\n",
    "random.seed(seed_value)\n",
    "\n",
    "# 3. Set NumPy pseudorandom generator at a fixed value\n",
    "np.random.seed(seed_value)\n",
    "\n",
    "# 4. Set TensorFlow pseudorandom generator at a fixed value\n",
    "tf.random.set_seed(seed_value)"
   ],
   "metadata": {
    "collapsed": false,
    "ExecuteTime": {
     "end_time": "2024-03-05T12:21:43.775624Z",
     "start_time": "2024-03-05T12:21:43.768359Z"
    }
   },
   "id": "d27a005326115f39",
   "execution_count": 15
  },
  {
   "cell_type": "code",
   "outputs": [],
   "source": [
    "# Function to lowercase the text and remove punctuation\n",
    "def custom_standardization(input_data):\n",
    "    lowercase = tf.strings.lower(input_data)\n",
    "    return tf.strings.regex_replace(lowercase, '[{}]'.format(re.escape(string.punctuation)), '')"
   ],
   "metadata": {
    "collapsed": false,
    "ExecuteTime": {
     "end_time": "2024-03-05T12:21:43.781004Z",
     "start_time": "2024-03-05T12:21:43.776847Z"
    }
   },
   "id": "38389e221f07cf60",
   "execution_count": 16
  },
  {
   "cell_type": "code",
   "outputs": [],
   "source": [
    "# Define the vocabulary size and the number of words in a sequence.\n",
    "vocab_size = 4096\n",
    "sequence_length = 10\n",
    "\n",
    "# Vectorize layer\n",
    "vectorize_layer = tf.keras.layers.TextVectorization(\n",
    "    standardize=custom_standardization,\n",
    "    max_tokens=vocab_size,\n",
    "    output_mode='int',\n",
    "    output_sequence_length=sequence_length)"
   ],
   "metadata": {
    "collapsed": false,
    "ExecuteTime": {
     "end_time": "2024-03-05T12:21:43.850048Z",
     "start_time": "2024-03-05T12:21:43.782137Z"
    }
   },
   "id": "bb290f6d5303590e",
   "execution_count": 17
  },
  {
   "cell_type": "code",
   "outputs": [],
   "source": [
    "def generate_training_data(sequences, window_size, num_ns, vocab_size, seed):\n",
    "    targets, contexts, labels = [], [], []\n",
    "\n",
    "    sampling_table = tf.keras.preprocessing.sequence.make_sampling_table(vocab_size)\n",
    "\n",
    "    for sequence in tf.data.Dataset.from_tensor_slices(sequences).as_numpy_iterator():\n",
    "        positive_skip_grams, _ = tf.keras.preprocessing.sequence.skipgrams(\n",
    "            sequence,\n",
    "            vocabulary_size=vocab_size,\n",
    "            sampling_table=sampling_table,\n",
    "            window_size=window_size,\n",
    "            negative_samples=0)\n",
    "\n",
    "        for target_word, context_word in positive_skip_grams:\n",
    "            context_class = tf.expand_dims(tf.constant([context_word], dtype=\"int64\"), 1)\n",
    "            negative_sampling_candidates, _, _ = tf.random.log_uniform_candidate_sampler(\n",
    "                true_classes=context_class,\n",
    "                num_true=1,\n",
    "                num_sampled=num_ns,\n",
    "                unique=True,\n",
    "                range_max=vocab_size,\n",
    "                seed=seed,\n",
    "                name=\"negative_sampling\")\n",
    "            context = tf.concat([tf.squeeze(context_class, 1), negative_sampling_candidates], 0)\n",
    "            label = tf.constant([1] + [0] * num_ns, dtype=\"int64\")\n",
    "\n",
    "            targets.append(target_word)\n",
    "            contexts.append(context)\n",
    "            labels.append(label)\n",
    "\n",
    "    return targets, contexts, labels"
   ],
   "metadata": {
    "collapsed": false,
    "ExecuteTime": {
     "end_time": "2024-03-05T12:21:43.860586Z",
     "start_time": "2024-03-05T12:21:43.853459Z"
    }
   },
   "id": "3d01b4ce4b5c88b4",
   "execution_count": 18
  },
  {
   "cell_type": "code",
   "outputs": [
    {
     "name": "stdout",
     "output_type": "stream",
     "text": [
      "Train dataset size:  6090\n",
      "Validate dataset size:  1523\n",
      "Max length:  60\n"
     ]
    }
   ],
   "source": [
    "# Prepare X and y data\n",
    "X = df['text']\n",
    "y = df['target']\n",
    "\n",
    "# Split data into train and validate sets\n",
    "X_train, X_validate, y_train, y_validate = train_test_split(X, y, test_size=0.2, random_state=42)\n",
    "\n",
    "# Create and fit the tokenizer\n",
    "tokenizer = Tokenizer()\n",
    "tokenizer.fit_on_texts(X_train)\n",
    "\n",
    "# Sequence encode\n",
    "encoded_train = tokenizer.texts_to_sequences(X_train)\n",
    "encoded_validate = tokenizer.texts_to_sequences(X_validate)\n",
    "\n",
    "# Pad sequences\n",
    "max_length = 60\n",
    "X_train_padded = pad_sequences(encoded_train, maxlen=max_length, padding='post')\n",
    "X_validate_padded = pad_sequences(encoded_validate, maxlen=max_length, padding='post')\n",
    "\n",
    "# Ensure the y data is in the right shape\n",
    "if isinstance(y_train, pd.Series):\n",
    "    y_train = y_train.values.reshape(-1, 1)\n",
    "if isinstance(y_validate, pd.Series):\n",
    "    y_validate = y_validate.values.reshape(-1, 1)\n",
    "\n",
    "print(\"Train dataset size: \", X_train_padded.shape[0])\n",
    "print(\"Validate dataset size: \", X_validate_padded.shape[0])\n",
    "print('Max length: ', max_length)\n"
   ],
   "metadata": {
    "collapsed": false,
    "ExecuteTime": {
     "end_time": "2024-03-05T12:21:44.522231Z",
     "start_time": "2024-03-05T12:21:43.861715Z"
    }
   },
   "id": "4b7531f140abff3b",
   "execution_count": 19
  },
  {
   "cell_type": "code",
   "outputs": [
    {
     "name": "stdout",
     "output_type": "stream",
     "text": [
      "Trial 11 Complete [00h 09m 14s]\n",
      "val_accuracy: 0.8104618191719055\n",
      "\n",
      "Best val_accuracy So Far: 0.8151674270629883\n",
      "Total elapsed time: 07h 33m 37s\n",
      "Epoch 1/10\n",
      "\u001B[1m191/191\u001B[0m \u001B[32m━━━━━━━━━━━━━━━━━━━━\u001B[0m\u001B[37m\u001B[0m \u001B[1m30s\u001B[0m 97ms/step - accuracy: 0.5802 - loss: 0.7665 - val_accuracy: 0.7774 - val_loss: 0.6009\n",
      "Epoch 2/10\n",
      "\u001B[1m191/191\u001B[0m \u001B[32m━━━━━━━━━━━━━━━━━━━━\u001B[0m\u001B[37m\u001B[0m \u001B[1m18s\u001B[0m 84ms/step - accuracy: 0.8061 - loss: 0.5225 - val_accuracy: 0.7768 - val_loss: 0.5256\n",
      "Epoch 3/10\n",
      "\u001B[1m191/191\u001B[0m \u001B[32m━━━━━━━━━━━━━━━━━━━━\u001B[0m\u001B[37m\u001B[0m \u001B[1m17s\u001B[0m 89ms/step - accuracy: 0.8985 - loss: 0.3376 - val_accuracy: 0.8024 - val_loss: 0.5614\n",
      "Epoch 4/10\n",
      "\u001B[1m191/191\u001B[0m \u001B[32m━━━━━━━━━━━━━━━━━━━━\u001B[0m\u001B[37m\u001B[0m \u001B[1m17s\u001B[0m 88ms/step - accuracy: 0.9385 - loss: 0.2365 - val_accuracy: 0.7571 - val_loss: 0.6775\n",
      "Epoch 5/10\n",
      "\u001B[1m191/191\u001B[0m \u001B[32m━━━━━━━━━━━━━━━━━━━━\u001B[0m\u001B[37m\u001B[0m \u001B[1m16s\u001B[0m 81ms/step - accuracy: 0.9622 - loss: 0.1678 - val_accuracy: 0.7794 - val_loss: 0.7717\n",
      "Epoch 6/10\n",
      "\u001B[1m191/191\u001B[0m \u001B[32m━━━━━━━━━━━━━━━━━━━━\u001B[0m\u001B[37m\u001B[0m \u001B[1m17s\u001B[0m 87ms/step - accuracy: 0.9747 - loss: 0.1269 - val_accuracy: 0.7485 - val_loss: 0.9538\n",
      "Epoch 7/10\n",
      "\u001B[1m191/191\u001B[0m \u001B[32m━━━━━━━━━━━━━━━━━━━━\u001B[0m\u001B[37m\u001B[0m \u001B[1m16s\u001B[0m 83ms/step - accuracy: 0.9829 - loss: 0.1018 - val_accuracy: 0.7157 - val_loss: 1.1663\n",
      "Epoch 8/10\n",
      "\u001B[1m191/191\u001B[0m \u001B[32m━━━━━━━━━━━━━━━━━━━━\u001B[0m\u001B[37m\u001B[0m \u001B[1m18s\u001B[0m 94ms/step - accuracy: 0.9814 - loss: 0.1092 - val_accuracy: 0.7682 - val_loss: 0.9718\n",
      "Epoch 9/10\n",
      "\u001B[1m191/191\u001B[0m \u001B[32m━━━━━━━━━━━━━━━━━━━━\u001B[0m\u001B[37m\u001B[0m \u001B[1m18s\u001B[0m 94ms/step - accuracy: 0.9906 - loss: 0.0755 - val_accuracy: 0.7525 - val_loss: 1.0204\n",
      "Epoch 10/10\n",
      "\u001B[1m191/191\u001B[0m \u001B[32m━━━━━━━━━━━━━━━━━━━━\u001B[0m\u001B[37m\u001B[0m \u001B[1m16s\u001B[0m 85ms/step - accuracy: 0.9936 - loss: 0.0648 - val_accuracy: 0.7630 - val_loss: 0.9852\n",
      "Best epoch: 3\n",
      "Epoch 1/3\n",
      "\u001B[1m191/191\u001B[0m \u001B[32m━━━━━━━━━━━━━━━━━━━━\u001B[0m\u001B[37m\u001B[0m \u001B[1m16s\u001B[0m 86ms/step - accuracy: 0.9952 - loss: 0.0552\n",
      "Epoch 2/3\n",
      "\u001B[1m191/191\u001B[0m \u001B[32m━━━━━━━━━━━━━━━━━━━━\u001B[0m\u001B[37m\u001B[0m \u001B[1m18s\u001B[0m 94ms/step - accuracy: 0.9942 - loss: 0.0583\n",
      "Epoch 3/3\n",
      "\u001B[1m191/191\u001B[0m \u001B[32m━━━━━━━━━━━━━━━━━━━━\u001B[0m\u001B[37m\u001B[0m \u001B[1m17s\u001B[0m 91ms/step - accuracy: 0.9959 - loss: 0.0532\n",
      "\u001B[1m48/48\u001B[0m \u001B[32m━━━━━━━━━━━━━━━━━━━━\u001B[0m\u001B[37m\u001B[0m \u001B[1m1s\u001B[0m 25ms/step - accuracy: 0.7320 - loss: 1.1913\n",
      "Validation accuracy: 0.7498358488082886\n"
     ]
    }
   ],
   "source": [
    "def build_model(hp: HyperParameters):\n",
    "    model = Sequential()\n",
    "    model.add(Input(shape=(60,)))\n",
    "    model.add(Embedding(input_dim=20000, output_dim=hp.Int('embedding_output_dim', min_value=32, max_value=1024, step=32)))\n",
    "    model.add(Bidirectional(LSTM(units=hp.Int('lstm_units_1', min_value=32, max_value=1024, step=32), return_sequences=True, kernel_regularizer=regularizers.l1_l2(l1=1e-5, l2=1e-4), bias_regularizer=regularizers.l2(1e-4), activity_regularizer=regularizers.l2(1e-5))))\n",
    "    model.add(Bidirectional(LSTM(units=hp.Int('lstm_units_2', min_value=32, max_value=1024, step=32), return_sequences=True, kernel_regularizer=regularizers.l1_l2(l1=1e-5, l2=1e-4), bias_regularizer=regularizers.l2(1e-4), activity_regularizer=regularizers.l2(1e-5))))\n",
    "    model.add(Bidirectional(LSTM(units=hp.Int('lstm_units_3', min_value=32, max_value=1024, step=32), return_sequences=False, kernel_regularizer=regularizers.l1_l2(l1=1e-5, l2=1e-4), bias_regularizer=regularizers.l2(1e-4), activity_regularizer=regularizers.l2(1e-5))))\n",
    "    model.add(Dropout(hp.Float('dropout_rate', min_value=0.0, max_value=0.5, step=0.1)))\n",
    "    model.add(Dense(1, activation='sigmoid'))\n",
    "    model.compile(optimizer=Adam(hp.Choice('learning_rate', [1e-2, 1e-3, 1e-4, 1e-5])), loss='binary_crossentropy', metrics=['accuracy'])\n",
    "    return model\n",
    "\n",
    "# Assuming you have defined and prepared X_train_padded, y_train, X_validate_padded, y_validate beforehand\n",
    "\n",
    "tuner = RandomSearch(build_model, objective='val_accuracy', max_trials=10, executions_per_trial=3, directory='my_dir', project_name='keras_tuning_advanced')\n",
    "tuner.search(x=X_train_padded, y=y_train, epochs=10, validation_data=(X_validate_padded, y_validate), callbacks=[EarlyStopping(monitor='val_loss', patience=10)])\n",
    "\n",
    "best_hps = tuner.get_best_hyperparameters()[0]\n",
    "\n",
    "# Now, you should only instantiate, train, and evaluate your model once with the optimal hyperparameters\n",
    "model = tuner.hypermodel.build(best_hps)\n",
    "history = model.fit(X_train_padded, y_train, epochs=10, validation_data=(X_validate_padded, y_validate), callbacks=[EarlyStopping(monitor='val_loss', patience=10)])\n",
    "\n",
    "val_acc_per_epoch = history.history['val_accuracy']\n",
    "best_epoch = val_acc_per_epoch.index(max(val_acc_per_epoch)) + 1\n",
    "print(f'Best epoch: {best_epoch}')\n",
    "\n",
    "model.fit(X_train_padded, y_train, epochs=best_epoch)\n",
    "val_loss, val_accuracy = model.evaluate(X_validate_padded, y_validate)\n",
    "\n",
    "print(f\"Validation accuracy: {val_accuracy}\")\n"
   ],
   "metadata": {
    "collapsed": false
   },
   "id": "6a0423d94962b3a9",
   "execution_count": 29
  },
  {
   "cell_type": "code",
   "outputs": [],
   "source": [],
   "metadata": {
    "collapsed": false,
    "ExecuteTime": {
     "start_time": "2024-03-05T11:57:00.726877Z"
    }
   },
   "id": "ee24c5344e0f6e7d"
  },
  {
   "cell_type": "code",
   "outputs": [],
   "source": [],
   "metadata": {
    "collapsed": false
   },
   "id": "8a346956634255b3"
  },
  {
   "cell_type": "code",
   "outputs": [],
   "source": [],
   "metadata": {
    "collapsed": false
   },
   "id": "1da1688f3da5fc2e"
  },
  {
   "cell_type": "code",
   "outputs": [],
   "source": [],
   "metadata": {
    "collapsed": false
   },
   "id": "2a85556eeb6795d2"
  },
  {
   "cell_type": "code",
   "outputs": [],
   "source": [
    "from keras_tuner import HyperParameters\n",
    "from tensorflow.keras.models import Sequential\n",
    "from tensorflow.keras.layers import Embedding, LSTM, Dropout, Dense\n",
    "from tensorflow.keras.optimizers import Adam\n",
    "from tensorflow.keras.callbacks import EarlyStopping\n",
    "from tensorflow.keras import regularizers\n",
    "\n",
    "\n",
    "def build_model(hp: HyperParameters):\n",
    "    model = Sequential()\n",
    "    model.add(Embedding(\n",
    "        input_dim=10000,\n",
    "        output_dim=hp.Int('output_dim', min_value=32, max_value=512, step=32),\n",
    "        input_length=32  # Adjust based on your sequence length\n",
    "    ))\n",
    "    model.add(LSTM(\n",
    "        units=hp.Int('units', min_value=32, max_value=512, step=32),\n",
    "        return_sequences=True,\n",
    "        kernel_regularizer=regularizers.l1_l2(l1=1e-5, l2=1e-4),\n",
    "        bias_regularizer=regularizers.l2(1e-4),\n",
    "        activity_regularizer=regularizers.l2(1e-5)\n",
    "    ))\n",
    "    model.add(LSTM(\n",
    "        units=hp.Int('units', min_value=32, max_value=512, step=32),\n",
    "        return_sequences=True,\n",
    "        kernel_regularizer=regularizers.l1_l2(l1=1e-5, l2=1e-4),\n",
    "        bias_regularizer=regularizers.l2(1e-4),\n",
    "        activity_regularizer=regularizers.l2(1e-5)\n",
    "    ))\n",
    "    model.add(LSTM(\n",
    "        units=hp.Int('units', min_value=32, max_value=512, step=32),\n",
    "        kernel_regularizer=regularizers.l1_l2(l1=1e-5, l2=1e-4),\n",
    "        bias_regularizer=regularizers.l2(1e-4),\n",
    "        activity_regularizer=regularizers.l2(1e-5)\n",
    "    ))\n",
    "    model.add(Dropout(\n",
    "        hp.Float('dropout_rate', min_value=0.0, max_value=0.5, step=0.1)  # Adjust its range as needed\n",
    "    ))\n",
    "    model.add(Dense(\n",
    "        1,\n",
    "        activation='sigmoid'\n",
    "    ))\n",
    "    model.compile(\n",
    "        optimizer=Adam(\n",
    "            hp.Choice('learning_rate', [1e-2, 1e-3, 1e-4])\n",
    "        ),\n",
    "        loss='binary_crossentropy',\n",
    "        metrics=['accuracy']\n",
    "    )\n",
    "    return model\n"
   ],
   "metadata": {
    "collapsed": false,
    "ExecuteTime": {
     "end_time": "2024-03-05T12:24:36.668369Z",
     "start_time": "2024-03-05T12:24:36.660750Z"
    }
   },
   "id": "e005d848444c559c",
   "execution_count": 27
  },
  {
   "cell_type": "code",
   "outputs": [
    {
     "name": "stdout",
     "output_type": "stream",
     "text": [
      "\n",
      "Training with batch size: 32\n"
     ]
    },
    {
     "ename": "ValueError",
     "evalue": "Unrecognized keyword arguments passed to Embedding: {'input_length': 32}",
     "output_type": "error",
     "traceback": [
      "\u001B[1;31m---------------------------------------------------------------------------\u001B[0m",
      "\u001B[1;31mValueError\u001B[0m                                Traceback (most recent call last)",
      "Cell \u001B[1;32mIn[28], line 6\u001B[0m\n\u001B[0;32m      3\u001B[0m \u001B[38;5;28;01mfor\u001B[39;00m batch_size \u001B[38;5;129;01min\u001B[39;00m batch_sizes:\n\u001B[0;32m      4\u001B[0m     \u001B[38;5;28mprint\u001B[39m(\u001B[38;5;124mf\u001B[39m\u001B[38;5;124m\"\u001B[39m\u001B[38;5;130;01m\\n\u001B[39;00m\u001B[38;5;124mTraining with batch size: \u001B[39m\u001B[38;5;132;01m{\u001B[39;00mbatch_size\u001B[38;5;132;01m}\u001B[39;00m\u001B[38;5;124m\"\u001B[39m)\n\u001B[1;32m----> 6\u001B[0m     tuner \u001B[38;5;241m=\u001B[39m \u001B[43mRandomSearch\u001B[49m\u001B[43m(\u001B[49m\n\u001B[0;32m      7\u001B[0m \u001B[43m        \u001B[49m\u001B[43mbuild_model\u001B[49m\u001B[43m,\u001B[49m\n\u001B[0;32m      8\u001B[0m \u001B[43m        \u001B[49m\u001B[43mobjective\u001B[49m\u001B[38;5;241;43m=\u001B[39;49m\u001B[38;5;124;43m'\u001B[39;49m\u001B[38;5;124;43mval_accuracy\u001B[39;49m\u001B[38;5;124;43m'\u001B[39;49m\u001B[43m,\u001B[49m\n\u001B[0;32m      9\u001B[0m \u001B[43m        \u001B[49m\u001B[43mmax_trials\u001B[49m\u001B[38;5;241;43m=\u001B[39;49m\u001B[38;5;241;43m5\u001B[39;49m\u001B[43m,\u001B[49m\u001B[43m \u001B[49m\u001B[38;5;66;43;03m# reduced for demonstration\u001B[39;49;00m\n\u001B[0;32m     10\u001B[0m \u001B[43m        \u001B[49m\u001B[43mexecutions_per_trial\u001B[49m\u001B[38;5;241;43m=\u001B[39;49m\u001B[38;5;241;43m2\u001B[39;49m\u001B[43m,\u001B[49m\n\u001B[0;32m     11\u001B[0m \u001B[43m        \u001B[49m\u001B[43mdirectory\u001B[49m\u001B[38;5;241;43m=\u001B[39;49m\u001B[38;5;124;43m'\u001B[39;49m\u001B[38;5;124;43mmy_dir\u001B[39;49m\u001B[38;5;124;43m'\u001B[39;49m\u001B[43m,\u001B[49m\n\u001B[0;32m     12\u001B[0m \u001B[43m        \u001B[49m\u001B[43mproject_name\u001B[49m\u001B[38;5;241;43m=\u001B[39;49m\u001B[38;5;124;43mf\u001B[39;49m\u001B[38;5;124;43m'\u001B[39;49m\u001B[38;5;124;43mkeras_tuning_bs_\u001B[39;49m\u001B[38;5;132;43;01m{\u001B[39;49;00m\u001B[43mbatch_size\u001B[49m\u001B[38;5;132;43;01m}\u001B[39;49;00m\u001B[38;5;124;43m'\u001B[39;49m\n\u001B[0;32m     13\u001B[0m \u001B[43m    \u001B[49m\u001B[43m)\u001B[49m\n\u001B[0;32m     15\u001B[0m     tuner\u001B[38;5;241m.\u001B[39msearch(x\u001B[38;5;241m=\u001B[39mX_train_padded, y\u001B[38;5;241m=\u001B[39my_train, epochs\u001B[38;5;241m=\u001B[39m\u001B[38;5;241m10\u001B[39m, batch_size\u001B[38;5;241m=\u001B[39mbatch_size,\n\u001B[0;32m     16\u001B[0m                  validation_data\u001B[38;5;241m=\u001B[39m(X_validate_padded, y_validate),\n\u001B[0;32m     17\u001B[0m                  callbacks\u001B[38;5;241m=\u001B[39m[EarlyStopping(monitor\u001B[38;5;241m=\u001B[39m\u001B[38;5;124m'\u001B[39m\u001B[38;5;124mval_loss\u001B[39m\u001B[38;5;124m'\u001B[39m, patience\u001B[38;5;241m=\u001B[39m\u001B[38;5;241m3\u001B[39m)])\n\u001B[0;32m     19\u001B[0m     \u001B[38;5;66;03m# Fetch the best hyperparameters and print them\u001B[39;00m\n",
      "File \u001B[1;32mG:\\My Drive\\Northwestern MS\\422\\Module 9\\Assignment 9\\.venv\\Lib\\site-packages\\keras_tuner\\src\\tuners\\randomsearch.py:174\u001B[0m, in \u001B[0;36mRandomSearch.__init__\u001B[1;34m(self, hypermodel, objective, max_trials, seed, hyperparameters, tune_new_entries, allow_new_entries, max_retries_per_trial, max_consecutive_failed_trials, **kwargs)\u001B[0m\n\u001B[0;32m    163\u001B[0m \u001B[38;5;28mself\u001B[39m\u001B[38;5;241m.\u001B[39mseed \u001B[38;5;241m=\u001B[39m seed\n\u001B[0;32m    164\u001B[0m oracle \u001B[38;5;241m=\u001B[39m RandomSearchOracle(\n\u001B[0;32m    165\u001B[0m     objective\u001B[38;5;241m=\u001B[39mobjective,\n\u001B[0;32m    166\u001B[0m     max_trials\u001B[38;5;241m=\u001B[39mmax_trials,\n\u001B[1;32m   (...)\u001B[0m\n\u001B[0;32m    172\u001B[0m     max_consecutive_failed_trials\u001B[38;5;241m=\u001B[39mmax_consecutive_failed_trials,\n\u001B[0;32m    173\u001B[0m )\n\u001B[1;32m--> 174\u001B[0m \u001B[38;5;28;43msuper\u001B[39;49m\u001B[43m(\u001B[49m\u001B[43m)\u001B[49m\u001B[38;5;241;43m.\u001B[39;49m\u001B[38;5;21;43m__init__\u001B[39;49m\u001B[43m(\u001B[49m\u001B[43moracle\u001B[49m\u001B[43m,\u001B[49m\u001B[43m \u001B[49m\u001B[43mhypermodel\u001B[49m\u001B[43m,\u001B[49m\u001B[43m \u001B[49m\u001B[38;5;241;43m*\u001B[39;49m\u001B[38;5;241;43m*\u001B[39;49m\u001B[43mkwargs\u001B[49m\u001B[43m)\u001B[49m\n",
      "File \u001B[1;32mG:\\My Drive\\Northwestern MS\\422\\Module 9\\Assignment 9\\.venv\\Lib\\site-packages\\keras_tuner\\src\\engine\\tuner.py:122\u001B[0m, in \u001B[0;36mTuner.__init__\u001B[1;34m(self, oracle, hypermodel, max_model_size, optimizer, loss, metrics, distribution_strategy, directory, project_name, logger, tuner_id, overwrite, executions_per_trial, **kwargs)\u001B[0m\n\u001B[0;32m    114\u001B[0m \u001B[38;5;28;01mif\u001B[39;00m hypermodel \u001B[38;5;129;01mis\u001B[39;00m \u001B[38;5;28;01mNone\u001B[39;00m \u001B[38;5;129;01mand\u001B[39;00m \u001B[38;5;28mself\u001B[39m\u001B[38;5;241m.\u001B[39m\u001B[38;5;18m__class__\u001B[39m\u001B[38;5;241m.\u001B[39mrun_trial \u001B[38;5;129;01mis\u001B[39;00m Tuner\u001B[38;5;241m.\u001B[39mrun_trial:\n\u001B[0;32m    115\u001B[0m     \u001B[38;5;28;01mraise\u001B[39;00m \u001B[38;5;167;01mValueError\u001B[39;00m(\n\u001B[0;32m    116\u001B[0m         \u001B[38;5;124m\"\u001B[39m\u001B[38;5;124mReceived `hypermodel=None`. We only allow not specifying \u001B[39m\u001B[38;5;124m\"\u001B[39m\n\u001B[0;32m    117\u001B[0m         \u001B[38;5;124m\"\u001B[39m\u001B[38;5;124m`hypermodel` if the user defines the search space in \u001B[39m\u001B[38;5;124m\"\u001B[39m\n\u001B[0;32m    118\u001B[0m         \u001B[38;5;124m\"\u001B[39m\u001B[38;5;124m`Tuner.run_trial()` by subclassing a `Tuner` class without \u001B[39m\u001B[38;5;124m\"\u001B[39m\n\u001B[0;32m    119\u001B[0m         \u001B[38;5;124m\"\u001B[39m\u001B[38;5;124musing a `HyperModel` instance.\u001B[39m\u001B[38;5;124m\"\u001B[39m\n\u001B[0;32m    120\u001B[0m     )\n\u001B[1;32m--> 122\u001B[0m \u001B[38;5;28;43msuper\u001B[39;49m\u001B[43m(\u001B[49m\u001B[43m)\u001B[49m\u001B[38;5;241;43m.\u001B[39;49m\u001B[38;5;21;43m__init__\u001B[39;49m\u001B[43m(\u001B[49m\n\u001B[0;32m    123\u001B[0m \u001B[43m    \u001B[49m\u001B[43moracle\u001B[49m\u001B[38;5;241;43m=\u001B[39;49m\u001B[43moracle\u001B[49m\u001B[43m,\u001B[49m\n\u001B[0;32m    124\u001B[0m \u001B[43m    \u001B[49m\u001B[43mhypermodel\u001B[49m\u001B[38;5;241;43m=\u001B[39;49m\u001B[43mhypermodel\u001B[49m\u001B[43m,\u001B[49m\n\u001B[0;32m    125\u001B[0m \u001B[43m    \u001B[49m\u001B[43mdirectory\u001B[49m\u001B[38;5;241;43m=\u001B[39;49m\u001B[43mdirectory\u001B[49m\u001B[43m,\u001B[49m\n\u001B[0;32m    126\u001B[0m \u001B[43m    \u001B[49m\u001B[43mproject_name\u001B[49m\u001B[38;5;241;43m=\u001B[39;49m\u001B[43mproject_name\u001B[49m\u001B[43m,\u001B[49m\n\u001B[0;32m    127\u001B[0m \u001B[43m    \u001B[49m\u001B[43mlogger\u001B[49m\u001B[38;5;241;43m=\u001B[39;49m\u001B[43mlogger\u001B[49m\u001B[43m,\u001B[49m\n\u001B[0;32m    128\u001B[0m \u001B[43m    \u001B[49m\u001B[43moverwrite\u001B[49m\u001B[38;5;241;43m=\u001B[39;49m\u001B[43moverwrite\u001B[49m\u001B[43m,\u001B[49m\n\u001B[0;32m    129\u001B[0m \u001B[43m    \u001B[49m\u001B[38;5;241;43m*\u001B[39;49m\u001B[38;5;241;43m*\u001B[39;49m\u001B[43mkwargs\u001B[49m\u001B[43m,\u001B[49m\n\u001B[0;32m    130\u001B[0m \u001B[43m\u001B[49m\u001B[43m)\u001B[49m\n\u001B[0;32m    132\u001B[0m \u001B[38;5;28mself\u001B[39m\u001B[38;5;241m.\u001B[39mmax_model_size \u001B[38;5;241m=\u001B[39m max_model_size\n\u001B[0;32m    133\u001B[0m \u001B[38;5;28mself\u001B[39m\u001B[38;5;241m.\u001B[39moptimizer \u001B[38;5;241m=\u001B[39m optimizer\n",
      "File \u001B[1;32mG:\\My Drive\\Northwestern MS\\422\\Module 9\\Assignment 9\\.venv\\Lib\\site-packages\\keras_tuner\\src\\engine\\base_tuner.py:132\u001B[0m, in \u001B[0;36mBaseTuner.__init__\u001B[1;34m(self, oracle, hypermodel, directory, project_name, overwrite, **kwargs)\u001B[0m\n\u001B[0;32m    129\u001B[0m     \u001B[38;5;28mself\u001B[39m\u001B[38;5;241m.\u001B[39mreload()\n\u001B[0;32m    130\u001B[0m \u001B[38;5;28;01melse\u001B[39;00m:\n\u001B[0;32m    131\u001B[0m     \u001B[38;5;66;03m# Only populate initial space if not reloading.\u001B[39;00m\n\u001B[1;32m--> 132\u001B[0m     \u001B[38;5;28;43mself\u001B[39;49m\u001B[38;5;241;43m.\u001B[39;49m\u001B[43m_populate_initial_space\u001B[49m\u001B[43m(\u001B[49m\u001B[43m)\u001B[49m\n\u001B[0;32m    134\u001B[0m \u001B[38;5;66;03m# Run in distributed mode.\u001B[39;00m\n\u001B[0;32m    135\u001B[0m \u001B[38;5;28;01mif\u001B[39;00m dist_utils\u001B[38;5;241m.\u001B[39mhas_chief_oracle() \u001B[38;5;129;01mand\u001B[39;00m \u001B[38;5;129;01mnot\u001B[39;00m dist_utils\u001B[38;5;241m.\u001B[39mis_chief_oracle():\n\u001B[0;32m    136\u001B[0m     \u001B[38;5;66;03m# Proxies requests to the chief oracle.\u001B[39;00m\n\u001B[0;32m    137\u001B[0m     \u001B[38;5;66;03m# Avoid import at the top, to avoid inconsistent protobuf versions.\u001B[39;00m\n",
      "File \u001B[1;32mG:\\My Drive\\Northwestern MS\\422\\Module 9\\Assignment 9\\.venv\\Lib\\site-packages\\keras_tuner\\src\\engine\\base_tuner.py:192\u001B[0m, in \u001B[0;36mBaseTuner._populate_initial_space\u001B[1;34m(self)\u001B[0m\n\u001B[0;32m    190\u001B[0m \u001B[38;5;28mself\u001B[39m\u001B[38;5;241m.\u001B[39mhypermodel\u001B[38;5;241m.\u001B[39mdeclare_hyperparameters(hp)\n\u001B[0;32m    191\u001B[0m \u001B[38;5;28mself\u001B[39m\u001B[38;5;241m.\u001B[39moracle\u001B[38;5;241m.\u001B[39mupdate_space(hp)\n\u001B[1;32m--> 192\u001B[0m \u001B[38;5;28;43mself\u001B[39;49m\u001B[38;5;241;43m.\u001B[39;49m\u001B[43m_activate_all_conditions\u001B[49m\u001B[43m(\u001B[49m\u001B[43m)\u001B[49m\n",
      "File \u001B[1;32mG:\\My Drive\\Northwestern MS\\422\\Module 9\\Assignment 9\\.venv\\Lib\\site-packages\\keras_tuner\\src\\engine\\base_tuner.py:149\u001B[0m, in \u001B[0;36mBaseTuner._activate_all_conditions\u001B[1;34m(self)\u001B[0m\n\u001B[0;32m    147\u001B[0m hp \u001B[38;5;241m=\u001B[39m \u001B[38;5;28mself\u001B[39m\u001B[38;5;241m.\u001B[39moracle\u001B[38;5;241m.\u001B[39mget_space()\n\u001B[0;32m    148\u001B[0m \u001B[38;5;28;01mwhile\u001B[39;00m \u001B[38;5;28;01mTrue\u001B[39;00m:\n\u001B[1;32m--> 149\u001B[0m     \u001B[38;5;28;43mself\u001B[39;49m\u001B[38;5;241;43m.\u001B[39;49m\u001B[43mhypermodel\u001B[49m\u001B[38;5;241;43m.\u001B[39;49m\u001B[43mbuild\u001B[49m\u001B[43m(\u001B[49m\u001B[43mhp\u001B[49m\u001B[43m)\u001B[49m\n\u001B[0;32m    150\u001B[0m     \u001B[38;5;28mself\u001B[39m\u001B[38;5;241m.\u001B[39moracle\u001B[38;5;241m.\u001B[39mupdate_space(hp)\n\u001B[0;32m    152\u001B[0m     \u001B[38;5;66;03m# Update the recorded scopes.\u001B[39;00m\n",
      "Cell \u001B[1;32mIn[27], line 11\u001B[0m, in \u001B[0;36mbuild_model\u001B[1;34m(hp)\u001B[0m\n\u001B[0;32m      9\u001B[0m \u001B[38;5;28;01mdef\u001B[39;00m \u001B[38;5;21mbuild_model\u001B[39m(hp: HyperParameters):\n\u001B[0;32m     10\u001B[0m     model \u001B[38;5;241m=\u001B[39m Sequential()\n\u001B[1;32m---> 11\u001B[0m     model\u001B[38;5;241m.\u001B[39madd(\u001B[43mEmbedding\u001B[49m\u001B[43m(\u001B[49m\n\u001B[0;32m     12\u001B[0m \u001B[43m        \u001B[49m\u001B[43minput_dim\u001B[49m\u001B[38;5;241;43m=\u001B[39;49m\u001B[38;5;241;43m10000\u001B[39;49m\u001B[43m,\u001B[49m\n\u001B[0;32m     13\u001B[0m \u001B[43m        \u001B[49m\u001B[43moutput_dim\u001B[49m\u001B[38;5;241;43m=\u001B[39;49m\u001B[43mhp\u001B[49m\u001B[38;5;241;43m.\u001B[39;49m\u001B[43mInt\u001B[49m\u001B[43m(\u001B[49m\u001B[38;5;124;43m'\u001B[39;49m\u001B[38;5;124;43moutput_dim\u001B[39;49m\u001B[38;5;124;43m'\u001B[39;49m\u001B[43m,\u001B[49m\u001B[43m \u001B[49m\u001B[43mmin_value\u001B[49m\u001B[38;5;241;43m=\u001B[39;49m\u001B[38;5;241;43m32\u001B[39;49m\u001B[43m,\u001B[49m\u001B[43m \u001B[49m\u001B[43mmax_value\u001B[49m\u001B[38;5;241;43m=\u001B[39;49m\u001B[38;5;241;43m512\u001B[39;49m\u001B[43m,\u001B[49m\u001B[43m \u001B[49m\u001B[43mstep\u001B[49m\u001B[38;5;241;43m=\u001B[39;49m\u001B[38;5;241;43m32\u001B[39;49m\u001B[43m)\u001B[49m\u001B[43m,\u001B[49m\n\u001B[0;32m     14\u001B[0m \u001B[43m        \u001B[49m\u001B[43minput_length\u001B[49m\u001B[38;5;241;43m=\u001B[39;49m\u001B[38;5;241;43m32\u001B[39;49m\u001B[43m  \u001B[49m\u001B[38;5;66;43;03m# Adjust based on your sequence length\u001B[39;49;00m\n\u001B[0;32m     15\u001B[0m \u001B[43m    \u001B[49m\u001B[43m)\u001B[49m)\n\u001B[0;32m     16\u001B[0m     model\u001B[38;5;241m.\u001B[39madd(LSTM(\n\u001B[0;32m     17\u001B[0m         units\u001B[38;5;241m=\u001B[39mhp\u001B[38;5;241m.\u001B[39mInt(\u001B[38;5;124m'\u001B[39m\u001B[38;5;124munits\u001B[39m\u001B[38;5;124m'\u001B[39m, min_value\u001B[38;5;241m=\u001B[39m\u001B[38;5;241m32\u001B[39m, max_value\u001B[38;5;241m=\u001B[39m\u001B[38;5;241m512\u001B[39m, step\u001B[38;5;241m=\u001B[39m\u001B[38;5;241m32\u001B[39m),\n\u001B[0;32m     18\u001B[0m         return_sequences\u001B[38;5;241m=\u001B[39m\u001B[38;5;28;01mTrue\u001B[39;00m,\n\u001B[1;32m   (...)\u001B[0m\n\u001B[0;32m     21\u001B[0m         activity_regularizer\u001B[38;5;241m=\u001B[39mregularizers\u001B[38;5;241m.\u001B[39ml2(\u001B[38;5;241m1e-5\u001B[39m)\n\u001B[0;32m     22\u001B[0m     ))\n\u001B[0;32m     23\u001B[0m     model\u001B[38;5;241m.\u001B[39madd(LSTM(\n\u001B[0;32m     24\u001B[0m         units\u001B[38;5;241m=\u001B[39mhp\u001B[38;5;241m.\u001B[39mInt(\u001B[38;5;124m'\u001B[39m\u001B[38;5;124munits\u001B[39m\u001B[38;5;124m'\u001B[39m, min_value\u001B[38;5;241m=\u001B[39m\u001B[38;5;241m32\u001B[39m, max_value\u001B[38;5;241m=\u001B[39m\u001B[38;5;241m512\u001B[39m, step\u001B[38;5;241m=\u001B[39m\u001B[38;5;241m32\u001B[39m),\n\u001B[0;32m     25\u001B[0m         return_sequences\u001B[38;5;241m=\u001B[39m\u001B[38;5;28;01mTrue\u001B[39;00m,\n\u001B[1;32m   (...)\u001B[0m\n\u001B[0;32m     28\u001B[0m         activity_regularizer\u001B[38;5;241m=\u001B[39mregularizers\u001B[38;5;241m.\u001B[39ml2(\u001B[38;5;241m1e-5\u001B[39m)\n\u001B[0;32m     29\u001B[0m     ))\n",
      "File \u001B[1;32mG:\\My Drive\\Northwestern MS\\422\\Module 9\\Assignment 9\\.venv\\Lib\\site-packages\\keras\\src\\layers\\core\\embedding.py:81\u001B[0m, in \u001B[0;36mEmbedding.__init__\u001B[1;34m(self, input_dim, output_dim, embeddings_initializer, embeddings_regularizer, embeddings_constraint, mask_zero, lora_rank, **kwargs)\u001B[0m\n\u001B[0;32m     70\u001B[0m \u001B[38;5;28;01mdef\u001B[39;00m \u001B[38;5;21m__init__\u001B[39m(\n\u001B[0;32m     71\u001B[0m     \u001B[38;5;28mself\u001B[39m,\n\u001B[0;32m     72\u001B[0m     input_dim,\n\u001B[1;32m   (...)\u001B[0m\n\u001B[0;32m     79\u001B[0m     \u001B[38;5;241m*\u001B[39m\u001B[38;5;241m*\u001B[39mkwargs,\n\u001B[0;32m     80\u001B[0m ):\n\u001B[1;32m---> 81\u001B[0m     \u001B[38;5;28;43msuper\u001B[39;49m\u001B[43m(\u001B[49m\u001B[43m)\u001B[49m\u001B[38;5;241;43m.\u001B[39;49m\u001B[38;5;21;43m__init__\u001B[39;49m\u001B[43m(\u001B[49m\u001B[38;5;241;43m*\u001B[39;49m\u001B[38;5;241;43m*\u001B[39;49m\u001B[43mkwargs\u001B[49m\u001B[43m)\u001B[49m\n\u001B[0;32m     82\u001B[0m     \u001B[38;5;28mself\u001B[39m\u001B[38;5;241m.\u001B[39minput_dim \u001B[38;5;241m=\u001B[39m input_dim\n\u001B[0;32m     83\u001B[0m     \u001B[38;5;28mself\u001B[39m\u001B[38;5;241m.\u001B[39moutput_dim \u001B[38;5;241m=\u001B[39m output_dim\n",
      "File \u001B[1;32mG:\\My Drive\\Northwestern MS\\422\\Module 9\\Assignment 9\\.venv\\Lib\\site-packages\\keras\\src\\layers\\layer.py:265\u001B[0m, in \u001B[0;36mLayer.__init__\u001B[1;34m(self, activity_regularizer, trainable, dtype, autocast, name, **kwargs)\u001B[0m\n\u001B[0;32m    263\u001B[0m     \u001B[38;5;28mself\u001B[39m\u001B[38;5;241m.\u001B[39m_input_shape_arg \u001B[38;5;241m=\u001B[39m input_shape_arg\n\u001B[0;32m    264\u001B[0m \u001B[38;5;28;01mif\u001B[39;00m kwargs:\n\u001B[1;32m--> 265\u001B[0m     \u001B[38;5;28;01mraise\u001B[39;00m \u001B[38;5;167;01mValueError\u001B[39;00m(\n\u001B[0;32m    266\u001B[0m         \u001B[38;5;124m\"\u001B[39m\u001B[38;5;124mUnrecognized keyword arguments \u001B[39m\u001B[38;5;124m\"\u001B[39m\n\u001B[0;32m    267\u001B[0m         \u001B[38;5;124mf\u001B[39m\u001B[38;5;124m\"\u001B[39m\u001B[38;5;124mpassed to \u001B[39m\u001B[38;5;132;01m{\u001B[39;00m\u001B[38;5;28mself\u001B[39m\u001B[38;5;241m.\u001B[39m\u001B[38;5;18m__class__\u001B[39m\u001B[38;5;241m.\u001B[39m\u001B[38;5;18m__name__\u001B[39m\u001B[38;5;132;01m}\u001B[39;00m\u001B[38;5;124m: \u001B[39m\u001B[38;5;132;01m{\u001B[39;00mkwargs\u001B[38;5;132;01m}\u001B[39;00m\u001B[38;5;124m\"\u001B[39m\n\u001B[0;32m    268\u001B[0m     )\n\u001B[0;32m    270\u001B[0m \u001B[38;5;28mself\u001B[39m\u001B[38;5;241m.\u001B[39mbuilt \u001B[38;5;241m=\u001B[39m \u001B[38;5;28;01mFalse\u001B[39;00m\n\u001B[0;32m    271\u001B[0m \u001B[38;5;28mself\u001B[39m\u001B[38;5;241m.\u001B[39mdtype_policy \u001B[38;5;241m=\u001B[39m dtype_policies\u001B[38;5;241m.\u001B[39mget(dtype)\n",
      "\u001B[1;31mValueError\u001B[0m: Unrecognized keyword arguments passed to Embedding: {'input_length': 32}"
     ]
    }
   ],
   "source": [
    "batch_sizes = [32, 64, 128, 256]\n",
    "\n",
    "for batch_size in batch_sizes:\n",
    "    print(f\"\\nTraining with batch size: {batch_size}\")\n",
    "    \n",
    "    tuner = RandomSearch(\n",
    "        build_model,\n",
    "        objective='val_accuracy',\n",
    "        max_trials=5, # reduced for demonstration\n",
    "        executions_per_trial=2,\n",
    "        directory='my_dir',\n",
    "        project_name=f'keras_tuning_bs_{batch_size}'\n",
    "    )\n",
    "    \n",
    "    tuner.search(x=X_train_padded, y=y_train, epochs=10, batch_size=batch_size,\n",
    "                 validation_data=(X_validate_padded, y_validate),\n",
    "                 callbacks=[EarlyStopping(monitor='val_loss', patience=3)])\n",
    "    \n",
    "    # Fetch the best hyperparameters and print them\n",
    "    best_hps = tuner.get_best_hyperparameters()[0]\n",
    "    print(f\"\\nBest Hyperparameters for batch_size: {batch_size}:\")\n",
    "    print(f\"Optimal number of units: {best_hps.get('units')}\")\n",
    "    print(f\"Optimal output dimension: {best_hps.get('output_dim')}\")\n",
    "    print(f\"Optimal dropout rate: {best_hps.get('dropout_rate')}\")\n",
    "    print(f\"Optimal learning rate: {best_hps.get('learning_rate')}\")\n",
    "    \n",
    "    # Build the model with the optimal hyperparameters and train it on the data\n",
    "    model = tuner.hypermodel.build(best_hps)\n",
    "    history = model.fit(X_train_padded, y_train, epochs=10, batch_size=batch_size,\n",
    "                        validation_data=(X_validate_padded, y_validate),\n",
    "                        callbacks=[EarlyStopping(monitor='val_loss', patience=3)])\n",
    "\n",
    "    # Get the best epoch with the highest validation accuracy\n",
    "    val_acc_per_epoch = history.history['val_accuracy']\n",
    "    best_epoch = val_acc_per_epoch.index(max(val_acc_per_epoch)) + 1\n",
    "    print(f\"\\nBest epoch for batch_size {batch_size}: {best_epoch}\")\n",
    "\n",
    "    # Re-instantiate the hypermodel and train it with the optimal number of epochs from above.\n",
    "    hypermodel = tuner.hypermodel.build(best_hps)\n",
    "\n",
    "    # Retrain the model\n",
    "    hypermodel.fit(X_train_padded, y_train, epochs=best_epoch, batch_size=batch_size)\n",
    "\n",
    "    # Evaluate the hypermodel on the validation set\n",
    "    val_loss, val_accuracy = hypermodel.evaluate(X_validate_padded, y_validate)\n",
    "    print(f\"Validation accuracy for batch_size {batch_size}: {val_accuracy}\\n{'-'*50}\")"
   ],
   "metadata": {
    "collapsed": false,
    "ExecuteTime": {
     "end_time": "2024-03-05T12:24:40.595794Z",
     "start_time": "2024-03-05T12:24:40.489326Z"
    }
   },
   "id": "950df765a0d745b5",
   "execution_count": 28
  },
  {
   "cell_type": "code",
   "outputs": [],
   "source": [],
   "metadata": {
    "collapsed": false
   },
   "id": "8c5cda907778100"
  },
  {
   "cell_type": "code",
   "outputs": [],
   "source": [],
   "metadata": {
    "collapsed": false
   },
   "id": "8f349d624f8c1517"
  },
  {
   "cell_type": "code",
   "outputs": [],
   "source": [],
   "metadata": {
    "collapsed": false
   },
   "id": "9c138f9d25fd8b8"
  },
  {
   "cell_type": "code",
   "outputs": [
    {
     "name": "stdout",
     "output_type": "stream",
     "text": [
      "Reloading Tuner from my_dir\\keras_tuning_advanced\\tuner0.json\n"
     ]
    },
    {
     "ename": "NameError",
     "evalue": "name 'hp' is not defined",
     "output_type": "error",
     "traceback": [
      "\u001B[1;31m---------------------------------------------------------------------------\u001B[0m",
      "\u001B[1;31mNameError\u001B[0m                                 Traceback (most recent call last)",
      "Cell \u001B[1;32mIn[25], line 62\u001B[0m\n\u001B[0;32m     50\u001B[0m     \u001B[38;5;28;01mreturn\u001B[39;00m model\n\u001B[0;32m     53\u001B[0m tuner \u001B[38;5;241m=\u001B[39m RandomSearch(\n\u001B[0;32m     54\u001B[0m     build_model,\n\u001B[0;32m     55\u001B[0m     objective\u001B[38;5;241m=\u001B[39m\u001B[38;5;124m'\u001B[39m\u001B[38;5;124mval_accuracy\u001B[39m\u001B[38;5;124m'\u001B[39m,\n\u001B[1;32m   (...)\u001B[0m\n\u001B[0;32m     59\u001B[0m     project_name\u001B[38;5;241m=\u001B[39m\u001B[38;5;124m'\u001B[39m\u001B[38;5;124mkeras_tuning_advanced\u001B[39m\u001B[38;5;124m'\u001B[39m\n\u001B[0;32m     60\u001B[0m )\n\u001B[1;32m---> 62\u001B[0m batch_size \u001B[38;5;241m=\u001B[39m \u001B[43mhp\u001B[49m\u001B[38;5;241m.\u001B[39mInt(\u001B[38;5;124m'\u001B[39m\u001B[38;5;124mbatch_size\u001B[39m\u001B[38;5;124m'\u001B[39m, min_value\u001B[38;5;241m=\u001B[39m\u001B[38;5;241m32\u001B[39m, max_value\u001B[38;5;241m=\u001B[39m\u001B[38;5;241m256\u001B[39m, step\u001B[38;5;241m=\u001B[39m\u001B[38;5;241m32\u001B[39m)\n\u001B[0;32m     64\u001B[0m tuner\u001B[38;5;241m.\u001B[39msearch(x\u001B[38;5;241m=\u001B[39mX_train_padded, y\u001B[38;5;241m=\u001B[39my_train, epochs\u001B[38;5;241m=\u001B[39m\u001B[38;5;241m10\u001B[39m, batch_size\u001B[38;5;241m=\u001B[39mbatch_size,\n\u001B[0;32m     65\u001B[0m              validation_data\u001B[38;5;241m=\u001B[39m(X_validate_padded, y_validate),\n\u001B[0;32m     66\u001B[0m              callbacks\u001B[38;5;241m=\u001B[39m[EarlyStopping(monitor\u001B[38;5;241m=\u001B[39m\u001B[38;5;124m'\u001B[39m\u001B[38;5;124mval_loss\u001B[39m\u001B[38;5;124m'\u001B[39m, patience\u001B[38;5;241m=\u001B[39m\u001B[38;5;241m3\u001B[39m)])\n\u001B[0;32m     69\u001B[0m \u001B[38;5;66;03m# Fetch the best hyperparameters and print them\u001B[39;00m\n",
      "\u001B[1;31mNameError\u001B[0m: name 'hp' is not defined"
     ]
    }
   ],
   "source": [
    "from keras_tuner import HyperParameters\n",
    "from tensorflow.keras.models import Sequential\n",
    "from tensorflow.keras.layers import Embedding, LSTM, Dropout, Dense\n",
    "from tensorflow.keras.optimizers import Adam\n",
    "from tensorflow.keras.callbacks import EarlyStopping\n",
    "from tensorflow.keras import regularizers\n",
    "\n",
    "\n",
    "def build_model(hp: HyperParameters):\n",
    "    model = Sequential()\n",
    "    model.add(Embedding(\n",
    "        input_dim=10000,\n",
    "        output_dim=hp.Int('output_dim', min_value=32, max_value=512, step=32),\n",
    "        input_length=100  # Adjust based on your sequence length\n",
    "    ))\n",
    "    model.add(LSTM(\n",
    "        units=hp.Int('units', min_value=32, max_value=512, step=32),\n",
    "        return_sequences=True,\n",
    "        kernel_regularizer=regularizers.l1_l2(l1=1e-5, l2=1e-4),\n",
    "        bias_regularizer=regularizers.l2(1e-4),\n",
    "        activity_regularizer=regularizers.l2(1e-5)\n",
    "    ))\n",
    "    model.add(LSTM(\n",
    "        units=hp.Int('units', min_value=32, max_value=512, step=32),\n",
    "        return_sequences=True,\n",
    "        kernel_regularizer=regularizers.l1_l2(l1=1e-5, l2=1e-4),\n",
    "        bias_regularizer=regularizers.l2(1e-4),\n",
    "        activity_regularizer=regularizers.l2(1e-5)\n",
    "    ))\n",
    "    model.add(LSTM(\n",
    "        units=hp.Int('units', min_value=32, max_value=512, step=32),\n",
    "        kernel_regularizer=regularizers.l1_l2(l1=1e-5, l2=1e-4),\n",
    "        bias_regularizer=regularizers.l2(1e-4),\n",
    "        activity_regularizer=regularizers.l2(1e-5)\n",
    "    ))\n",
    "    model.add(Dropout(\n",
    "        hp.Float('dropout_rate', min_value=0.0, max_value=0.5, step=0.1)  # Adjust its range as needed\n",
    "    ))\n",
    "    model.add(Dense(\n",
    "        1,\n",
    "        activation='sigmoid'\n",
    "    ))\n",
    "    model.compile(\n",
    "        optimizer=Adam(\n",
    "            hp.Choice('learning_rate', [1e-2, 1e-3, 1e-4])\n",
    "        ),\n",
    "        loss='binary_crossentropy',\n",
    "        metrics=['accuracy']\n",
    "    )\n",
    "    return model\n",
    "\n",
    "\n",
    "tuner = RandomSearch(\n",
    "    build_model,\n",
    "    objective='val_accuracy',\n",
    "    max_trials=10,\n",
    "    executions_per_trial=2,\n",
    "    directory='my_dir',\n",
    "    project_name='keras_tuning_advanced'\n",
    ")\n",
    "\n",
    "batch_size = hp.Int('batch_size', min_value=32, max_value=256, step=32)\n",
    "\n",
    "tuner.search(x=X_train_padded, y=y_train, epochs=10, batch_size=batch_size,\n",
    "             validation_data=(X_validate_padded, y_validate),\n",
    "             callbacks=[EarlyStopping(monitor='val_loss', patience=3)])\n",
    "\n",
    "\n",
    "# Fetch the best hyperparameters and print them\n",
    "best_hps = tuner.get_best_hyperparameters()[0]\n",
    "print(f\"Optimal number of units: {best_hps.get('units')}\")\n",
    "print(f\"Optimal output dimension: {best_hps.get('output_dim')}\")\n",
    "print(f\"Optimal dropout rate: {best_hps.get('dropout_rate')}\")\n",
    "print(f\"Optimal learning rate: {best_hps.get('learning_rate')}\")\n",
    "\n",
    "# Build the model with the optimal hyperparameters and train it on the data\n",
    "model = tuner.hypermodel.build(best_hps)\n",
    "history = model.fit(X_train_padded, y_train, epochs=10,\n",
    "                    validation_data=(X_validate_padded, y_validate),\n",
    "                    callbacks=[EarlyStopping(monitor='val_loss', patience=3)])\n",
    "\n",
    "# Get the best epoch with the highest validation accuracy\n",
    "val_acc_per_epoch = history.history['val_accuracy']\n",
    "best_epoch = val_acc_per_epoch.index(max(val_acc_per_epoch)) + 1\n",
    "print('Best epoch: %d' % (best_epoch,))\n",
    "\n",
    "# Re-instantiate the hypermodel and train it with the optimal number of epochs from above.\n",
    "hypermodel = tuner.hypermodel.build(best_hps)\n",
    "\n",
    "# Retrain the model\n",
    "hypermodel.fit(X_train_padded, y_train, epochs=best_epoch)\n",
    "\n",
    "# Evaluate the hypermodel on the validation set\n",
    "val_loss, val_accuracy = hypermodel.evaluate(X_validate_padded, y_validate)\n",
    "\n",
    "print(\"Validation accuracy: \", val_accuracy)\n"
   ],
   "metadata": {
    "collapsed": false,
    "ExecuteTime": {
     "end_time": "2024-03-05T12:24:02.778604Z",
     "start_time": "2024-03-05T12:24:02.609777Z"
    }
   },
   "id": "7399ca782ce451b1",
   "execution_count": 25
  },
  {
   "cell_type": "code",
   "outputs": [],
   "source": [],
   "metadata": {
    "collapsed": false
   },
   "id": "50c0382370f7d5ff"
  },
  {
   "cell_type": "code",
   "outputs": [],
   "source": [],
   "metadata": {
    "collapsed": false
   },
   "id": "595705eeb9ec6407"
  },
  {
   "cell_type": "code",
   "outputs": [],
   "source": [],
   "metadata": {
    "collapsed": false
   },
   "id": "8b811532a9b2bc88"
  },
  {
   "cell_type": "code",
   "outputs": [],
   "source": [],
   "metadata": {
    "collapsed": false
   },
   "id": "7307474824746f60"
  },
  {
   "cell_type": "code",
   "outputs": [],
   "source": [],
   "metadata": {
    "collapsed": false
   },
   "id": "8ce4ad803a090259"
  },
  {
   "cell_type": "code",
   "outputs": [],
   "source": [],
   "metadata": {
    "collapsed": false
   },
   "id": "e360422c9b542cf8"
  },
  {
   "cell_type": "code",
   "outputs": [],
   "source": [],
   "metadata": {
    "collapsed": false
   },
   "id": "e1d3267f10b2345a"
  },
  {
   "cell_type": "code",
   "outputs": [],
   "source": [],
   "metadata": {
    "collapsed": false
   },
   "id": "a641f1eddc7041fb"
  },
  {
   "cell_type": "code",
   "outputs": [],
   "source": [
    "'''from tensorflow.keras.models import Sequential\n",
    "from tensorflow.keras.layers import Embedding, LSTM, Dropout, Dense\n",
    "from tensorflow.keras.optimizers import Adam\n",
    "from tensorflow.keras.callbacks import EarlyStopping\n",
    "from kerastuner.tuners import RandomSearch\n",
    "'''\n",
    "from keras_tuner import HyperParameters\n",
    "def build_model(hp: HyperParameters):\n",
    "    model = Sequential()\n",
    "    model.add(Embedding(\n",
    "        input_dim=10000,\n",
    "        output_dim=hp.Int('output_dim', min_value=32, max_value=512, step=32)\n",
    "    ))\n",
    "    model.add(Dropout(\n",
    "        hp.Float('dropout_rate', min_value=0.1, max_value=0.5, step=0.1)\n",
    "    ))\n",
    "    model.add(LSTM(\n",
    "        units=hp.Int('units', min_value=32, max_value=512, step=32),\n",
    "        return_sequences=True\n",
    "    ))\n",
    "    # Optionally add a condition to decide whether to return sequences\n",
    "    model.add(LSTM(\n",
    "        units=hp.Int('units', min_value=32, max_value=512, step=32)\n",
    "    ))\n",
    "    model.add(Dropout(\n",
    "        hp.Float('dropout_rate', min_value=0.1, max_value=0.5, step=0.1)\n",
    "    ))\n",
    "    model.add(Dense(\n",
    "        1,\n",
    "        activation='sigmoid'\n",
    "    ))\n",
    "    model.compile(\n",
    "        optimizer=Adam(\n",
    "            hp.Float('learning_rate', min_value=1e-4, max_value=1e-2, sampling='LOG')\n",
    "        ),\n",
    "        loss='binary_crossentropy',\n",
    "        metrics=['accuracy']\n",
    "    )\n",
    "    return model\n"
   ],
   "metadata": {
    "collapsed": false,
    "ExecuteTime": {
     "end_time": "2024-03-05T08:14:50.364862Z",
     "start_time": "2024-03-05T08:14:50.355904Z"
    }
   },
   "id": "e2f1bc62a03e7e5f",
   "execution_count": 18
  },
  {
   "cell_type": "code",
   "outputs": [
    {
     "name": "stdout",
     "output_type": "stream",
     "text": [
      "Reloading Tuner from my_dir\\keras_tuning_advanced\\tuner0.json\n",
      "Optimal number of units: 160\n",
      "Optimal output dimension: 224\n",
      "Optimal dropout rate: 0.30000000000000004\n",
      "Optimal learning rate: 0.0002515869363015755\n"
     ]
    }
   ],
   "source": [
    "\n",
    "tuner = RandomSearch(\n",
    "    build_model,\n",
    "    objective='val_accuracy',\n",
    "    max_trials=10,  # Increased number of trials\n",
    "    executions_per_trial=2,  # More executions per trial to average out performance\n",
    "    directory='my_dir',\n",
    "    project_name='keras_tuning_advanced'\n",
    ")\n",
    "\n",
    "tuner.search(x=X_train_padded, y=y_train, epochs=10,\n",
    "             validation_data=(X_validate_padded, y_validate),\n",
    "             callbacks=[EarlyStopping(monitor='val_loss', patience=3)])\n",
    "\n",
    "# Fetch the best hyperparameters and print them\n",
    "best_hps = tuner.get_best_hyperparameters()[0]\n",
    "print(f\"Optimal number of units: {best_hps.get('units')}\")\n",
    "print(f\"Optimal output dimension: {best_hps.get('output_dim')}\")\n",
    "print(f\"Optimal dropout rate: {best_hps.get('dropout_rate')}\")\n",
    "print(f\"Optimal learning rate: {best_hps.get('learning_rate')}\")\n"
   ],
   "metadata": {
    "collapsed": false,
    "ExecuteTime": {
     "end_time": "2024-03-05T08:14:50.545069Z",
     "start_time": "2024-03-05T08:14:50.366861Z"
    }
   },
   "id": "81df8b7554152cce",
   "execution_count": 19
  },
  {
   "cell_type": "code",
   "outputs": [
    {
     "name": "stdout",
     "output_type": "stream",
     "text": [
      "Epoch 1/10\n",
      "\u001B[1m191/191\u001B[0m \u001B[32m━━━━━━━━━━━━━━━━━━━━\u001B[0m\u001B[37m\u001B[0m \u001B[1m39s\u001B[0m 175ms/step - accuracy: 0.5521 - loss: 0.6870 - val_accuracy: 0.5739 - val_loss: 0.6824\n",
      "Epoch 2/10\n",
      "\u001B[1m191/191\u001B[0m \u001B[32m━━━━━━━━━━━━━━━━━━━━\u001B[0m\u001B[37m\u001B[0m \u001B[1m35s\u001B[0m 184ms/step - accuracy: 0.5678 - loss: 0.6846 - val_accuracy: 0.7072 - val_loss: 0.5950\n",
      "Epoch 3/10\n",
      "\u001B[1m191/191\u001B[0m \u001B[32m━━━━━━━━━━━━━━━━━━━━\u001B[0m\u001B[37m\u001B[0m \u001B[1m34s\u001B[0m 177ms/step - accuracy: 0.7378 - loss: 0.5791 - val_accuracy: 0.7479 - val_loss: 0.5598\n",
      "Epoch 4/10\n",
      "\u001B[1m191/191\u001B[0m \u001B[32m━━━━━━━━━━━━━━━━━━━━\u001B[0m\u001B[37m\u001B[0m \u001B[1m34s\u001B[0m 181ms/step - accuracy: 0.7904 - loss: 0.5016 - val_accuracy: 0.7485 - val_loss: 0.5693\n",
      "Epoch 5/10\n",
      "\u001B[1m191/191\u001B[0m \u001B[32m━━━━━━━━━━━━━━━━━━━━\u001B[0m\u001B[37m\u001B[0m \u001B[1m32s\u001B[0m 169ms/step - accuracy: 0.7746 - loss: 0.5213 - val_accuracy: 0.6087 - val_loss: 0.6513\n",
      "Epoch 6/10\n",
      "\u001B[1m191/191\u001B[0m \u001B[32m━━━━━━━━━━━━━━━━━━━━\u001B[0m\u001B[37m\u001B[0m \u001B[1m34s\u001B[0m 179ms/step - accuracy: 0.5888 - loss: 0.6470 - val_accuracy: 0.5739 - val_loss: 0.6829\n",
      "Best epoch: 4\n",
      "Epoch 1/4\n",
      "\u001B[1m191/191\u001B[0m \u001B[32m━━━━━━━━━━━━━━━━━━━━\u001B[0m\u001B[37m\u001B[0m \u001B[1m33s\u001B[0m 151ms/step - accuracy: 0.5801 - loss: 0.6834\n",
      "Epoch 2/4\n",
      "\u001B[1m191/191\u001B[0m \u001B[32m━━━━━━━━━━━━━━━━━━━━\u001B[0m\u001B[37m\u001B[0m \u001B[1m29s\u001B[0m 152ms/step - accuracy: 0.5741 - loss: 0.6832\n",
      "Epoch 3/4\n",
      "\u001B[1m191/191\u001B[0m \u001B[32m━━━━━━━━━━━━━━━━━━━━\u001B[0m\u001B[37m\u001B[0m \u001B[1m32s\u001B[0m 166ms/step - accuracy: 0.5734 - loss: 0.6837\n",
      "Epoch 4/4\n",
      "\u001B[1m191/191\u001B[0m \u001B[32m━━━━━━━━━━━━━━━━━━━━\u001B[0m\u001B[37m\u001B[0m \u001B[1m33s\u001B[0m 175ms/step - accuracy: 0.6803 - loss: 0.6031\n",
      "\u001B[1m48/48\u001B[0m \u001B[32m━━━━━━━━━━━━━━━━━━━━\u001B[0m\u001B[37m\u001B[0m \u001B[1m4s\u001B[0m 50ms/step - accuracy: 0.7360 - loss: 0.5355\n",
      "Validation accuracy:  0.7504924535751343\n"
     ]
    }
   ],
   "source": [
    "# Build the model with the optimal hyperparameters and train it on the data\n",
    "model = tuner.hypermodel.build(best_hps)\n",
    "history = model.fit(X_train_padded, y_train, epochs=10,\n",
    "                    validation_data=(X_validate_padded, y_validate),\n",
    "                    callbacks=[EarlyStopping(monitor='val_loss', patience=3)])\n",
    "\n",
    "# Get the best epoch with the highest validation accuracy\n",
    "val_acc_per_epoch = history.history['val_accuracy']\n",
    "best_epoch = val_acc_per_epoch.index(max(val_acc_per_epoch)) + 1\n",
    "print('Best epoch: %d' % (best_epoch,))\n",
    "\n",
    "# Re-instantiate the hypermodel and train it with the optimal number of epochs from above.\n",
    "hypermodel = tuner.hypermodel.build(best_hps)\n",
    "\n",
    "# Retrain the model\n",
    "hypermodel.fit(X_train_padded, y_train, epochs=best_epoch)\n",
    "\n",
    "# Evaluate the hypermodel on the validation set\n",
    "val_loss, val_accuracy = hypermodel.evaluate(X_validate_padded, y_validate)\n",
    "\n",
    "print(\"Validation accuracy: \", val_accuracy)\n"
   ],
   "metadata": {
    "collapsed": false,
    "ExecuteTime": {
     "end_time": "2024-03-05T08:20:31.498245Z",
     "start_time": "2024-03-05T08:14:50.547069Z"
    }
   },
   "id": "49022005d043787b",
   "execution_count": 20
  },
  {
   "cell_type": "code",
   "outputs": [],
   "source": [],
   "metadata": {
    "collapsed": false,
    "ExecuteTime": {
     "end_time": "2024-03-05T08:20:59.553569Z",
     "start_time": "2024-03-05T08:20:59.553569Z"
    }
   },
   "id": "fd91bf3e0238b651",
   "execution_count": null
  },
  {
   "cell_type": "code",
   "outputs": [],
   "source": [],
   "metadata": {
    "collapsed": false
   },
   "id": "4e00a207337701f5",
   "execution_count": null
  },
  {
   "cell_type": "code",
   "outputs": [],
   "source": [],
   "metadata": {
    "collapsed": false,
    "ExecuteTime": {
     "start_time": "2024-03-05T08:20:59.558981Z"
    }
   },
   "id": "a14aaa9fb46fa849",
   "execution_count": null
  },
  {
   "cell_type": "code",
   "outputs": [],
   "source": [],
   "metadata": {
    "collapsed": false
   },
   "id": "a45c9c350ee8121",
   "execution_count": null
  },
  {
   "cell_type": "code",
   "outputs": [],
   "source": [],
   "metadata": {
    "collapsed": false,
    "ExecuteTime": {
     "start_time": "2024-03-05T08:20:59.562924Z"
    }
   },
   "id": "5063c7c81a61a80f",
   "execution_count": null
  },
  {
   "cell_type": "code",
   "outputs": [],
   "source": [],
   "metadata": {
    "collapsed": false,
    "ExecuteTime": {
     "start_time": "2024-03-05T08:20:59.565048Z"
    }
   },
   "id": "2a0eafd573765ef",
   "execution_count": null
  },
  {
   "cell_type": "code",
   "outputs": [],
   "source": [],
   "metadata": {
    "collapsed": false,
    "ExecuteTime": {
     "start_time": "2024-03-05T08:20:59.566047Z"
    }
   },
   "id": "ee911c1938ca1e76",
   "execution_count": null
  },
  {
   "cell_type": "code",
   "outputs": [],
   "source": [],
   "metadata": {
    "collapsed": false,
    "ExecuteTime": {
     "start_time": "2024-03-05T08:20:59.568165Z"
    }
   },
   "id": "462485d1363bd616",
   "execution_count": null
  },
  {
   "cell_type": "code",
   "outputs": [],
   "source": [],
   "metadata": {
    "collapsed": false
   },
   "id": "a1dd3b107e635d7d",
   "execution_count": null
  },
  {
   "cell_type": "code",
   "outputs": [],
   "source": [],
   "metadata": {
    "collapsed": false,
    "ExecuteTime": {
     "start_time": "2024-03-05T08:20:59.571453Z"
    }
   },
   "id": "36d2935a6acb117e",
   "execution_count": null
  },
  {
   "cell_type": "code",
   "outputs": [],
   "source": [],
   "metadata": {
    "collapsed": false
   },
   "id": "ff8ed8daf4015e45",
   "execution_count": null
  },
  {
   "cell_type": "code",
   "outputs": [],
   "source": [],
   "metadata": {
    "collapsed": false
   },
   "id": "d51f1b5aded58c2a",
   "execution_count": null
  }
 ],
 "metadata": {
  "kernelspec": {
   "display_name": "Python 3",
   "language": "python",
   "name": "python3"
  },
  "language_info": {
   "codemirror_mode": {
    "name": "ipython",
    "version": 2
   },
   "file_extension": ".py",
   "mimetype": "text/x-python",
   "name": "python",
   "nbconvert_exporter": "python",
   "pygments_lexer": "ipython2",
   "version": "2.7.6"
  }
 },
 "nbformat": 4,
 "nbformat_minor": 5
}
