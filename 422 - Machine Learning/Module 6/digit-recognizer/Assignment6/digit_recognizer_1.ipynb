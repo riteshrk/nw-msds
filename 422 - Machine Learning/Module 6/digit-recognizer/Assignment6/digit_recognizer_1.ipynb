{
 "cells": [
  {
   "cell_type": "markdown",
   "source": [
    "# 1. Imports"
   ],
   "metadata": {
    "collapsed": false
   },
   "id": "26174b62931704dd"
  },
  {
   "cell_type": "code",
   "execution_count": 1,
   "id": "initial_id",
   "metadata": {
    "collapsed": true,
    "ExecuteTime": {
     "end_time": "2024-02-16T13:18:31.223482100Z",
     "start_time": "2024-02-16T13:18:31.190602500Z"
    }
   },
   "outputs": [
    {
     "ename": "ModuleNotFoundError",
     "evalue": "No module named 'pandas'",
     "output_type": "error",
     "traceback": [
      "\u001B[1;31m---------------------------------------------------------------------------\u001B[0m",
      "\u001B[1;31mModuleNotFoundError\u001B[0m                       Traceback (most recent call last)",
      "Cell \u001B[1;32mIn[1], line 1\u001B[0m\n\u001B[1;32m----> 1\u001B[0m \u001B[38;5;28;01mimport\u001B[39;00m \u001B[38;5;21;01mpandas\u001B[39;00m \u001B[38;5;28;01mas\u001B[39;00m \u001B[38;5;21;01mpd\u001B[39;00m\n\u001B[0;32m      2\u001B[0m \u001B[38;5;28;01mimport\u001B[39;00m \u001B[38;5;21;01mnumpy\u001B[39;00m \u001B[38;5;28;01mas\u001B[39;00m \u001B[38;5;21;01mnp\u001B[39;00m\n\u001B[0;32m      3\u001B[0m \u001B[38;5;28;01mimport\u001B[39;00m \u001B[38;5;21;01mmatplotlib\u001B[39;00m\u001B[38;5;21;01m.\u001B[39;00m\u001B[38;5;21;01mpyplot\u001B[39;00m \u001B[38;5;28;01mas\u001B[39;00m \u001B[38;5;21;01mplt\u001B[39;00m\n",
      "\u001B[1;31mModuleNotFoundError\u001B[0m: No module named 'pandas'"
     ]
    }
   ],
   "source": [
    "import pandas as pd\n",
    "import numpy as np\n",
    "import matplotlib.pyplot as plt\n",
    "import seaborn as sns\n",
    "from sklearn.model_selection import train_test_split\n",
    "from sklearn.ensemble import RandomForestClassifier\n",
    "from sklearn.metrics import roc_curve, auc,precision_recall_curve,f1_score,confusion_matrix\n",
    "from sklearn.metrics import accuracy_score, precision_score,recall_score\n",
    "from sklearn.preprocessing import StandardScaler\n",
    "from sklearn.model_selection import GridSearchCV\n",
    "from sklearn.decomposition import PCA\n",
    "from datetime import datetime\n",
    "\n",
    "\n",
    "import warnings\n",
    "warnings.filterwarnings(action=\"ignore\")"
   ]
  },
  {
   "cell_type": "code",
   "outputs": [],
   "source": [
    "df = pd.read_csv('train.csv')\n",
    "print(df.shape)"
   ],
   "metadata": {
    "collapsed": false,
    "ExecuteTime": {
     "end_time": "2024-02-16T13:18:31.257014700Z",
     "start_time": "2024-02-16T13:18:31.223482100Z"
    }
   },
   "id": "6751403fcb8a5029",
   "execution_count": null
  },
  {
   "cell_type": "code",
   "outputs": [],
   "source": [
    "df1 = pd.read_csv('test.csv')\n",
    "print(df1.shape)"
   ],
   "metadata": {
    "collapsed": false,
    "ExecuteTime": {
     "start_time": "2024-02-16T13:18:31.223482100Z"
    }
   },
   "id": "8bb0e831e0dc3654",
   "execution_count": null
  },
  {
   "cell_type": "markdown",
   "source": [
    "# 2. Exploration"
   ],
   "metadata": {
    "collapsed": false
   },
   "id": "17b1fdabdf42c425"
  },
  {
   "cell_type": "code",
   "outputs": [],
   "source": [
    "# Checking for missing values\n",
    "df.isna().sum().max()"
   ],
   "metadata": {
    "collapsed": false,
    "ExecuteTime": {
     "start_time": "2024-02-16T13:18:31.240221Z"
    }
   },
   "id": "799011de03fdc9c4",
   "execution_count": null
  },
  {
   "cell_type": "code",
   "outputs": [],
   "source": [
    "# Checking for duplicates()\n",
    "df.duplicated().sum()"
   ],
   "metadata": {
    "collapsed": false,
    "ExecuteTime": {
     "start_time": "2024-02-16T13:18:31.240221Z"
    }
   },
   "id": "d01187e956582a10",
   "execution_count": null
  },
  {
   "cell_type": "code",
   "outputs": [],
   "source": [
    "# Show the first 5 rows\n",
    "df.head()"
   ],
   "metadata": {
    "collapsed": false,
    "ExecuteTime": {
     "start_time": "2024-02-16T13:18:31.240221Z"
    }
   },
   "id": "584e73ae2cdadf3e",
   "execution_count": null
  },
  {
   "cell_type": "code",
   "outputs": [],
   "source": [
    "# Check the datatypes\n",
    "df.info()"
   ],
   "metadata": {
    "collapsed": false,
    "ExecuteTime": {
     "end_time": "2024-02-16T13:18:31.323295600Z",
     "start_time": "2024-02-16T13:18:31.257014700Z"
    }
   },
   "id": "6d21c225b6333823",
   "execution_count": null
  },
  {
   "cell_type": "code",
   "outputs": [],
   "source": [
    "# Show the data-summary\n",
    "df.describe()"
   ],
   "metadata": {
    "collapsed": false,
    "ExecuteTime": {
     "start_time": "2024-02-16T13:18:31.257014700Z"
    }
   },
   "id": "beab36e3eeabd79a",
   "execution_count": null
  },
  {
   "cell_type": "code",
   "outputs": [],
   "source": [
    "# Plot the Histogram for digit occurrences\n",
    "def plot_label_counts(df):\n",
    "    # Count the occurrences of each label\n",
    "    label_counts = df['label'].value_counts()\n",
    "\n",
    "    # Create bar plot\n",
    "    plt.bar(label_counts.index, label_counts.values, color='navy')\n",
    "\n",
    "    plt.title('Number of Occurrences of Each Digit')\n",
    "    plt.xlabel('Digit')\n",
    "    plt.ylabel('Frequency')\n",
    "\n",
    "    plt.show()\n",
    "\n",
    "\n",
    "plot_label_counts(df)"
   ],
   "metadata": {
    "collapsed": false,
    "ExecuteTime": {
     "start_time": "2024-02-16T13:18:31.273249600Z"
    }
   },
   "id": "dbac15de96891ba0",
   "execution_count": null
  },
  {
   "cell_type": "code",
   "outputs": [],
   "source": [
    "# Plot the histogram for pixel-distribution\n",
    "def plot_pixel_histogram(df):\n",
    "    # Drop the 'label' column and convert the data to a 1D array\n",
    "    pixel_values = df.drop('label', axis=1).values.flatten()\n",
    "\n",
    "    # Generate the histogram\n",
    "    plt.hist(pixel_values, bins=256, color='blue', alpha=0.7)\n",
    "\n",
    "    plt.title('Histogram of Pixel Values')\n",
    "    plt.xlabel('Pixel Value (0-255)')\n",
    "    plt.ylabel('Frequency')\n",
    "    \n",
    "    plt.show()\n",
    "\n",
    "\n",
    "plot_pixel_histogram(df)"
   ],
   "metadata": {
    "collapsed": false,
    "ExecuteTime": {
     "start_time": "2024-02-16T13:18:31.273477400Z"
    }
   },
   "id": "4d171cb31be46e5d",
   "execution_count": null
  },
  {
   "cell_type": "code",
   "outputs": [],
   "source": [
    "# Display Samples Digits\n",
    "\n",
    "# Select the rows and reshape them to 28x28 images\n",
    "def display_samples(df, num_samples=5):\n",
    "    num_digits = df['label'].nunique()\n",
    "    \n",
    "    fig, axs = plt.subplots(num_digits, num_samples, figsize=(num_samples, num_digits))\n",
    "    for i in range(num_digits):\n",
    "        digits = df[df['label'] == i].sample(num_samples)\n",
    "        for j in range(num_samples):\n",
    "            axs[i, j].imshow(digits.iloc[j, 1:].values.reshape(28, 28), cmap=plt.cm.binary)\n",
    "            axs[i, j].axis('off')\n",
    "                \n",
    "    plt.show()\n",
    "\n",
    "display_samples(df)"
   ],
   "metadata": {
    "collapsed": false,
    "ExecuteTime": {
     "start_time": "2024-02-16T13:18:31.273477400Z"
    }
   },
   "id": "8b9e8577ed3601bf",
   "execution_count": null
  },
  {
   "cell_type": "markdown",
   "source": [
    "# 3. Modelling"
   ],
   "metadata": {
    "collapsed": false
   },
   "id": "799056ca7c274233"
  },
  {
   "cell_type": "code",
   "outputs": [],
   "source": [
    "# Define the features and target variable for Modelling\n",
    "X = df.drop('label', axis=1)\n",
    "y = df['label']\n",
    "\n",
    "# Initialize the scaler\n",
    "scaler = StandardScaler()\n",
    "# Fit and transform the data\n",
    "X_scaled = scaler.fit_transform(X)\n"
   ],
   "metadata": {
    "collapsed": false,
    "ExecuteTime": {
     "start_time": "2024-02-16T13:18:31.273477400Z"
    }
   },
   "id": "da094535354b0d5",
   "execution_count": null
  },
  {
   "cell_type": "code",
   "outputs": [],
   "source": [
    "# Split the data\n",
    "X_train_scaled, X_val_scaled, y_train, y_val = train_test_split(X_scaled, y, test_size=0.2, random_state=42)\n",
    "plain_set = ['Random Forest Classifier without PCA', X_train_scaled, X_val_scaled, y_train, y_val]"
   ],
   "metadata": {
    "collapsed": false,
    "ExecuteTime": {
     "start_time": "2024-02-16T13:18:31.273477400Z"
    }
   },
   "id": "470668a06e1d34a4",
   "execution_count": null
  },
  {
   "cell_type": "code",
   "outputs": [],
   "source": [
    "# Initialize PCA - 0.95 provides the minimum number of components to keep 95% variance\n",
    "pca = PCA(0.95)\n",
    "\n",
    "# Record the start time\n",
    "start = datetime.now()\n",
    "\n",
    "# Fit and transform the X to PCA\n",
    "X_pca = pca.fit_transform(X_scaled)\n",
    "\n",
    "# Calculate and output elapsed time\n",
    "pca_time = datetime.now() - start\n",
    "print(f\"PCA took {pca_time} seconds\")\n",
    "\n",
    "# Output the number of components used\n",
    "print(f\"Number of components: {pca.n_components_}\")"
   ],
   "metadata": {
    "collapsed": false,
    "ExecuteTime": {
     "start_time": "2024-02-16T13:18:31.290034800Z"
    }
   },
   "id": "46762b20b3d9c9d2",
   "execution_count": null
  },
  {
   "cell_type": "code",
   "outputs": [],
   "source": [
    "# Split the pca data\n",
    "X_pca_train_scaled, X_pca_val_scaled, y_pca_train, y_pca_val = train_test_split(X_scaled, y, test_size=0.2, random_state=42)\n",
    "pca_set = ['Random Forest Classifier with PCA', X_pca_train_scaled, X_pca_val_scaled, y_pca_train, y_pca_val]"
   ],
   "metadata": {
    "collapsed": false,
    "ExecuteTime": {
     "start_time": "2024-02-16T13:18:31.290034800Z"
    }
   },
   "id": "8dff173c78821341",
   "execution_count": null
  },
  {
   "cell_type": "code",
   "outputs": [],
   "source": [
    "## Defining Random Forest Classifier\n",
    "\n",
    "def random_forest_classifier(X_train, X_val, y_train, y_val):\n",
    "    # Record the start time\n",
    "    start = datetime.now()\n",
    "    \n",
    "    # Define the parameter grid for hyperparameter tuning\n",
    "    param_grid = {\n",
    "        'n_estimators': [0, 100, 250],    # number of trees in the forest\n",
    "        'max_depth': [None, 50, 100],   # maximum depth of the tree\n",
    "        'min_samples_split': [5, 10, 15],  # minimum number of samples required to split an internal node\n",
    "        'max_features' : ['auto', 'sqrt', 'log2'],   # the number of features to consider when looking for the best split\n",
    "        'random_state' : [42],    # to make output consistent across multiple function calls\n",
    "    }\n",
    "    \n",
    "    # Initialize the classifier\n",
    "    rfc = RandomForestClassifier()\n",
    "    \n",
    "    # Use GridSearchCV to find the best parameters\n",
    "    grid_search = GridSearchCV(estimator=rfc, param_grid=param_grid, cv=5, scoring='accuracy', n_jobs=-1)\n",
    "    \n",
    "    # Fit the grid search to the data\n",
    "    grid_search.fit(X_train, y_train)\n",
    "    \n",
    "    # Record the modelling end-time\n",
    "    end=datetime.now()\n",
    "    rc_time = end - start\n",
    "    \n",
    "    # Get the best parameters\n",
    "    best_parameters = grid_search.best_params_\n",
    "    \n",
    "    # Get the best score\n",
    "    best_score = grid_search.best_score_\n",
    "\n",
    "    # Fit the classifier with the best found parameters\n",
    "    rfc_best = RandomForestClassifier(**best_parameters)\n",
    "    rfc_best.fit(X_train, y_train)\n",
    "    \n",
    "    # Make predictions on the validation data\n",
    "    y_val_pred = rfc_best.predict(X_val)\n",
    "    \n",
    "    # Evaluate the model by calculating the accuracy of the predictions\n",
    "    accuracy = accuracy_score(y_val, y_val_pred)\n",
    "\n",
    "    return best_parameters, best_score, rc_time, accuracy\n"
   ],
   "metadata": {
    "collapsed": false,
    "ExecuteTime": {
     "start_time": "2024-02-16T13:18:31.290034800Z"
    }
   },
   "id": "8b3d61b396444411",
   "execution_count": null
  },
  {
   "cell_type": "code",
   "outputs": [],
   "source": [
    "sets = [plain_set, pca_set]\n",
    "\n",
    "for value in sets:\n",
    "    best_parameters, best_score, rc_time, accuracy = random_forest_classifier(*value[1:])\n",
    "    print(value[0], ':')\n",
    "    # Print the modelling-time\n",
    "    print(f'Modelling-Time: %f seconds' % rc_time)\n",
    "    # Print the Best Parameters\n",
    "    print(\"Best Parameters: \", best_parameters)\n",
    "    # Print the Best Score on Training Set\n",
    "    print(\"Best Score: \", best_score)\n",
    "    # Print the Test Validation Set\n",
    "    print('Validation Accuracy:', accuracy)  "
   ],
   "metadata": {
    "collapsed": false,
    "ExecuteTime": {
     "start_time": "2024-02-16T13:18:31.303304100Z"
    }
   },
   "id": "35d41696f460efc2",
   "execution_count": null
  },
  {
   "cell_type": "code",
   "outputs": [],
   "source": [],
   "metadata": {
    "collapsed": false,
    "ExecuteTime": {
     "start_time": "2024-02-16T13:18:31.306739800Z"
    }
   },
   "id": "68f172dac1d563c5",
   "execution_count": null
  },
  {
   "cell_type": "code",
   "outputs": [],
   "source": [],
   "metadata": {
    "collapsed": false,
    "ExecuteTime": {
     "start_time": "2024-02-16T13:18:31.306739800Z"
    }
   },
   "id": "27defb4df0d5b948",
   "execution_count": null
  }
 ],
 "metadata": {
  "kernelspec": {
   "display_name": "Python 3",
   "language": "python",
   "name": "python3"
  },
  "language_info": {
   "codemirror_mode": {
    "name": "ipython",
    "version": 2
   },
   "file_extension": ".py",
   "mimetype": "text/x-python",
   "name": "python",
   "nbconvert_exporter": "python",
   "pygments_lexer": "ipython2",
   "version": "2.7.6"
  }
 },
 "nbformat": 4,
 "nbformat_minor": 5
}
