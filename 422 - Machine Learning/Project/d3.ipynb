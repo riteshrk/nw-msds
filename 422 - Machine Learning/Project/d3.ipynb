{
 "cells": [
  {
   "cell_type": "code",
   "outputs": [],
   "source": [
    "import pandas as pd"
   ],
   "metadata": {
    "collapsed": false,
    "ExecuteTime": {
     "end_time": "2024-03-13T09:01:45.973487Z",
     "start_time": "2024-03-13T09:01:45.961520Z"
    }
   },
   "id": "165bb84cf09f7c80",
   "execution_count": 1
  },
  {
   "cell_type": "code",
   "execution_count": 2,
   "id": "initial_id",
   "metadata": {
    "collapsed": true,
    "ExecuteTime": {
     "end_time": "2024-03-13T09:01:48.207215Z",
     "start_time": "2024-03-13T09:01:45.975488Z"
    }
   },
   "outputs": [
    {
     "name": "stdout",
     "output_type": "stream",
     "text": [
      "[{'timestamp': 1664768700, 'gmtoffset': 0, 'datetime': '2022-10-03 03:45:00', 'open': 38444.898437, 'high': 38553.199218, 'low': 38328.25, 'close': 38412.351562, 'volume': None}, {'timestamp': 1664769000, 'gmtoffset': 0, 'datetime': '2022-10-03 03:50:00', 'open': 38408.351562, 'high': 38586.148437, 'low': 38394.050781, 'close': 38586.148437, 'volume': None}, {'timestamp': 1664769300, 'gmtoffset': 0, 'datetime': '2022-10-03 03:55:00', 'open': 38589.550781, 'high': 38636.949218, 'low': 38420.050781, 'close': 38422.351562, 'volume': None}, {'timestamp': 1664769600, 'gmtoffset': 0, 'datetime': '2022-10-03 04:00:00', 'open': 38422.550781, 'high': 38499.449218, 'low': 38341.5, 'close': 38361, 'volume': None}, {'timestamp': 1664769900, 'gmtoffset': 0, 'datetime': '2022-10-03 04:05:00', 'open': 38359.351562, 'high': 38393.050781, 'low': 38303.648437, 'close': 38316.75, 'volume': None}, {'timestamp': 1664770200, 'gmtoffset': 0, 'datetime': '2022-10-03 04:10:00', 'open': 38314.101562, 'high': 38417.398437, 'low': 38282.199218, 'close': 38340.851562, 'volume': None}, {'timestamp': 1664770500, 'gmtoffset': 0, 'datetime': '2022-10-03 04:15:00', 'open': 38342.199218, 'high': 38452.800781, 'low': 38309.648437, 'close': 38411.75, 'volume': None}, {'timestamp': 1664770800, 'gmtoffset': 0, 'datetime': '2022-10-03 04:20:00', 'open': 38411.148437, 'high': 38430.449218, 'low': 38353.25, 'close': 38376.25, 'volume': None}, {'timestamp': 1664771100, 'gmtoffset': 0, 'datetime': '2022-10-03 04:25:00', 'open': 38376.449218, 'high': 38376.449218, 'low': 38321.949218, 'close': 38325.601562, 'volume': None}, {'timestamp': 1664771400, 'gmtoffset': 0, 'datetime': '2022-10-03 04:30:00', 'open': 38324.851562, 'high': 38349.699218, 'low': 38210.199218, 'close': 38253.648437, 'volume': None}, {'timestamp': 1664771700, 'gmtoffset': 0, 'datetime': '2022-10-03 04:35:00', 'open': 38251.449218, 'high': 38281.648437, 'low': 38216.550781, 'close': 38222.898437, 'volume': None}, {'timestamp': 1664772000, 'gmtoffset': 0, 'datetime': '2022-10-03 04:40:00', 'open': 38222.75, 'high': 38257.050781, 'low': 38192, 'close': 38237.398437, 'volume': None}, {'timestamp': 1664772300, 'gmtoffset': 0, 'datetime': '2022-10-03 04:45:00', 'open': 38238.101562, 'high': 38238.101562, 'low': 38160.949218, 'close': 38224.351562, 'volume': None}, {'timestamp': 1664772600, 'gmtoffset': 0, 'datetime': '2022-10-03 04:50:00', 'open': 38221.449218, 'high': 38280, 'low': 38218.800781, 'close': 38254.398437, 'volume': None}, {'timestamp': 1664772900, 'gmtoffset': 0, 'datetime': '2022-10-03 04:55:00', 'open': 38253.5, 'high': 38254.949218, 'low': 38182.148437, 'close': 38190.75, 'volume': None}, {'timestamp': 1664773200, 'gmtoffset': 0, 'datetime': '2022-10-03 05:00:00', 'open': 38186.648437, 'high': 38212.75, 'low': 38168.898437, 'close': 38207.5, 'volume': None}, {'timestamp': 1664773500, 'gmtoffset': 0, 'datetime': '2022-10-03 05:05:00', 'open': 38206.648437, 'high': 38234.851562, 'low': 38166.75, 'close': 38213.800781, 'volume': None}, {'timestamp': 1664773800, 'gmtoffset': 0, 'datetime': '2022-10-03 05:10:00', 'open': 38214.898437, 'high': 38243.550781, 'low': 38202.101562, 'close': 38229.300781, 'volume': None}, {'timestamp': 1664774100, 'gmtoffset': 0, 'datetime': '2022-10-03 05:15:00', 'open': 38229.101562, 'high': 38260.050781, 'low': 38215, 'close': 38250.800781, 'volume': None}, {'timestamp': 1664774400, 'gmtoffset': 0, 'datetime': '2022-10-03 05:20:00', 'open': 38250.699218, 'high': 38250.699218, 'low': 38212.101562, 'close': 38234.351562, 'volume': None}, {'timestamp': 1664774700, 'gmtoffset': 0, 'datetime': '2022-10-03 05:25:00', 'open': 38234.5, 'high': 38279.648437, 'low': 38230.050781, 'close': 38251.351562, 'volume': None}, {'timestamp': 1664775000, 'gmtoffset': 0, 'datetime': '2022-10-03 05:30:00', 'open': 38251.101562, 'high': 38251.101562, 'low': 38205.148437, 'close': 38231.898437, 'volume': None}, {'timestamp': 1664775300, 'gmtoffset': 0, 'datetime': '2022-10-03 05:35:00', 'open': 38232.148437, 'high': 38248.949218, 'low': 38196.851562, 'close': 38210.898437, 'volume': None}, {'timestamp': 1664775600, 'gmtoffset': 0, 'datetime': '2022-10-03 05:40:00', 'open': 38208.601562, 'high': 38250.800781, 'low': 38189.699218, 'close': 38249.5, 'volume': None}, {'timestamp': 1664775900, 'gmtoffset': 0, 'datetime': '2022-10-03 05:45:00', 'open': 38249.851562, 'high': 38319.199218, 'low': 38235.449218, 'close': 38318.898437, 'volume': None}, {'timestamp': 1664776200, 'gmtoffset': 0, 'datetime': '2022-10-03 05:50:00', 'open': 38322.898437, 'high': 38385.75, 'low': 38321.199218, 'close': 38365.199218, 'volume': None}, {'timestamp': 1664776500, 'gmtoffset': 0, 'datetime': '2022-10-03 05:55:00', 'open': 38363.300781, 'high': 38369.550781, 'low': 38287.050781, 'close': 38309.800781, 'volume': None}, {'timestamp': 1664776800, 'gmtoffset': 0, 'datetime': '2022-10-03 06:00:00', 'open': 38310.949218, 'high': 38352.75, 'low': 38304.800781, 'close': 38318.398437, 'volume': None}, {'timestamp': 1664777100, 'gmtoffset': 0, 'datetime': '2022-10-03 06:05:00', 'open': 38313.601562, 'high': 38351.550781, 'low': 38265.949218, 'close': 38319.699218, 'volume': None}, {'timestamp': 1664777400, 'gmtoffset': 0, 'datetime': '2022-10-03 06:10:00', 'open': 38319.25, 'high': 38327.148437, 'low': 38284.648437, 'close': 38320.5, 'volume': None}, {'timestamp': 1664777700, 'gmtoffset': 0, 'datetime': '2022-10-03 06:15:00', 'open': 38325.300781, 'high': 38326.398437, 'low': 38243.851562, 'close': 38243.851562, 'volume': None}, {'timestamp': 1664778000, 'gmtoffset': 0, 'datetime': '2022-10-03 06:20:00', 'open': 38233.148437, 'high': 38256.699218, 'low': 38224.101562, 'close': 38229.050781, 'volume': None}, {'timestamp': 1664778300, 'gmtoffset': 0, 'datetime': '2022-10-03 06:25:00', 'open': 38230.398437, 'high': 38272.601562, 'low': 38230.050781, 'close': 38259.300781, 'volume': None}, {'timestamp': 1664778600, 'gmtoffset': 0, 'datetime': '2022-10-03 06:30:00', 'open': 38258.898437, 'high': 38263.351562, 'low': 38219.851562, 'close': 38256.25, 'volume': None}, {'timestamp': 1664778900, 'gmtoffset': 0, 'datetime': '2022-10-03 06:35:00', 'open': 38255.25, 'high': 38268.648437, 'low': 38233.300781, 'close': 38251.449218, 'volume': None}, {'timestamp': 1664779200, 'gmtoffset': 0, 'datetime': '2022-10-03 06:40:00', 'open': 38249.699218, 'high': 38255.75, 'low': 38204.449218, 'close': 38211, 'volume': None}, {'timestamp': 1664779500, 'gmtoffset': 0, 'datetime': '2022-10-03 06:45:00', 'open': 38211.148437, 'high': 38219.949218, 'low': 38174, 'close': 38199.101562, 'volume': None}, {'timestamp': 1664779800, 'gmtoffset': 0, 'datetime': '2022-10-03 06:50:00', 'open': 38200.5, 'high': 38211.300781, 'low': 38168.351562, 'close': 38196, 'volume': None}, {'timestamp': 1664780100, 'gmtoffset': 0, 'datetime': '2022-10-03 06:55:00', 'open': 38195, 'high': 38201.050781, 'low': 38164.75, 'close': 38193.148437, 'volume': None}, {'timestamp': 1664780400, 'gmtoffset': 0, 'datetime': '2022-10-03 07:00:00', 'open': 38192.449218, 'high': 38200, 'low': 38134.851562, 'close': 38188.601562, 'volume': None}, {'timestamp': 1664780700, 'gmtoffset': 0, 'datetime': '2022-10-03 07:05:00', 'open': 38187.648437, 'high': 38224.398437, 'low': 38172.550781, 'close': 38224.398437, 'volume': None}, {'timestamp': 1664780795, 'gmtoffset': 0, 'datetime': '2022-10-03 07:06:35', 'open': 38242.5, 'high': 38242.5, 'low': 38242.5, 'close': 38242.5, 'volume': None}, {'timestamp': 1664781000, 'gmtoffset': 0, 'datetime': '2022-10-03 07:10:00', 'open': 38219.5, 'high': 38219.5, 'low': 38118.148437, 'close': 38183.75, 'volume': None}, {'timestamp': 1664781300, 'gmtoffset': 0, 'datetime': '2022-10-03 07:15:00', 'open': 38182.949218, 'high': 38253.101562, 'low': 38179, 'close': 38247.648437, 'volume': None}, {'timestamp': 1664781600, 'gmtoffset': 0, 'datetime': '2022-10-03 07:20:00', 'open': 38247.800781, 'high': 38293.300781, 'low': 38247.351562, 'close': 38253.5, 'volume': None}, {'timestamp': 1664781900, 'gmtoffset': 0, 'datetime': '2022-10-03 07:25:00', 'open': 38253.398437, 'high': 38278.398437, 'low': 38230.148437, 'close': 38234.949218, 'volume': None}, {'timestamp': 1664782200, 'gmtoffset': 0, 'datetime': '2022-10-03 07:30:00', 'open': 38234.699218, 'high': 38263.949218, 'low': 38209.300781, 'close': 38222.851562, 'volume': None}, {'timestamp': 1664782500, 'gmtoffset': 0, 'datetime': '2022-10-03 07:35:00', 'open': 38223.25, 'high': 38244.5, 'low': 38195.898437, 'close': 38198.851562, 'volume': None}, {'timestamp': 1664782800, 'gmtoffset': 0, 'datetime': '2022-10-03 07:40:00', 'open': 38200.050781, 'high': 38245.050781, 'low': 38200.050781, 'close': 38237.101562, 'volume': None}, {'timestamp': 1664783100, 'gmtoffset': 0, 'datetime': '2022-10-03 07:45:00', 'open': 38239.398437, 'high': 38283.25, 'low': 38231.101562, 'close': 38282.699218, 'volume': None}, {'timestamp': 1664783400, 'gmtoffset': 0, 'datetime': '2022-10-03 07:50:00', 'open': 38280.699218, 'high': 38332.949218, 'low': 38256.898437, 'close': 38276.550781, 'volume': None}, {'timestamp': 1664783700, 'gmtoffset': 0, 'datetime': '2022-10-03 07:55:00', 'open': 38276.699218, 'high': 38306.800781, 'low': 38260.601562, 'close': 38271.148437, 'volume': None}, {'timestamp': 1664784000, 'gmtoffset': 0, 'datetime': '2022-10-03 08:00:00', 'open': 38274.351562, 'high': 38277.148437, 'low': 38233.300781, 'close': 38235.199218, 'volume': None}, {'timestamp': 1664784300, 'gmtoffset': 0, 'datetime': '2022-10-03 08:05:00', 'open': 38242, 'high': 38258.898437, 'low': 38220, 'close': 38221.449218, 'volume': None}, {'timestamp': 1664784600, 'gmtoffset': 0, 'datetime': '2022-10-03 08:10:00', 'open': 38226.550781, 'high': 38283.300781, 'low': 38219.800781, 'close': 38272.199218, 'volume': None}, {'timestamp': 1664784900, 'gmtoffset': 0, 'datetime': '2022-10-03 08:15:00', 'open': 38275.199218, 'high': 38280.601562, 'low': 38213.800781, 'close': 38216.800781, 'volume': None}, {'timestamp': 1664785200, 'gmtoffset': 0, 'datetime': '2022-10-03 08:20:00', 'open': 38210.699218, 'high': 38228.601562, 'low': 38195.101562, 'close': 38197.351562, 'volume': None}, {'timestamp': 1664785500, 'gmtoffset': 0, 'datetime': '2022-10-03 08:25:00', 'open': 38202.398437, 'high': 38238.601562, 'low': 38194.398437, 'close': 38229.851562, 'volume': None}, {'timestamp': 1664785800, 'gmtoffset': 0, 'datetime': '2022-10-03 08:30:00', 'open': 38229.449218, 'high': 38283.699218, 'low': 38161.351562, 'close': 38280.648437, 'volume': None}, {'timestamp': 1664786100, 'gmtoffset': 0, 'datetime': '2022-10-03 08:35:00', 'open': 38282.148437, 'high': 38294.601562, 'low': 38198.398437, 'close': 38216.75, 'volume': None}, {'timestamp': 1664786400, 'gmtoffset': 0, 'datetime': '2022-10-03 08:40:00', 'open': 38217.5, 'high': 38225.898437, 'low': 38191.25, 'close': 38192.601562, 'volume': None}, {'timestamp': 1664786700, 'gmtoffset': 0, 'datetime': '2022-10-03 08:45:00', 'open': 38194.601562, 'high': 38248.050781, 'low': 38161.851562, 'close': 38221.25, 'volume': None}, {'timestamp': 1664787000, 'gmtoffset': 0, 'datetime': '2022-10-03 08:50:00', 'open': 38224.050781, 'high': 38241.898437, 'low': 38173.75, 'close': 38187.300781, 'volume': None}, {'timestamp': 1664787300, 'gmtoffset': 0, 'datetime': '2022-10-03 08:55:00', 'open': 38187.699218, 'high': 38200.699218, 'low': 38140.199218, 'close': 38160.199218, 'volume': None}, {'timestamp': 1664787600, 'gmtoffset': 0, 'datetime': '2022-10-03 09:00:00', 'open': 38160.800781, 'high': 38163.851562, 'low': 38069.398437, 'close': 38069.398437, 'volume': None}, {'timestamp': 1664787900, 'gmtoffset': 0, 'datetime': '2022-10-03 09:05:00', 'open': 38072.050781, 'high': 38114.199218, 'low': 38067.699218, 'close': 38082.851562, 'volume': None}, {'timestamp': 1664788200, 'gmtoffset': 0, 'datetime': '2022-10-03 09:10:00', 'open': 38085.601562, 'high': 38102.449218, 'low': 38031.699218, 'close': 38033.148437, 'volume': None}, {'timestamp': 1664788500, 'gmtoffset': 0, 'datetime': '2022-10-03 09:15:00', 'open': 38036.648437, 'high': 38056.101562, 'low': 37974.25, 'close': 38000.601562, 'volume': None}, {'timestamp': 1664788800, 'gmtoffset': 0, 'datetime': '2022-10-03 09:20:00', 'open': 37997.699218, 'high': 38022, 'low': 37963.398437, 'close': 37991.75, 'volume': None}, {'timestamp': 1664789100, 'gmtoffset': 0, 'datetime': '2022-10-03 09:25:00', 'open': 37993.75, 'high': 38028.25, 'low': 37984.050781, 'close': 38027.398437, 'volume': None}, {'timestamp': 1664789400, 'gmtoffset': 0, 'datetime': '2022-10-03 09:30:00', 'open': 38032.75, 'high': 38061.398437, 'low': 37997.050781, 'close': 38013.449218, 'volume': None}, {'timestamp': 1664789700, 'gmtoffset': 0, 'datetime': '2022-10-03 09:35:00', 'open': 38012.949218, 'high': 38062.699218, 'low': 38000.550781, 'close': 38058.050781, 'volume': None}, {'timestamp': 1664790000, 'gmtoffset': 0, 'datetime': '2022-10-03 09:40:00', 'open': 38060.898437, 'high': 38065.5, 'low': 38024.101562, 'close': 38049.648437, 'volume': None}, {'timestamp': 1664790300, 'gmtoffset': 0, 'datetime': '2022-10-03 09:45:00', 'open': 38052.601562, 'high': 38067.050781, 'low': 38025.148437, 'close': 38048.949218, 'volume': None}, {'timestamp': 1664790600, 'gmtoffset': 0, 'datetime': '2022-10-03 09:50:00', 'open': 38048.351562, 'high': 38048.351562, 'low': 37997.898437, 'close': 38005.648437, 'volume': None}, {'timestamp': 1664790900, 'gmtoffset': 0, 'datetime': '2022-10-03 09:55:00', 'open': 38004.601562, 'high': 38020.949218, 'low': 37967.949218, 'close': 37974.898437, 'volume': None}, {'timestamp': 1664791200, 'gmtoffset': 0, 'datetime': '2022-10-03 10:00:00', 'open': 38029.648437, 'high': 38029.648437, 'low': 38029.648437, 'close': 38029.648437, 'volume': None}, {'timestamp': 1664855100, 'gmtoffset': 0, 'datetime': '2022-10-04 03:45:00', 'open': 38700.398437, 'high': 38903.398437, 'low': 38633.851562, 'close': 38877.300781, 'volume': None}, {'timestamp': 1664855400, 'gmtoffset': 0, 'datetime': '2022-10-04 03:50:00', 'open': 38879.050781, 'high': 39038, 'low': 38871.699218, 'close': 39022, 'volume': None}, {'timestamp': 1664855700, 'gmtoffset': 0, 'datetime': '2022-10-04 03:55:00', 'open': 39023.25, 'high': 39069.699218, 'low': 38967.851562, 'close': 39030.101562, 'volume': None}, {'timestamp': 1664856000, 'gmtoffset': 0, 'datetime': '2022-10-04 04:00:00', 'open': 39031.300781, 'high': 39080.648437, 'low': 39010.601562, 'close': 39062.949218, 'volume': None}, {'timestamp': 1664856300, 'gmtoffset': 0, 'datetime': '2022-10-04 04:05:00', 'open': 39064.101562, 'high': 39075.25, 'low': 38984.199218, 'close': 39000.199218, 'volume': None}, {'timestamp': 1664856600, 'gmtoffset': 0, 'datetime': '2022-10-04 04:10:00', 'open': 38999.851562, 'high': 39034.699218, 'low': 38974, 'close': 38987.898437, 'volume': None}, {'timestamp': 1664856900, 'gmtoffset': 0, 'datetime': '2022-10-04 04:15:00', 'open': 38986.949218, 'high': 39024.101562, 'low': 38956.75, 'close': 38980.25, 'volume': None}, {'timestamp': 1664857200, 'gmtoffset': 0, 'datetime': '2022-10-04 04:20:00', 'open': 38977.5, 'high': 39029.148437, 'low': 38974.699218, 'close': 39004.898437, 'volume': None}, {'timestamp': 1664857500, 'gmtoffset': 0, 'datetime': '2022-10-04 04:25:00', 'open': 39003.5, 'high': 39043.148437, 'low': 39002.648437, 'close': 39039.851562, 'volume': None}, {'timestamp': 1664857800, 'gmtoffset': 0, 'datetime': '2022-10-04 04:30:00', 'open': 39043.75, 'high': 39108.949218, 'low': 39042.25, 'close': 39095.648437, 'volume': None}, {'timestamp': 1664858100, 'gmtoffset': 0, 'datetime': '2022-10-04 04:35:00', 'open': 39093.050781, 'high': 39095.050781, 'low': 39063.601562, 'close': 39065.148437, 'volume': None}, {'timestamp': 1664858400, 'gmtoffset': 0, 'datetime': '2022-10-04 04:40:00', 'open': 39065.601562, 'high': 39067.300781, 'low': 39010.300781, 'close': 39015.949218, 'volume': None}, {'timestamp': 1664858700, 'gmtoffset': 0, 'datetime': '2022-10-04 04:45:00', 'open': 39019.699218, 'high': 39029.648437, 'low': 38996.300781, 'close': 39019.699218, 'volume': None}, {'timestamp': 1664859000, 'gmtoffset': 0, 'datetime': '2022-10-04 04:50:00', 'open': 39019.050781, 'high': 39030.5, 'low': 38995.851562, 'close': 39024.25, 'volume': None}, {'timestamp': 1664859300, 'gmtoffset': 0, 'datetime': '2022-10-04 04:55:00', 'open': 39024.648437, 'high': 39038.75, 'low': 38999.050781, 'close': 39007.851562, 'volume': None}, {'timestamp': 1664859600, 'gmtoffset': 0, 'datetime': '2022-10-04 05:00:00', 'open': 39008.601562, 'high': 39009.800781, 'low': 38973.101562, 'close': 38995.449218, 'volume': None}, {'timestamp': 1664859900, 'gmtoffset': 0, 'datetime': '2022-10-04 05:05:00', 'open': 38995.699218, 'high': 39009.351562, 'low': 38975.851562, 'close': 39007.699218, 'volume': None}, {'timestamp': 1664860200, 'gmtoffset': 0, 'datetime': '2022-10-04 05:10:00', 'open': 39005.300781, 'high': 39041.75, 'low': 39005.300781, 'close': 39036.101562, 'volume': None}, {'timestamp': 1664860500, 'gmtoffset': 0, 'datetime': '2022-10-04 05:15:00', 'open': 39037.5, 'high': 39046.601562, 'low': 38980.25, 'close': 38980.25, 'volume': None}, {'timestamp': 1664860800, 'gmtoffset': 0, 'datetime': '2022-10-04 05:20:00', 'open': 38979.800781, 'high': 38992.851562, 'low': 38950.398437, 'close': 38982.050781, 'volume': None}, {'timestamp': 1664861100, 'gmtoffset': 0, 'datetime': '2022-10-04 05:25:00', 'open': 38985.300781, 'high': 38987.199218, 'low': 38908.300781, 'close': 38910.199218, 'volume': None}, {'timestamp': 1664861400, 'gmtoffset': 0, 'datetime': '2022-10-04 05:30:00', 'open': 38908.5, 'high': 38925.148437, 'low': 38877.148437, 'close': 38903.949218, 'volume': None}, {'timestamp': 1664861700, 'gmtoffset': 0, 'datetime': '2022-10-04 05:35:00', 'open': 38902.148437, 'high': 38932.25, 'low': 38902.148437, 'close': 38915.800781, 'volume': None}, {'timestamp': 1664862000, 'gmtoffset': 0, 'datetime': '2022-10-04 05:40:00', 'open': 38916, 'high': 38970.898437, 'low': 38898.550781, 'close': 38968.949218, 'volume': None}, {'timestamp': 1664862300, 'gmtoffset': 0, 'datetime': '2022-10-04 05:45:00', 'open': 38966.550781, 'high': 38981.148437, 'low': 38957.101562, 'close': 38968.25, 'volume': None}, {'timestamp': 1664862600, 'gmtoffset': 0, 'datetime': '2022-10-04 05:50:00', 'open': 38973.300781, 'high': 38974.699218, 'low': 38928.300781, 'close': 38953.25, 'volume': None}, {'timestamp': 1664862900, 'gmtoffset': 0, 'datetime': '2022-10-04 05:55:00', 'open': 38951.898437, 'high': 38972.398437, 'low': 38914.851562, 'close': 38940.199218, 'volume': None}, {'timestamp': 1664863200, 'gmtoffset': 0, 'datetime': '2022-10-04 06:00:00', 'open': 38940.5, 'high': 38967.648437, 'low': 38931.101562, 'close': 38939.550781, 'volume': None}, {'timestamp': 1664863500, 'gmtoffset': 0, 'datetime': '2022-10-04 06:05:00', 'open': 38939.601562, 'high': 38967.148437, 'low': 38934.351562, 'close': 38964.851562, 'volume': None}, {'timestamp': 1664863800, 'gmtoffset': 0, 'datetime': '2022-10-04 06:10:00', 'open': 38960.699218, 'high': 39005.199218, 'low': 38954.550781, 'close': 38980.25, 'volume': None}, {'timestamp': 1664864100, 'gmtoffset': 0, 'datetime': '2022-10-04 06:15:00', 'open': 38979.75, 'high': 38992.101562, 'low': 38964.800781, 'close': 38970.050781, 'volume': None}, {'timestamp': 1664864400, 'gmtoffset': 0, 'datetime': '2022-10-04 06:20:00', 'open': 38969.25, 'high': 39025.199218, 'low': 38969.25, 'close': 39022.398437, 'volume': None}, {'timestamp': 1664864700, 'gmtoffset': 0, 'datetime': '2022-10-04 06:25:00', 'open': 39021.351562, 'high': 39055.148437, 'low': 39021.351562, 'close': 39040.351562, 'volume': None}, {'timestamp': 1664865000, 'gmtoffset': 0, 'datetime': '2022-10-04 06:30:00', 'open': 39035.898437, 'high': 39057.25, 'low': 39023.351562, 'close': 39031.351562, 'volume': None}, {'timestamp': 1664865300, 'gmtoffset': 0, 'datetime': '2022-10-04 06:35:00', 'open': 39031.449218, 'high': 39046.699218, 'low': 39018.648437, 'close': 39036.5, 'volume': None}, {'timestamp': 1664865600, 'gmtoffset': 0, 'datetime': '2022-10-04 06:40:00', 'open': 39037.351562, 'high': 39047.648437, 'low': 39019.199218, 'close': 39032.351562, 'volume': None}, {'timestamp': 1664865900, 'gmtoffset': 0, 'datetime': '2022-10-04 06:45:00', 'open': 39029.898437, 'high': 39056.75, 'low': 39029.898437, 'close': 39042.449218, 'volume': None}, {'timestamp': 1664866200, 'gmtoffset': 0, 'datetime': '2022-10-04 06:50:00', 'open': 39040.648437, 'high': 39079.050781, 'low': 39014.648437, 'close': 39069.648437, 'volume': None}, {'timestamp': 1664866500, 'gmtoffset': 0, 'datetime': '2022-10-04 06:55:00', 'open': 39067.601562, 'high': 39099.449218, 'low': 39055.5, 'close': 39084.351562, 'volume': None}, {'timestamp': 1664866800, 'gmtoffset': 0, 'datetime': '2022-10-04 07:00:00', 'open': 39082.25, 'high': 39102.550781, 'low': 39081.398437, 'close': 39092.648437, 'volume': None}, {'timestamp': 1664867100, 'gmtoffset': 0, 'datetime': '2022-10-04 07:05:00', 'open': None, 'high': None, 'low': None, 'close': None, 'volume': None}, {'timestamp': 1664867133, 'gmtoffset': 0, 'datetime': '2022-10-04 07:05:33', 'open': 39103.101562, 'high': 39103.101562, 'low': 39103.101562, 'close': 39103.101562, 'volume': None}, {'timestamp': 1664867400, 'gmtoffset': 0, 'datetime': '2022-10-04 07:10:00', 'open': 39151.101562, 'high': 39177.300781, 'low': 39116.398437, 'close': 39133.949218, 'volume': None}, {'timestamp': 1664867700, 'gmtoffset': 0, 'datetime': '2022-10-04 07:15:00', 'open': 39133.101562, 'high': 39142.601562, 'low': 39121.199218, 'close': 39129.601562, 'volume': None}, {'timestamp': 1664868000, 'gmtoffset': 0, 'datetime': '2022-10-04 07:20:00', 'open': 39132.75, 'high': 39134.398437, 'low': 39099.449218, 'close': 39105.648437, 'volume': None}, {'timestamp': 1664868300, 'gmtoffset': 0, 'datetime': '2022-10-04 07:25:00', 'open': 39108.050781, 'high': 39113.949218, 'low': 39038.550781, 'close': 39040.148437, 'volume': None}, {'timestamp': 1664868600, 'gmtoffset': 0, 'datetime': '2022-10-04 07:30:00', 'open': 39040.949218, 'high': 39102.601562, 'low': 39036.199218, 'close': 39075.851562, 'volume': None}, {'timestamp': 1664868900, 'gmtoffset': 0, 'datetime': '2022-10-04 07:35:00', 'open': 39077.800781, 'high': 39089.898437, 'low': 39054.75, 'close': 39057.800781, 'volume': None}, {'timestamp': 1664869200, 'gmtoffset': 0, 'datetime': '2022-10-04 07:40:00', 'open': 39062.101562, 'high': 39088.148437, 'low': 39046.199218, 'close': 39070.699218, 'volume': None}, {'timestamp': 1664869500, 'gmtoffset': 0, 'datetime': '2022-10-04 07:45:00', 'open': 39070.851562, 'high': 39080.351562, 'low': 39057.949218, 'close': 39067.75, 'volume': None}, {'timestamp': 1664869800, 'gmtoffset': 0, 'datetime': '2022-10-04 07:50:00', 'open': 39067.699218, 'high': 39074.550781, 'low': 39052.949218, 'close': 39062.949218, 'volume': None}, {'timestamp': 1664870100, 'gmtoffset': 0, 'datetime': '2022-10-04 07:55:00', 'open': 39062.75, 'high': 39098.949218, 'low': 39055.25, 'close': 39086.5, 'volume': None}, {'timestamp': 1664870400, 'gmtoffset': 0, 'datetime': '2022-10-04 08:00:00', 'open': 39085.851562, 'high': 39106.898437, 'low': 39071.25, 'close': 39096.25, 'volume': None}, {'timestamp': 1664870700, 'gmtoffset': 0, 'datetime': '2022-10-04 08:05:00', 'open': 39099, 'high': 39105.851562, 'low': 39071.101562, 'close': 39080.949218, 'volume': None}, {'timestamp': 1664871000, 'gmtoffset': 0, 'datetime': '2022-10-04 08:10:00', 'open': 39081.898437, 'high': 39116.25, 'low': 39070.398437, 'close': 39070.398437, 'volume': None}, {'timestamp': 1664871300, 'gmtoffset': 0, 'datetime': '2022-10-04 08:15:00', 'open': 39073, 'high': 39077.351562, 'low': 39043.148437, 'close': 39046.148437, 'volume': None}, {'timestamp': 1664871600, 'gmtoffset': 0, 'datetime': '2022-10-04 08:20:00', 'open': 39046.949218, 'high': 39048.949218, 'low': 38978.398437, 'close': 38985.648437, 'volume': None}, {'timestamp': 1664871900, 'gmtoffset': 0, 'datetime': '2022-10-04 08:25:00', 'open': 38984.601562, 'high': 39015.101562, 'low': 38962.351562, 'close': 39012.550781, 'volume': None}, {'timestamp': 1664872200, 'gmtoffset': 0, 'datetime': '2022-10-04 08:30:00', 'open': 39011.699218, 'high': 39072.898437, 'low': 39011.699218, 'close': 39061.949218, 'volume': None}, {'timestamp': 1664872500, 'gmtoffset': 0, 'datetime': '2022-10-04 08:35:00', 'open': 39062.148437, 'high': 39070.898437, 'low': 39040.851562, 'close': 39068.148437, 'volume': None}, {'timestamp': 1664872800, 'gmtoffset': 0, 'datetime': '2022-10-04 08:40:00', 'open': 39066, 'high': 39090.699218, 'low': 39020.800781, 'close': 39039.898437, 'volume': None}, {'timestamp': 1664873100, 'gmtoffset': 0, 'datetime': '2022-10-04 08:45:00', 'open': 39039.101562, 'high': 39069, 'low': 39028.699218, 'close': 39063.199218, 'volume': None}, {'timestamp': 1664873400, 'gmtoffset': 0, 'datetime': '2022-10-04 08:50:00', 'open': 39063.851562, 'high': 39084.949218, 'low': 39042.550781, 'close': 39047.898437, 'volume': None}, {'timestamp': 1664873700, 'gmtoffset': 0, 'datetime': '2022-10-04 08:55:00', 'open': 39046.949218, 'high': 39073, 'low': 39046.300781, 'close': 39064.851562, 'volume': None}, {'timestamp': 1664874000, 'gmtoffset': 0, 'datetime': '2022-10-04 09:00:00', 'open': 39066.949218, 'high': 39096.601562, 'low': 39066.949218, 'close': 39073.5, 'volume': None}, {'timestamp': 1664874300, 'gmtoffset': 0, 'datetime': '2022-10-04 09:05:00', 'open': 39073.101562, 'high': 39087.449218, 'low': 39013.898437, 'close': 39015.300781, 'volume': None}, {'timestamp': 1664874600, 'gmtoffset': 0, 'datetime': '2022-10-04 09:10:00', 'open': 39015.25, 'high': 39025, 'low': 38983.398437, 'close': 38983.5, 'volume': None}, {'timestamp': 1664874900, 'gmtoffset': 0, 'datetime': '2022-10-04 09:15:00', 'open': 38985.449218, 'high': 39013.300781, 'low': 38965.449218, 'close': 38990.449218, 'volume': None}, {'timestamp': 1664875200, 'gmtoffset': 0, 'datetime': '2022-10-04 09:20:00', 'open': 38989.25, 'high': 39050.601562, 'low': 38988.199218, 'close': 39050.601562, 'volume': None}, {'timestamp': 1664875500, 'gmtoffset': 0, 'datetime': '2022-10-04 09:25:00', 'open': 39049.75, 'high': 39069.949218, 'low': 39024.550781, 'close': 39064.800781, 'volume': None}, {'timestamp': 1664875800, 'gmtoffset': 0, 'datetime': '2022-10-04 09:30:00', 'open': 39067.398437, 'high': 39108.300781, 'low': 39055.449218, 'close': 39094.148437, 'volume': None}, {'timestamp': 1664876100, 'gmtoffset': 0, 'datetime': '2022-10-04 09:35:00', 'open': 39093.601562, 'high': 39147.550781, 'low': 39088.25, 'close': 39095.851562, 'volume': None}, {'timestamp': 1664876400, 'gmtoffset': 0, 'datetime': '2022-10-04 09:40:00', 'open': 39097.898437, 'high': 39117.949218, 'low': 39069.449218, 'close': 39113.898437, 'volume': None}, {'timestamp': 1664876700, 'gmtoffset': 0, 'datetime': '2022-10-04 09:45:00', 'open': 39113.949218, 'high': 39130, 'low': 39091.148437, 'close': 39121.800781, 'volume': None}, {'timestamp': 1664877000, 'gmtoffset': 0, 'datetime': '2022-10-04 09:50:00', 'open': 39121.351562, 'high': 39131.351562, 'low': 39105.851562, 'close': 39128, 'volume': None}, {'timestamp': 1664877300, 'gmtoffset': 0, 'datetime': '2022-10-04 09:55:00', 'open': 39128.949218, 'high': 39145.949218, 'low': 39110.148437, 'close': 39121.851562, 'volume': None}, {'timestamp': 1664877600, 'gmtoffset': 0, 'datetime': '2022-10-04 10:00:00', 'open': 39110.050781, 'high': 39110.050781, 'low': 39110.050781, 'close': 39110.050781, 'volume': None}, {'timestamp': 1665027900, 'gmtoffset': 0, 'datetime': '2022-10-06 03:45:00', 'open': 39343.699218, 'high': 39521.75, 'low': 39329, 'close': 39350.351562, 'volume': None}, {'timestamp': 1665028200, 'gmtoffset': 0, 'datetime': '2022-10-06 03:50:00', 'open': 39345.800781, 'high': 39377.148437, 'low': 39263.148437, 'close': 39289.449218, 'volume': None}, {'timestamp': 1665028500, 'gmtoffset': 0, 'datetime': '2022-10-06 03:55:00', 'open': 39293.050781, 'high': 39363.5, 'low': 39280.949218, 'close': 39362.101562, 'volume': None}, {'timestamp': 1665028800, 'gmtoffset': 0, 'datetime': '2022-10-06 04:00:00', 'open': 39361.398437, 'high': 39397.25, 'low': 39335.050781, 'close': 39347.351562, 'volume': None}, {'timestamp': 1665029100, 'gmtoffset': 0, 'datetime': '2022-10-06 04:05:00', 'open': 39346.101562, 'high': 39358.898437, 'low': 39260.351562, 'close': 39337.75, 'volume': None}, {'timestamp': 1665029400, 'gmtoffset': 0, 'datetime': '2022-10-06 04:10:00', 'open': 39340.75, 'high': 39346.699218, 'low': 39282.601562, 'close': 39284.75, 'volume': None}, {'timestamp': 1665029700, 'gmtoffset': 0, 'datetime': '2022-10-06 04:15:00', 'open': 39286.699218, 'high': 39351.25, 'low': 39236.949218, 'close': 39349.148437, 'volume': None}, {'timestamp': 1665030000, 'gmtoffset': 0, 'datetime': '2022-10-06 04:20:00', 'open': 39348.949218, 'high': 39408.398437, 'low': 39344.550781, 'close': 39392.851562, 'volume': None}, {'timestamp': 1665030300, 'gmtoffset': 0, 'datetime': '2022-10-06 04:25:00', 'open': 39390.5, 'high': 39422.199218, 'low': 39377.300781, 'close': 39405.351562, 'volume': None}, {'timestamp': 1665030600, 'gmtoffset': 0, 'datetime': '2022-10-06 04:30:00', 'open': 39404.601562, 'high': 39466.699218, 'low': 39404.050781, 'close': 39463.898437, 'volume': None}, {'timestamp': 1665030900, 'gmtoffset': 0, 'datetime': '2022-10-06 04:35:00', 'open': 39464.550781, 'high': 39471.199218, 'low': 39441.5, 'close': 39464.75, 'volume': None}, {'timestamp': 1665031200, 'gmtoffset': 0, 'datetime': '2022-10-06 04:40:00', 'open': 39469, 'high': 39498.648437, 'low': 39431.199218, 'close': 39440.5, 'volume': None}, {'timestamp': 1665031500, 'gmtoffset': 0, 'datetime': '2022-10-06 04:45:00', 'open': 39440.449218, 'high': 39468.5, 'low': 39424.101562, 'close': 39459.550781, 'volume': None}, {'timestamp': 1665031800, 'gmtoffset': 0, 'datetime': '2022-10-06 04:50:00', 'open': 39456, 'high': 39463.101562, 'low': 39428.601562, 'close': 39430.75, 'volume': None}, {'timestamp': 1665032100, 'gmtoffset': 0, 'datetime': '2022-10-06 04:55:00', 'open': 39434.148437, 'high': 39449.199218, 'low': 39416.148437, 'close': 39434.148437, 'volume': None}, {'timestamp': 1665032400, 'gmtoffset': 0, 'datetime': '2022-10-06 05:00:00', 'open': 39434.648437, 'high': 39470.699218, 'low': 39419.148437, 'close': 39429, 'volume': None}, {'timestamp': 1665032700, 'gmtoffset': 0, 'datetime': '2022-10-06 05:05:00', 'open': 39422.648437, 'high': 39428, 'low': 39391.398437, 'close': 39406.148437, 'volume': None}, {'timestamp': 1665033000, 'gmtoffset': 0, 'datetime': '2022-10-06 05:10:00', 'open': 39403.5, 'high': 39443.148437, 'low': 39403.5, 'close': 39423.648437, 'volume': None}, {'timestamp': 1665033300, 'gmtoffset': 0, 'datetime': '2022-10-06 05:15:00', 'open': 39422.648437, 'high': 39429.398437, 'low': 39403.699218, 'close': 39418.648437, 'volume': None}, {'timestamp': 1665033600, 'gmtoffset': 0, 'datetime': '2022-10-06 05:20:00', 'open': 39420.101562, 'high': 39428.949218, 'low': 39399.25, 'close': 39428.5, 'volume': None}, {'timestamp': 1665033900, 'gmtoffset': 0, 'datetime': '2022-10-06 05:25:00', 'open': 39428.050781, 'high': 39444.550781, 'low': 39420.601562, 'close': 39442.851562, 'volume': None}, {'timestamp': 1665034200, 'gmtoffset': 0, 'datetime': '2022-10-06 05:30:00', 'open': 39445.050781, 'high': 39497.449218, 'low': 39445.050781, 'close': 39489.601562, 'volume': None}, {'timestamp': 1665034500, 'gmtoffset': 0, 'datetime': '2022-10-06 05:35:00', 'open': 39487.648437, 'high': 39503.148437, 'low': 39464.550781, 'close': 39466.550781, 'volume': None}, {'timestamp': 1665034800, 'gmtoffset': 0, 'datetime': '2022-10-06 05:40:00', 'open': 39467.148437, 'high': 39469.898437, 'low': 39427.648437, 'close': 39428.398437, 'volume': None}, {'timestamp': 1665035100, 'gmtoffset': 0, 'datetime': '2022-10-06 05:45:00', 'open': 39424.898437, 'high': 39442.199218, 'low': 39416.300781, 'close': 39441, 'volume': None}, {'timestamp': 1665035400, 'gmtoffset': 0, 'datetime': '2022-10-06 05:50:00', 'open': 39441.351562, 'high': 39443.601562, 'low': 39417, 'close': 39428.351562, 'volume': None}, {'timestamp': 1665035700, 'gmtoffset': 0, 'datetime': '2022-10-06 05:55:00', 'open': 39428.148437, 'high': 39428.449218, 'low': 39369.75, 'close': 39408.148437, 'volume': None}, {'timestamp': 1665036000, 'gmtoffset': 0, 'datetime': '2022-10-06 06:00:00', 'open': 39403.648437, 'high': 39417.25, 'low': 39373.148437, 'close': 39400.148437, 'volume': None}, {'timestamp': 1665036300, 'gmtoffset': 0, 'datetime': '2022-10-06 06:05:00', 'open': 39399.699218, 'high': 39432.75, 'low': 39388.851562, 'close': 39430.199218, 'volume': None}, {'timestamp': 1665036600, 'gmtoffset': 0, 'datetime': '2022-10-06 06:10:00', 'open': 39432.101562, 'high': 39445, 'low': 39411.351562, 'close': 39425.449218, 'volume': None}, {'timestamp': 1665036900, 'gmtoffset': 0, 'datetime': '2022-10-06 06:15:00', 'open': 39425.949218, 'high': 39426.300781, 'low': 39395.699218, 'close': 39401.5, 'volume': None}, {'timestamp': 1665037200, 'gmtoffset': 0, 'datetime': '2022-10-06 06:20:00', 'open': 39400.5, 'high': 39430.148437, 'low': 39396.601562, 'close': 39416.898437, 'volume': None}, {'timestamp': 1665037500, 'gmtoffset': 0, 'datetime': '2022-10-06 06:25:00', 'open': 39416.199218, 'high': 39421.449218, 'low': 39390.898437, 'close': 39393.199218, 'volume': None}, {'timestamp': 1665037800, 'gmtoffset': 0, 'datetime': '2022-10-06 06:30:00', 'open': 39395.449218, 'high': 39404.101562, 'low': 39372.648437, 'close': 39401.050781, 'volume': None}, {'timestamp': 1665038100, 'gmtoffset': 0, 'datetime': '2022-10-06 06:35:00', 'open': 39401.148437, 'high': 39437.5, 'low': 39397.648437, 'close': 39404.898437, 'volume': None}, {'timestamp': 1665038400, 'gmtoffset': 0, 'datetime': '2022-10-06 06:40:00', 'open': 39403.550781, 'high': 39443.800781, 'low': 39391.300781, 'close': 39442.351562, 'volume': None}, {'timestamp': 1665038700, 'gmtoffset': 0, 'datetime': '2022-10-06 06:45:00', 'open': 39443.550781, 'high': 39478.851562, 'low': 39439.800781, 'close': 39477.398437, 'volume': None}, {'timestamp': 1665039000, 'gmtoffset': 0, 'datetime': '2022-10-06 06:50:00', 'open': 39477.101562, 'high': 39477.949218, 'low': 39441.550781, 'close': 39466.898437, 'volume': None}, {'timestamp': 1665039300, 'gmtoffset': 0, 'datetime': '2022-10-06 06:55:00', 'open': 39467.449218, 'high': 39493.101562, 'low': 39420.851562, 'close': 39424.800781, 'volume': None}, {'timestamp': 1665039600, 'gmtoffset': 0, 'datetime': '2022-10-06 07:00:00', 'open': 39424.050781, 'high': 39437.351562, 'low': 39405.351562, 'close': 39427.351562, 'volume': None}, {'timestamp': 1665039900, 'gmtoffset': 0, 'datetime': '2022-10-06 07:05:00', 'open': None, 'high': None, 'low': None, 'close': None, 'volume': None}, {'timestamp': 1665040009, 'gmtoffset': 0, 'datetime': '2022-10-06 07:06:49', 'open': 39418.851562, 'high': 39418.851562, 'low': 39418.851562, 'close': 39418.851562, 'volume': None}, {'timestamp': 1665040200, 'gmtoffset': 0, 'datetime': '2022-10-06 07:10:00', 'open': 39455.351562, 'high': 39470.449218, 'low': 39453.699218, 'close': 39460.75, 'volume': None}, {'timestamp': 1665040500, 'gmtoffset': 0, 'datetime': '2022-10-06 07:15:00', 'open': 39460.800781, 'high': 39532.5, 'low': 39458.148437, 'close': 39532.25, 'volume': None}, {'timestamp': 1665040800, 'gmtoffset': 0, 'datetime': '2022-10-06 07:20:00', 'open': 39533, 'high': 39578.699218, 'low': 39520.648437, 'close': 39548.800781, 'volume': None}, {'timestamp': 1665041100, 'gmtoffset': 0, 'datetime': '2022-10-06 07:25:00', 'open': 39549.351562, 'high': 39605.101562, 'low': 39544.699218, 'close': 39603.25, 'volume': None}, {'timestamp': 1665041400, 'gmtoffset': 0, 'datetime': '2022-10-06 07:30:00', 'open': 39603.648437, 'high': 39605.851562, 'low': 39568.601562, 'close': 39583.949218, 'volume': None}, {'timestamp': 1665041700, 'gmtoffset': 0, 'datetime': '2022-10-06 07:35:00', 'open': 39582.800781, 'high': 39583.199218, 'low': 39540.300781, 'close': 39551.199218, 'volume': None}, {'timestamp': 1665042000, 'gmtoffset': 0, 'datetime': '2022-10-06 07:40:00', 'open': 39550.050781, 'high': 39578.800781, 'low': 39550.050781, 'close': 39561.148437, 'volume': None}, {'timestamp': 1665042300, 'gmtoffset': 0, 'datetime': '2022-10-06 07:45:00', 'open': 39560.101562, 'high': 39560.101562, 'low': 39502.449218, 'close': 39521.101562, 'volume': None}, {'timestamp': 1665042600, 'gmtoffset': 0, 'datetime': '2022-10-06 07:50:00', 'open': 39520.949218, 'high': 39559.601562, 'low': 39520.75, 'close': 39557, 'volume': None}, {'timestamp': 1665042900, 'gmtoffset': 0, 'datetime': '2022-10-06 07:55:00', 'open': 39557.949218, 'high': 39570.398437, 'low': 39544.800781, 'close': 39555.898437, 'volume': None}, {'timestamp': 1665043200, 'gmtoffset': 0, 'datetime': '2022-10-06 08:00:00', 'open': 39553.25, 'high': 39573.5, 'low': 39530.851562, 'close': 39560.398437, 'volume': None}, {'timestamp': 1665043500, 'gmtoffset': 0, 'datetime': '2022-10-06 08:05:00', 'open': 39556.5, 'high': 39580.25, 'low': 39549, 'close': 39562.949218, 'volume': None}, {'timestamp': 1665043800, 'gmtoffset': 0, 'datetime': '2022-10-06 08:10:00', 'open': 39561.75, 'high': 39579.5, 'low': 39535.601562, 'close': 39549.199218, 'volume': None}, {'timestamp': 1665044100, 'gmtoffset': 0, 'datetime': '2022-10-06 08:15:00', 'open': 39548.75, 'high': 39559.699218, 'low': 39535.5, 'close': 39545.101562, 'volume': None}, {'timestamp': 1665044400, 'gmtoffset': 0, 'datetime': '2022-10-06 08:20:00', 'open': 39545.351562, 'high': 39547.101562, 'low': 39502.101562, 'close': 39506.898437, 'volume': None}, {'timestamp': 1665044700, 'gmtoffset': 0, 'datetime': '2022-10-06 08:25:00', 'open': 39506.300781, 'high': 39519.398437, 'low': 39459.050781, 'close': 39480.898437, 'volume': None}, {'timestamp': 1665045000, 'gmtoffset': 0, 'datetime': '2022-10-06 08:30:00', 'open': 39480.199218, 'high': 39512.601562, 'low': 39469.800781, 'close': 39470.351562, 'volume': None}, {'timestamp': 1665045300, 'gmtoffset': 0, 'datetime': '2022-10-06 08:35:00', 'open': 39467.648437, 'high': 39484.800781, 'low': 39426.75, 'close': 39429.550781, 'volume': None}, {'timestamp': 1665045600, 'gmtoffset': 0, 'datetime': '2022-10-06 08:40:00', 'open': 39426.699218, 'high': 39447.5, 'low': 39383.199218, 'close': 39395.75, 'volume': None}, {'timestamp': 1665045900, 'gmtoffset': 0, 'datetime': '2022-10-06 08:45:00', 'open': 39393.699218, 'high': 39402.148437, 'low': 39337.148437, 'close': 39358.050781, 'volume': None}, {'timestamp': 1665046200, 'gmtoffset': 0, 'datetime': '2022-10-06 08:50:00', 'open': 39354.050781, 'high': 39379.648437, 'low': 39320.601562, 'close': 39378.75, 'volume': None}, {'timestamp': 1665046500, 'gmtoffset': 0, 'datetime': '2022-10-06 08:55:00', 'open': 39378, 'high': 39400.25, 'low': 39353.148437, 'close': 39395, 'volume': None}, {'timestamp': 1665046800, 'gmtoffset': 0, 'datetime': '2022-10-06 09:00:00', 'open': 39393.5, 'high': 39395.199218, 'low': 39313.5, 'close': 39340.148437, 'volume': None}, {'timestamp': 1665047100, 'gmtoffset': 0, 'datetime': '2022-10-06 09:05:00', 'open': 39336.851562, 'high': 39369.949218, 'low': 39307.300781, 'close': 39309, 'volume': None}, {'timestamp': 1665047400, 'gmtoffset': 0, 'datetime': '2022-10-06 09:10:00', 'open': 39309.398437, 'high': 39344.699218, 'low': 39284.699218, 'close': 39321.101562, 'volume': None}, {'timestamp': 1665047700, 'gmtoffset': 0, 'datetime': '2022-10-06 09:15:00', 'open': 39319.101562, 'high': 39350.25, 'low': 39300.601562, 'close': 39327.351562, 'volume': None}, {'timestamp': 1665048000, 'gmtoffset': 0, 'datetime': '2022-10-06 09:20:00', 'open': 39325.648437, 'high': 39359.800781, 'low': 39303.75, 'close': 39358.050781, 'volume': None}, {'timestamp': 1665048300, 'gmtoffset': 0, 'datetime': '2022-10-06 09:25:00', 'open': 39361, 'high': 39379.050781, 'low': 39332.5, 'close': 39358.25, 'volume': None}, {'timestamp': 1665048600, 'gmtoffset': 0, 'datetime': '2022-10-06 09:30:00', 'open': 39359.898437, 'high': 39377.949218, 'low': 39325.25, 'close': 39327.300781, 'volume': None}, {'timestamp': 1665048900, 'gmtoffset': 0, 'datetime': '2022-10-06 09:35:00', 'open': 39327.949218, 'high': 39327.949218, 'low': 39257.550781, 'close': 39263.898437, 'volume': None}, {'timestamp': 1665049200, 'gmtoffset': 0, 'datetime': '2022-10-06 09:40:00', 'open': 39264.050781, 'high': 39297.601562, 'low': 39244.148437, 'close': 39289.449218, 'volume': None}, {'timestamp': 1665049500, 'gmtoffset': 0, 'datetime': '2022-10-06 09:45:00', 'open': 39296.398437, 'high': 39298.25, 'low': 39262.648437, 'close': 39268.25, 'volume': None}, {'timestamp': 1665049800, 'gmtoffset': 0, 'datetime': '2022-10-06 09:50:00', 'open': 39268.25, 'high': 39287.898437, 'low': 39254.199218, 'close': 39267.050781, 'volume': None}, {'timestamp': 1665050100, 'gmtoffset': 0, 'datetime': '2022-10-06 09:55:00', 'open': 39268.949218, 'high': 39274.449218, 'low': 39238.25, 'close': 39239.25, 'volume': None}, {'timestamp': 1665050400, 'gmtoffset': 0, 'datetime': '2022-10-06 10:00:00', 'open': 39282.851562, 'high': 39282.851562, 'low': 39282.851562, 'close': 39282.851562, 'volume': None}, {'timestamp': 1665114300, 'gmtoffset': 0, 'datetime': '2022-10-07 03:45:00', 'open': 39093.5, 'high': 39124.75, 'low': 38947.449218, 'close': 39026.351562, 'volume': None}, {'timestamp': 1665114600, 'gmtoffset': 0, 'datetime': '2022-10-07 03:50:00', 'open': 39033.601562, 'high': 39044.101562, 'low': 38979.25, 'close': 39000.851562, 'volume': None}, {'timestamp': 1665114900, 'gmtoffset': 0, 'datetime': '2022-10-07 03:55:00', 'open': 39000.398437, 'high': 39047.101562, 'low': 38922.75, 'close': 38926.550781, 'volume': None}, {'timestamp': 1665115200, 'gmtoffset': 0, 'datetime': '2022-10-07 04:00:00', 'open': 38925.949218, 'high': 38925.949218, 'low': 38841.851562, 'close': 38888.5, 'volume': None}, {'timestamp': 1665115500, 'gmtoffset': 0, 'datetime': '2022-10-07 04:05:00', 'open': 38890.75, 'high': 38910.25, 'low': 38861.699218, 'close': 38888.449218, 'volume': None}, {'timestamp': 1665115800, 'gmtoffset': 0, 'datetime': '2022-10-07 04:10:00', 'open': 38890.398437, 'high': 38912.25, 'low': 38828.199218, 'close': 38880.550781, 'volume': None}, {'timestamp': 1665116100, 'gmtoffset': 0, 'datetime': '2022-10-07 04:15:00', 'open': 38881.5, 'high': 38932.898437, 'low': 38878, 'close': 38890.199218, 'volume': None}, {'timestamp': 1665116400, 'gmtoffset': 0, 'datetime': '2022-10-07 04:20:00', 'open': 38888.898437, 'high': 38960.449218, 'low': 38887.449218, 'close': 38957.25, 'volume': None}, {'timestamp': 1665116700, 'gmtoffset': 0, 'datetime': '2022-10-07 04:25:00', 'open': 38956.351562, 'high': 39034.398437, 'low': 38954.351562, 'close': 39030.050781, 'volume': None}, {'timestamp': 1665117000, 'gmtoffset': 0, 'datetime': '2022-10-07 04:30:00', 'open': 39033.300781, 'high': 39057.449218, 'low': 38975.050781, 'close': 38975.050781, 'volume': None}, {'timestamp': 1665117300, 'gmtoffset': 0, 'datetime': '2022-10-07 04:35:00', 'open': 38974.25, 'high': 39017.25, 'low': 38960, 'close': 39009.199218, 'volume': None}, {'timestamp': 1665117600, 'gmtoffset': 0, 'datetime': '2022-10-07 04:40:00', 'open': 39010, 'high': 39013.148437, 'low': 38956.851562, 'close': 38977.601562, 'volume': None}, {'timestamp': 1665117900, 'gmtoffset': 0, 'datetime': '2022-10-07 04:45:00', 'open': 38976.601562, 'high': 38983.800781, 'low': 38931.550781, 'close': 38969, 'volume': None}, {'timestamp': 1665118200, 'gmtoffset': 0, 'datetime': '2022-10-07 04:50:00', 'open': 38967, 'high': 38975.648437, 'low': 38912.300781, 'close': 38912.300781, 'volume': None}, {'timestamp': 1665118500, 'gmtoffset': 0, 'datetime': '2022-10-07 04:55:00', 'open': 38915.949218, 'high': 38934.898437, 'low': 38897.800781, 'close': 38923.648437, 'volume': None}, {'timestamp': 1665118800, 'gmtoffset': 0, 'datetime': '2022-10-07 05:00:00', 'open': 38922.148437, 'high': 38935.898437, 'low': 38898.148437, 'close': 38903.148437, 'volume': None}, {'timestamp': 1665119100, 'gmtoffset': 0, 'datetime': '2022-10-07 05:05:00', 'open': 38902.949218, 'high': 38904.550781, 'low': 38877.851562, 'close': 38878.648437, 'volume': None}, {'timestamp': 1665119400, 'gmtoffset': 0, 'datetime': '2022-10-07 05:10:00', 'open': 38880.101562, 'high': 38959.800781, 'low': 38875.898437, 'close': 38951.5, 'volume': None}, {'timestamp': 1665119700, 'gmtoffset': 0, 'datetime': '2022-10-07 05:15:00', 'open': 38950.75, 'high': 38956.75, 'low': 38914, 'close': 38916.148437, 'volume': None}, {'timestamp': 1665120000, 'gmtoffset': 0, 'datetime': '2022-10-07 05:20:00', 'open': 38915.851562, 'high': 38930.851562, 'low': 38895.25, 'close': 38930.5, 'volume': None}, {'timestamp': 1665120300, 'gmtoffset': 0, 'datetime': '2022-10-07 05:25:00', 'open': 38930.25, 'high': 38931.851562, 'low': 38888.949218, 'close': 38910.101562, 'volume': None}, {'timestamp': 1665120600, 'gmtoffset': 0, 'datetime': '2022-10-07 05:30:00', 'open': 38911.449218, 'high': 38916.148437, 'low': 38871.699218, 'close': 38910.699218, 'volume': None}, {'timestamp': 1665120900, 'gmtoffset': 0, 'datetime': '2022-10-07 05:35:00', 'open': 38911.25, 'high': 38954.601562, 'low': 38898.550781, 'close': 38934.699218, 'volume': None}, {'timestamp': 1665121200, 'gmtoffset': 0, 'datetime': '2022-10-07 05:40:00', 'open': 38934.699218, 'high': 38974.949218, 'low': 38929.25, 'close': 38941.898437, 'volume': None}, {'timestamp': 1665121500, 'gmtoffset': 0, 'datetime': '2022-10-07 05:45:00', 'open': 38950, 'high': 38978.648437, 'low': 38941, 'close': 38973.101562, 'volume': None}, {'timestamp': 1665121800, 'gmtoffset': 0, 'datetime': '2022-10-07 05:50:00', 'open': 38973.5, 'high': 38973.5, 'low': 38910.148437, 'close': 38936.898437, 'volume': None}, {'timestamp': 1665122100, 'gmtoffset': 0, 'datetime': '2022-10-07 05:55:00', 'open': 38933.550781, 'high': 38943.949218, 'low': 38919, 'close': 38921.949218, 'volume': None}, {'timestamp': 1665122400, 'gmtoffset': 0, 'datetime': '2022-10-07 06:00:00', 'open': 38922.5, 'high': 38938.199218, 'low': 38908.75, 'close': 38926.601562, 'volume': None}, {'timestamp': 1665122700, 'gmtoffset': 0, 'datetime': '2022-10-07 06:05:00', 'open': 38924.148437, 'high': 38959.601562, 'low': 38924.148437, 'close': 38947.449218, 'volume': None}, {'timestamp': 1665123000, 'gmtoffset': 0, 'datetime': '2022-10-07 06:10:00', 'open': 38949.148437, 'high': 38953.300781, 'low': 38915.449218, 'close': 38926.550781, 'volume': None}, {'timestamp': 1665123300, 'gmtoffset': 0, 'datetime': '2022-10-07 06:15:00', 'open': 38922.898437, 'high': 38959.25, 'low': 38896.101562, 'close': 38949.351562, 'volume': None}, {'timestamp': 1665123600, 'gmtoffset': 0, 'datetime': '2022-10-07 06:20:00', 'open': 38948.601562, 'high': 38967.5, 'low': 38906.5, 'close': 38907.300781, 'volume': None}, {'timestamp': 1665123900, 'gmtoffset': 0, 'datetime': '2022-10-07 06:25:00', 'open': 38907.449218, 'high': 38916.75, 'low': 38875.199218, 'close': 38883.648437, 'volume': None}, {'timestamp': 1665124200, 'gmtoffset': 0, 'datetime': '2022-10-07 06:30:00', 'open': 38882.898437, 'high': 38883.5, 'low': 38825.949218, 'close': 38835.648437, 'volume': None}, {'timestamp': 1665124500, 'gmtoffset': 0, 'datetime': '2022-10-07 06:35:00', 'open': 38833.25, 'high': 38857.550781, 'low': 38810.648437, 'close': 38817.851562, 'volume': None}, {'timestamp': 1665124800, 'gmtoffset': 0, 'datetime': '2022-10-07 06:40:00', 'open': 38814.199218, 'high': 38845.398437, 'low': 38808.449218, 'close': 38836.5, 'volume': None}, {'timestamp': 1665125100, 'gmtoffset': 0, 'datetime': '2022-10-07 06:45:00', 'open': 38836.101562, 'high': 38859.601562, 'low': 38828.75, 'close': 38852.800781, 'volume': None}, {'timestamp': 1665125400, 'gmtoffset': 0, 'datetime': '2022-10-07 06:50:00', 'open': 38853.449218, 'high': 38861.949218, 'low': 38832.550781, 'close': 38848.199218, 'volume': None}, {'timestamp': 1665125700, 'gmtoffset': 0, 'datetime': '2022-10-07 06:55:00', 'open': 38848.101562, 'high': 38862.800781, 'low': 38831.550781, 'close': 38862.800781, 'volume': None}, {'timestamp': 1665126000, 'gmtoffset': 0, 'datetime': '2022-10-07 07:00:00', 'open': 38862.351562, 'high': 38898.699218, 'low': 38845.101562, 'close': 38880.949218, 'volume': None}, {'timestamp': 1665126300, 'gmtoffset': 0, 'datetime': '2022-10-07 07:05:00', 'open': 38882.25, 'high': 38886.5, 'low': 38858.949218, 'close': 38861.550781, 'volume': None}, {'timestamp': 1665126380, 'gmtoffset': 0, 'datetime': '2022-10-07 07:06:20', 'open': 38869.601562, 'high': 38869.601562, 'low': 38869.601562, 'close': 38869.601562, 'volume': None}, {'timestamp': 1665126600, 'gmtoffset': 0, 'datetime': '2022-10-07 07:10:00', 'open': 38872, 'high': 38942.800781, 'low': 38872, 'close': 38937.800781, 'volume': None}, {'timestamp': 1665126900, 'gmtoffset': 0, 'datetime': '2022-10-07 07:15:00', 'open': 38937.5, 'high': 38957.25, 'low': 38921.699218, 'close': 38936.148437, 'volume': None}, {'timestamp': 1665127200, 'gmtoffset': 0, 'datetime': '2022-10-07 07:20:00', 'open': 38933.851562, 'high': 38947.101562, 'low': 38909.449218, 'close': 38940.300781, 'volume': None}, {'timestamp': 1665127500, 'gmtoffset': 0, 'datetime': '2022-10-07 07:25:00', 'open': 38937.75, 'high': 38942.398437, 'low': 38879.550781, 'close': 38885.449218, 'volume': None}, {'timestamp': 1665127800, 'gmtoffset': 0, 'datetime': '2022-10-07 07:30:00', 'open': 38884.398437, 'high': 38884.898437, 'low': 38862.398437, 'close': 38871.050781, 'volume': None}, {'timestamp': 1665128100, 'gmtoffset': 0, 'datetime': '2022-10-07 07:35:00', 'open': 38886, 'high': 38905.398437, 'low': 38860.5, 'close': 38904.550781, 'volume': None}, {'timestamp': 1665128400, 'gmtoffset': 0, 'datetime': '2022-10-07 07:40:00', 'open': 38902.648437, 'high': 38909.949218, 'low': 38868.351562, 'close': 38874.300781, 'volume': None}, {'timestamp': 1665128700, 'gmtoffset': 0, 'datetime': '2022-10-07 07:45:00', 'open': 38873.300781, 'high': 38876.199218, 'low': 38846.351562, 'close': 38861.101562, 'volume': None}, {'timestamp': 1665129000, 'gmtoffset': 0, 'datetime': '2022-10-07 07:50:00', 'open': 38860.101562, 'high': 38883.75, 'low': 38843.199218, 'close': 38853.851562, 'volume': None}, {'timestamp': 1665129300, 'gmtoffset': 0, 'datetime': '2022-10-07 07:55:00', 'open': 38852.800781, 'high': 38864.5, 'low': 38828.699218, 'close': 38838, 'volume': None}, {'timestamp': 1665129600, 'gmtoffset': 0, 'datetime': '2022-10-07 08:00:00', 'open': 38837.300781, 'high': 38867.449218, 'low': 38827.148437, 'close': 38863.949218, 'volume': None}, {'timestamp': 1665129900, 'gmtoffset': 0, 'datetime': '2022-10-07 08:05:00', 'open': 38863.199218, 'high': 38878.800781, 'low': 38851.898437, 'close': 38875.050781, 'volume': None}, {'timestamp': 1665130200, 'gmtoffset': 0, 'datetime': '2022-10-07 08:10:00', 'open': 38875, 'high': 38933.050781, 'low': 38875, 'close': 38927.199218, 'volume': None}, {'timestamp': 1665130500, 'gmtoffset': 0, 'datetime': '2022-10-07 08:15:00', 'open': 38927.449218, 'high': 38937.851562, 'low': 38908.75, 'close': 38912.25, 'volume': None}, {'timestamp': 1665130800, 'gmtoffset': 0, 'datetime': '2022-10-07 08:20:00', 'open': 38911.648437, 'high': 38992.550781, 'low': 38909.949218, 'close': 38984.75, 'volume': None}, {'timestamp': 1665131100, 'gmtoffset': 0, 'datetime': '2022-10-07 08:25:00', 'open': 38985.050781, 'high': 38985.050781, 'low': 38947.898437, 'close': 38948.800781, 'volume': None}, {'timestamp': 1665131400, 'gmtoffset': 0, 'datetime': '2022-10-07 08:30:00', 'open': 38951.449218, 'high': 38956.648437, 'low': 38918.601562, 'close': 38946.449218, 'volume': None}, {'timestamp': 1665131700, 'gmtoffset': 0, 'datetime': '2022-10-07 08:35:00', 'open': 38946.898437, 'high': 38981.699218, 'low': 38940.601562, 'close': 38968.449218, 'volume': None}, {'timestamp': 1665132000, 'gmtoffset': 0, 'datetime': '2022-10-07 08:40:00', 'open': 38968.25, 'high': 38984.949218, 'low': 38949.300781, 'close': 38951.550781, 'volume': None}, {'timestamp': 1665132300, 'gmtoffset': 0, 'datetime': '2022-10-07 08:45:00', 'open': 38951.601562, 'high': 38994.851562, 'low': 38930.851562, 'close': 38994.851562, 'volume': None}, {'timestamp': 1665132600, 'gmtoffset': 0, 'datetime': '2022-10-07 08:50:00', 'open': 38997.898437, 'high': 39038.699218, 'low': 38997.898437, 'close': 39012.199218, 'volume': None}, {'timestamp': 1665132900, 'gmtoffset': 0, 'datetime': '2022-10-07 08:55:00', 'open': 39009.449218, 'high': 39022.949218, 'low': 38985.949218, 'close': 39020.851562, 'volume': None}, {'timestamp': 1665133200, 'gmtoffset': 0, 'datetime': '2022-10-07 09:00:00', 'open': 39021.300781, 'high': 39102.75, 'low': 39014.648437, 'close': 39091.148437, 'volume': None}, {'timestamp': 1665133500, 'gmtoffset': 0, 'datetime': '2022-10-07 09:05:00', 'open': 39093.699218, 'high': 39106.300781, 'low': 39065.398437, 'close': 39099.800781, 'volume': None}, {'timestamp': 1665133800, 'gmtoffset': 0, 'datetime': '2022-10-07 09:10:00', 'open': 39099.25, 'high': 39104.550781, 'low': 39064.050781, 'close': 39100.050781, 'volume': None}, {'timestamp': 1665134100, 'gmtoffset': 0, 'datetime': '2022-10-07 09:15:00', 'open': 39103.699218, 'high': 39193.601562, 'low': 39083.25, 'close': 39192.449218, 'volume': None}, {'timestamp': 1665134400, 'gmtoffset': 0, 'datetime': '2022-10-07 09:20:00', 'open': 39194.101562, 'high': 39234.449218, 'low': 39185.5, 'close': 39230.601562, 'volume': None}, {'timestamp': 1665134700, 'gmtoffset': 0, 'datetime': '2022-10-07 09:25:00', 'open': 39229.300781, 'high': 39234.699218, 'low': 39175.449218, 'close': 39196.550781, 'volume': None}, {'timestamp': 1665135000, 'gmtoffset': 0, 'datetime': '2022-10-07 09:30:00', 'open': 39196.199218, 'high': 39213.648437, 'low': 39153.101562, 'close': 39156.601562, 'volume': None}, {'timestamp': 1665135300, 'gmtoffset': 0, 'datetime': '2022-10-07 09:35:00', 'open': 39155.25, 'high': 39166.800781, 'low': 39126.351562, 'close': 39166.550781, 'volume': None}, {'timestamp': 1665135600, 'gmtoffset': 0, 'datetime': '2022-10-07 09:40:00', 'open': 39167.148437, 'high': 39175.699218, 'low': 39137.949218, 'close': 39147.601562, 'volume': None}, {'timestamp': 1665135900, 'gmtoffset': 0, 'datetime': '2022-10-07 09:45:00', 'open': 39147.5, 'high': 39173.25, 'low': 39146.601562, 'close': 39169.25, 'volume': None}, {'timestamp': 1665136200, 'gmtoffset': 0, 'datetime': '2022-10-07 09:50:00', 'open': 39168.601562, 'high': 39211.949218, 'low': 39159.800781, 'close': 39210.351562, 'volume': None}, {'timestamp': 1665136500, 'gmtoffset': 0, 'datetime': '2022-10-07 09:55:00', 'open': 39208.898437, 'high': 39213.75, 'low': 39188.398437, 'close': 39199.398437, 'volume': None}, {'timestamp': 1665136800, 'gmtoffset': 0, 'datetime': '2022-10-07 10:00:00', 'open': 39178.050781, 'high': 39178.050781, 'low': 39178.050781, 'close': 39178.050781, 'volume': None}, {'timestamp': 1665373500, 'gmtoffset': 0, 'datetime': '2022-10-10 03:45:00', 'open': 38641.550781, 'high': 38731.148437, 'low': 38567.398437, 'close': 38582.699218, 'volume': None}, {'timestamp': 1665373800, 'gmtoffset': 0, 'datetime': '2022-10-10 03:50:00', 'open': 38580.699218, 'high': 38637.800781, 'low': 38520.898437, 'close': 38625.199218, 'volume': None}, {'timestamp': 1665374100, 'gmtoffset': 0, 'datetime': '2022-10-10 03:55:00', 'open': 38626.050781, 'high': 38773.601562, 'low': 38605.898437, 'close': 38772.300781, 'volume': None}, {'timestamp': 1665374400, 'gmtoffset': 0, 'datetime': '2022-10-10 04:00:00', 'open': 38773.949218, 'high': 38812.449218, 'low': 38738.75, 'close': 38744.601562, 'volume': None}, {'timestamp': 1665374700, 'gmtoffset': 0, 'datetime': '2022-10-10 04:05:00', 'open': 38745.5, 'high': 38748.550781, 'low': 38686.25, 'close': 38739.898437, 'volume': None}, {'timestamp': 1665375000, 'gmtoffset': 0, 'datetime': '2022-10-10 04:10:00', 'open': 38741.851562, 'high': 38764.300781, 'low': 38704.398437, 'close': 38709.601562, 'volume': None}, {'timestamp': 1665375300, 'gmtoffset': 0, 'datetime': '2022-10-10 04:15:00', 'open': 38711.148437, 'high': 38724.898437, 'low': 38657.199218, 'close': 38668.699218, 'volume': None}, {'timestamp': 1665375600, 'gmtoffset': 0, 'datetime': '2022-10-10 04:20:00', 'open': 38668.25, 'high': 38682.75, 'low': 38642, 'close': 38647.25, 'volume': None}, {'timestamp': 1665375900, 'gmtoffset': 0, 'datetime': '2022-10-10 04:25:00', 'open': 38645.648437, 'high': 38675.75, 'low': 38623.898437, 'close': 38645.5, 'volume': None}, {'timestamp': 1665376200, 'gmtoffset': 0, 'datetime': '2022-10-10 04:30:00', 'open': 38643.800781, 'high': 38665, 'low': 38629.449218, 'close': 38652.300781, 'volume': None}, {'timestamp': 1665376500, 'gmtoffset': 0, 'datetime': '2022-10-10 04:35:00', 'open': 38651.101562, 'high': 38673.351562, 'low': 38633.949218, 'close': 38640.601562, 'volume': None}, {'timestamp': 1665376800, 'gmtoffset': 0, 'datetime': '2022-10-10 04:40:00', 'open': 38639.25, 'high': 38664.449218, 'low': 38610.898437, 'close': 38664.449218, 'volume': None}, {'timestamp': 1665377100, 'gmtoffset': 0, 'datetime': '2022-10-10 04:45:00', 'open': 38666, 'high': 38705.550781, 'low': 38651.300781, 'close': 38704.25, 'volume': None}, {'timestamp': 1665377400, 'gmtoffset': 0, 'datetime': '2022-10-10 04:50:00', 'open': 38706.300781, 'high': 38753.699218, 'low': 38703.300781, 'close': 38742.449218, 'volume': None}, {'timestamp': 1665377700, 'gmtoffset': 0, 'datetime': '2022-10-10 04:55:00', 'open': 38743.851562, 'high': 38802.449218, 'low': 38715.550781, 'close': 38798.199218, 'volume': None}, {'timestamp': 1665378000, 'gmtoffset': 0, 'datetime': '2022-10-10 05:00:00', 'open': 38797.949218, 'high': 38846.949218, 'low': 38797.949218, 'close': 38813, 'volume': None}, {'timestamp': 1665378300, 'gmtoffset': 0, 'datetime': '2022-10-10 05:05:00', 'open': 38815.601562, 'high': 38815.601562, 'low': 38729.550781, 'close': 38738.351562, 'volume': None}, {'timestamp': 1665378600, 'gmtoffset': 0, 'datetime': '2022-10-10 05:10:00', 'open': 38738.148437, 'high': 38739.949218, 'low': 38704.351562, 'close': 38736.300781, 'volume': None}, {'timestamp': 1665378900, 'gmtoffset': 0, 'datetime': '2022-10-10 05:15:00', 'open': 38736.601562, 'high': 38763.898437, 'low': 38731.351562, 'close': 38743.101562, 'volume': None}, {'timestamp': 1665379200, 'gmtoffset': 0, 'datetime': '2022-10-10 05:20:00', 'open': 38742.75, 'high': 38798.148437, 'low': 38739.699218, 'close': 38785.5, 'volume': None}, {'timestamp': 1665379500, 'gmtoffset': 0, 'datetime': '2022-10-10 05:25:00', 'open': 38788.148437, 'high': 38812.851562, 'low': 38775.851562, 'close': 38802.351562, 'volume': None}, {'timestamp': 1665379800, 'gmtoffset': 0, 'datetime': '2022-10-10 05:30:00', 'open': 38800.648437, 'high': 38829, 'low': 38788.449218, 'close': 38800.800781, 'volume': None}, {'timestamp': 1665380100, 'gmtoffset': 0, 'datetime': '2022-10-10 05:35:00', 'open': 38801.148437, 'high': 38849.300781, 'low': 38794.648437, 'close': 38843.800781, 'volume': None}, {'timestamp': 1665380400, 'gmtoffset': 0, 'datetime': '2022-10-10 05:40:00', 'open': 38845.699218, 'high': 38869.050781, 'low': 38836.75, 'close': 38858.050781, 'volume': None}, {'timestamp': 1665380700, 'gmtoffset': 0, 'datetime': '2022-10-10 05:45:00', 'open': 38857.75, 'high': 38866.601562, 'low': 38840.800781, 'close': 38849.101562, 'volume': None}, {'timestamp': 1665381000, 'gmtoffset': 0, 'datetime': '2022-10-10 05:50:00', 'open': 38848.75, 'high': 38882.75, 'low': 38837.800781, 'close': 38866.5, 'volume': None}, {'timestamp': 1665381300, 'gmtoffset': 0, 'datetime': '2022-10-10 05:55:00', 'open': 38869.550781, 'high': 38897.300781, 'low': 38864.699218, 'close': 38893.800781, 'volume': None}, {'timestamp': 1665381600, 'gmtoffset': 0, 'datetime': '2022-10-10 06:00:00', 'open': 38889.398437, 'high': 38939.300781, 'low': 38889.398437, 'close': 38922.101562, 'volume': None}, {'timestamp': 1665381900, 'gmtoffset': 0, 'datetime': '2022-10-10 06:05:00', 'open': 38921.699218, 'high': 38926.148437, 'low': 38907.851562, 'close': 38911.800781, 'volume': None}, {'timestamp': 1665382200, 'gmtoffset': 0, 'datetime': '2022-10-10 06:10:00', 'open': 38907.699218, 'high': 38975.851562, 'low': 38906.601562, 'close': 38973.300781, 'volume': None}, {'timestamp': 1665382500, 'gmtoffset': 0, 'datetime': '2022-10-10 06:15:00', 'open': 38977.351562, 'high': 39006, 'low': 38947.75, 'close': 38949.25, 'volume': None}, {'timestamp': 1665382800, 'gmtoffset': 0, 'datetime': '2022-10-10 06:20:00', 'open': 38950.800781, 'high': 39012.449218, 'low': 38936.148437, 'close': 38995, 'volume': None}, {'timestamp': 1665383100, 'gmtoffset': 0, 'datetime': '2022-10-10 06:25:00', 'open': 38997.398437, 'high': 39052.148437, 'low': 38990.648437, 'close': 39050.550781, 'volume': None}, {'timestamp': 1665383400, 'gmtoffset': 0, 'datetime': '2022-10-10 06:30:00', 'open': 39049.398437, 'high': 39104.300781, 'low': 39047.449218, 'close': 39058.898437, 'volume': None}, {'timestamp': 1665383700, 'gmtoffset': 0, 'datetime': '2022-10-10 06:35:00', 'open': 39057.601562, 'high': 39142.050781, 'low': 39047.25, 'close': 39135.351562, 'volume': None}, {'timestamp': 1665384000, 'gmtoffset': 0, 'datetime': '2022-10-10 06:40:00', 'open': 39134.550781, 'high': 39182.648437, 'low': 39107.25, 'close': 39179.148437, 'volume': None}, {'timestamp': 1665384300, 'gmtoffset': 0, 'datetime': '2022-10-10 06:45:00', 'open': 39176.800781, 'high': 39227.601562, 'low': 39167.5, 'close': 39189.5, 'volume': None}, {'timestamp': 1665384600, 'gmtoffset': 0, 'datetime': '2022-10-10 06:50:00', 'open': 39189.949218, 'high': 39200.75, 'low': 39117.601562, 'close': 39122.398437, 'volume': None}, {'timestamp': 1665384900, 'gmtoffset': 0, 'datetime': '2022-10-10 06:55:00', 'open': 39122.5, 'high': 39161.5, 'low': 39085.25, 'close': 39143.601562, 'volume': None}, {'timestamp': 1665385200, 'gmtoffset': 0, 'datetime': '2022-10-10 07:00:00', 'open': 39146.101562, 'high': 39259.050781, 'low': 39145.699218, 'close': 39253.898437, 'volume': None}, {'timestamp': 1665385500, 'gmtoffset': 0, 'datetime': '2022-10-10 07:05:00', 'open': 39253.648437, 'high': 39298, 'low': 39251.148437, 'close': 39271.25, 'volume': None}, {'timestamp': 1665385646, 'gmtoffset': 0, 'datetime': '2022-10-10 07:07:26', 'open': 39275.800781, 'high': 39275.800781, 'low': 39275.800781, 'close': 39275.800781, 'volume': None}, {'timestamp': 1665385800, 'gmtoffset': 0, 'datetime': '2022-10-10 07:10:00', 'open': 39249.398437, 'high': 39283.449218, 'low': 39237.898437, 'close': 39269, 'volume': None}, {'timestamp': 1665386100, 'gmtoffset': 0, 'datetime': '2022-10-10 07:15:00', 'open': 39271.398437, 'high': 39283.949218, 'low': 39244.648437, 'close': 39269.050781, 'volume': None}, {'timestamp': 1665386400, 'gmtoffset': 0, 'datetime': '2022-10-10 07:20:00', 'open': 39268.75, 'high': 39295.699218, 'low': 39253.199218, 'close': 39295.699218, 'volume': None}, {'timestamp': 1665386700, 'gmtoffset': 0, 'datetime': '2022-10-10 07:25:00', 'open': 39294.351562, 'high': 39315.648437, 'low': 39256.550781, 'close': 39256.851562, 'volume': None}, {'timestamp': 1665387000, 'gmtoffset': 0, 'datetime': '2022-10-10 07:30:00', 'open': 39256.851562, 'high': 39260.5, 'low': 39166.699218, 'close': 39182.449218, 'volume': None}, {'timestamp': 1665387300, 'gmtoffset': 0, 'datetime': '2022-10-10 07:35:00', 'open': 39178.601562, 'high': 39241.898437, 'low': 39177.300781, 'close': 39224.050781, 'volume': None}, {'timestamp': 1665387600, 'gmtoffset': 0, 'datetime': '2022-10-10 07:40:00', 'open': 39222.5, 'high': 39233, 'low': 39133.398437, 'close': 39156.148437, 'volume': None}, {'timestamp': 1665387900, 'gmtoffset': 0, 'datetime': '2022-10-10 07:45:00', 'open': 39156, 'high': 39193.398437, 'low': 39139.101562, 'close': 39156.25, 'volume': None}, {'timestamp': 1665388200, 'gmtoffset': 0, 'datetime': '2022-10-10 07:50:00', 'open': 39154.949218, 'high': 39166.050781, 'low': 39124.351562, 'close': 39140.898437, 'volume': None}, {'timestamp': 1665388500, 'gmtoffset': 0, 'datetime': '2022-10-10 07:55:00', 'open': 39140.101562, 'high': 39143.5, 'low': 39099.800781, 'close': 39110.050781, 'volume': None}, {'timestamp': 1665388800, 'gmtoffset': 0, 'datetime': '2022-10-10 08:00:00', 'open': 39111, 'high': 39120.148437, 'low': 39065.300781, 'close': 39078.398437, 'volume': None}, {'timestamp': 1665389100, 'gmtoffset': 0, 'datetime': '2022-10-10 08:05:00', 'open': 39072.25, 'high': 39105.5, 'low': 39051.148437, 'close': 39086.898437, 'volume': None}, {'timestamp': 1665389400, 'gmtoffset': 0, 'datetime': '2022-10-10 08:10:00', 'open': 39087.148437, 'high': 39169.949218, 'low': 39076.898437, 'close': 39155.5, 'volume': None}, {'timestamp': 1665389700, 'gmtoffset': 0, 'datetime': '2022-10-10 08:15:00', 'open': 39156.199218, 'high': 39158.050781, 'low': 39080.851562, 'close': 39087.050781, 'volume': None}, {'timestamp': 1665390000, 'gmtoffset': 0, 'datetime': '2022-10-10 08:20:00', 'open': 39085.199218, 'high': 39120.601562, 'low': 39076.699218, 'close': 39079.949218, 'volume': None}, {'timestamp': 1665390300, 'gmtoffset': 0, 'datetime': '2022-10-10 08:25:00', 'open': 39078.550781, 'high': 39095.699218, 'low': 39013.25, 'close': 39014, 'volume': None}, {'timestamp': 1665390600, 'gmtoffset': 0, 'datetime': '2022-10-10 08:30:00', 'open': 39010.851562, 'high': 39014.398437, 'low': 38946.699218, 'close': 38948.101562, 'volume': None}, {'timestamp': 1665390900, 'gmtoffset': 0, 'datetime': '2022-10-10 08:35:00', 'open': 38947.199218, 'high': 38952.300781, 'low': 38875.648437, 'close': 38901.851562, 'volume': None}, {'timestamp': 1665391200, 'gmtoffset': 0, 'datetime': '2022-10-10 08:40:00', 'open': 38903.898437, 'high': 38917.601562, 'low': 38845.898437, 'close': 38888.050781, 'volume': None}, {'timestamp': 1665391500, 'gmtoffset': 0, 'datetime': '2022-10-10 08:45:00', 'open': 38886.648437, 'high': 38955.550781, 'low': 38872.75, 'close': 38949.851562, 'volume': None}, {'timestamp': 1665391800, 'gmtoffset': 0, 'datetime': '2022-10-10 08:50:00', 'open': 38950.148437, 'high': 38950.148437, 'low': 38904.449218, 'close': 38948.699218, 'volume': None}, {'timestamp': 1665392100, 'gmtoffset': 0, 'datetime': '2022-10-10 08:55:00', 'open': 38948.601562, 'high': 39019.101562, 'low': 38935.898437, 'close': 39011.101562, 'volume': None}, {'timestamp': 1665392400, 'gmtoffset': 0, 'datetime': '2022-10-10 09:00:00', 'open': 39017.25, 'high': 39080.101562, 'low': 39015.300781, 'close': 39042.648437, 'volume': None}, {'timestamp': 1665392700, 'gmtoffset': 0, 'datetime': '2022-10-10 09:05:00', 'open': 39034.699218, 'high': 39070, 'low': 39017.101562, 'close': 39033.050781, 'volume': None}, {'timestamp': 1665393000, 'gmtoffset': 0, 'datetime': '2022-10-10 09:10:00', 'open': 39032.648437, 'high': 39035.101562, 'low': 38954.101562, 'close': 38975.300781, 'volume': None}, {'timestamp': 1665393300, 'gmtoffset': 0, 'datetime': '2022-10-10 09:15:00', 'open': 38975.699218, 'high': 39056.75, 'low': 38975.699218, 'close': 39051.898437, 'volume': None}, {'timestamp': 1665393600, 'gmtoffset': 0, 'datetime': '2022-10-10 09:20:00', 'open': 39050.550781, 'high': 39119.398437, 'low': 39049.050781, 'close': 39094.398437, 'volume': None}, {'timestamp': 1665393900, 'gmtoffset': 0, 'datetime': '2022-10-10 09:25:00', 'open': 39090.898437, 'high': 39095.75, 'low': 39042.25, 'close': 39079.5, 'volume': None}, {'timestamp': 1665394200, 'gmtoffset': 0, 'datetime': '2022-10-10 09:30:00', 'open': 39071.5, 'high': 39095.75, 'low': 39040.300781, 'close': 39056.800781, 'volume': None}, {'timestamp': 1665394500, 'gmtoffset': 0, 'datetime': '2022-10-10 09:35:00', 'open': 39059.199218, 'high': 39083.25, 'low': 39049.050781, 'close': 39073.75, 'volume': None}, {'timestamp': 1665394800, 'gmtoffset': 0, 'datetime': '2022-10-10 09:40:00', 'open': 39074.699218, 'high': 39159.351562, 'low': 39070.851562, 'close': 39132.648437, 'volume': None}, {'timestamp': 1665395100, 'gmtoffset': 0, 'datetime': '2022-10-10 09:45:00', 'open': 39137.101562, 'high': 39148.25, 'low': 39077.648437, 'close': 39095.351562, 'volume': None}, {'timestamp': 1665395400, 'gmtoffset': 0, 'datetime': '2022-10-10 09:50:00', 'open': 39092.601562, 'high': 39102.75, 'low': 39077.75, 'close': 39094.398437, 'volume': None}, {'timestamp': 1665395700, 'gmtoffset': 0, 'datetime': '2022-10-10 09:55:00', 'open': 39091.699218, 'high': 39113.699218, 'low': 39082.5, 'close': 39113.699218, 'volume': None}, {'timestamp': 1665396000, 'gmtoffset': 0, 'datetime': '2022-10-10 10:00:00', 'open': 39093.101562, 'high': 39093.101562, 'low': 39093.101562, 'close': 39093.101562, 'volume': None}]\n"
     ]
    }
   ],
   "source": [
    "import requests\n",
    "\n",
    "url = f'https://eodhd.com/api/intraday/NSEBANK.INDX?api_token=65e185a7d8ff47.50324444&fmt=json&from=1664595900&to=1665396000'\n",
    "data = requests.get(url).json()\n",
    "\n",
    "print(data)"
   ]
  },
  {
   "cell_type": "code",
   "outputs": [],
   "source": [
    "# define a function to get data between two unix timesta\n",
    "# mps\n",
    "def get_data(from_date, to_date):\n",
    "    url = f'https://eodhd.com/api/intraday/NSEBANK.INDX?api_token=65e185a7d8ff47.50324444&fmt=json&from={from_date}&to={to_date}'\n",
    "    return requests.get(url).json()"
   ],
   "metadata": {
    "collapsed": false,
    "ExecuteTime": {
     "end_time": "2024-03-13T09:01:48.223326Z",
     "start_time": "2024-03-13T09:01:48.208214Z"
    }
   },
   "id": "a388d4c8e7e70330",
   "execution_count": 3
  },
  {
   "cell_type": "code",
   "outputs": [],
   "source": [
    "start_date = \"2024-03-07\"\n",
    "end_date = \"2024-03-12\""
   ],
   "metadata": {
    "collapsed": false,
    "ExecuteTime": {
     "end_time": "2024-03-13T09:01:48.238967Z",
     "start_time": "2024-03-13T09:01:48.226538Z"
    }
   },
   "id": "d9ffc13e478290e",
   "execution_count": 4
  },
  {
   "cell_type": "code",
   "outputs": [],
   "source": [
    "url = f'https://eodhistoricaldata.com/api/eod/NSEBANK.INDX?api_token=65e185a7d8ff47.50324444&from={start_date}&to={end_date}&fmt=json'\n",
    "data = requests.get(url).json()"
   ],
   "metadata": {
    "collapsed": false,
    "ExecuteTime": {
     "end_time": "2024-03-13T09:01:49.614427Z",
     "start_time": "2024-03-13T09:01:48.243073Z"
    }
   },
   "id": "d243aba460cee8fd",
   "execution_count": 5
  },
  {
   "cell_type": "code",
   "outputs": [],
   "source": [
    "df = pd.DataFrame(data)"
   ],
   "metadata": {
    "collapsed": false,
    "ExecuteTime": {
     "end_time": "2024-03-13T09:01:49.645447Z",
     "start_time": "2024-03-13T09:01:49.618095Z"
    }
   },
   "id": "4d349ee22e00e168",
   "execution_count": 6
  },
  {
   "cell_type": "code",
   "outputs": [
    {
     "data": {
      "text/plain": "(3, 7)"
     },
     "execution_count": 7,
     "metadata": {},
     "output_type": "execute_result"
    }
   ],
   "source": [
    "df.shape"
   ],
   "metadata": {
    "collapsed": false,
    "ExecuteTime": {
     "end_time": "2024-03-13T09:01:49.675831Z",
     "start_time": "2024-03-13T09:01:49.658132Z"
    }
   },
   "id": "681ba6f478670f59",
   "execution_count": 7
  },
  {
   "cell_type": "code",
   "outputs": [
    {
     "data": {
      "text/plain": "         date        open        high         low       close  adjusted_close  \\\n0  2024-03-07  48035.8008  48071.6992  47747.1992  47835.8008      47835.8008   \n1  2024-03-11  47792.1992  47853.8008  47230.6484  47327.8516      47327.8516   \n2  2024-03-12  47351.3516  47812.7500  46884.4492  47282.3984      47282.3984   \n\n   volume  \n0  146300  \n1  204200  \n2  207200  ",
      "text/html": "<div>\n<style scoped>\n    .dataframe tbody tr th:only-of-type {\n        vertical-align: middle;\n    }\n\n    .dataframe tbody tr th {\n        vertical-align: top;\n    }\n\n    .dataframe thead th {\n        text-align: right;\n    }\n</style>\n<table border=\"1\" class=\"dataframe\">\n  <thead>\n    <tr style=\"text-align: right;\">\n      <th></th>\n      <th>date</th>\n      <th>open</th>\n      <th>high</th>\n      <th>low</th>\n      <th>close</th>\n      <th>adjusted_close</th>\n      <th>volume</th>\n    </tr>\n  </thead>\n  <tbody>\n    <tr>\n      <th>0</th>\n      <td>2024-03-07</td>\n      <td>48035.8008</td>\n      <td>48071.6992</td>\n      <td>47747.1992</td>\n      <td>47835.8008</td>\n      <td>47835.8008</td>\n      <td>146300</td>\n    </tr>\n    <tr>\n      <th>1</th>\n      <td>2024-03-11</td>\n      <td>47792.1992</td>\n      <td>47853.8008</td>\n      <td>47230.6484</td>\n      <td>47327.8516</td>\n      <td>47327.8516</td>\n      <td>204200</td>\n    </tr>\n    <tr>\n      <th>2</th>\n      <td>2024-03-12</td>\n      <td>47351.3516</td>\n      <td>47812.7500</td>\n      <td>46884.4492</td>\n      <td>47282.3984</td>\n      <td>47282.3984</td>\n      <td>207200</td>\n    </tr>\n  </tbody>\n</table>\n</div>"
     },
     "execution_count": 8,
     "metadata": {},
     "output_type": "execute_result"
    }
   ],
   "source": [
    "df"
   ],
   "metadata": {
    "collapsed": false,
    "ExecuteTime": {
     "end_time": "2024-03-13T09:01:49.707536Z",
     "start_time": "2024-03-13T09:01:49.676948Z"
    }
   },
   "id": "e96bfd8364d954f5",
   "execution_count": 8
  },
  {
   "cell_type": "code",
   "outputs": [
    {
     "name": "stdout",
     "output_type": "stream",
     "text": [
      "         date        open        high         low       close  volume\n",
      "0  2024-03-07  48035.8008  48071.6992  47747.1992  47835.8008  146300\n",
      "1  2024-03-11  47792.1992  47853.8008  47230.6484  47327.8516  204200\n",
      "2  2024-03-12  47351.3516  47812.7500  46884.4492  47282.3984  207200\n",
      "date       object\n",
      "open      float64\n",
      "high      float64\n",
      "low       float64\n",
      "close     float64\n",
      "volume      int64\n",
      "dtype: object\n"
     ]
    }
   ],
   "source": [
    "\n",
    "# Drop the 'adjusted_close' column\n",
    "df.drop('adjusted_close', axis=1, inplace=True)\n",
    "\n",
    "# To verify the changes\n",
    "print(df.head())\n",
    "print(df.dtypes)"
   ],
   "metadata": {
    "collapsed": false,
    "ExecuteTime": {
     "end_time": "2024-03-13T09:01:49.722831Z",
     "start_time": "2024-03-13T09:01:49.708671Z"
    }
   },
   "id": "a22ee8f218e8a4a1",
   "execution_count": 9
  },
  {
   "cell_type": "code",
   "outputs": [
    {
     "data": {
      "text/plain": "Index(['date', 'open', 'high', 'low', 'close', 'volume'], dtype='object')"
     },
     "execution_count": 10,
     "metadata": {},
     "output_type": "execute_result"
    }
   ],
   "source": [
    "df.columns"
   ],
   "metadata": {
    "collapsed": false,
    "ExecuteTime": {
     "end_time": "2024-03-13T09:01:49.738610Z",
     "start_time": "2024-03-13T09:01:49.723857Z"
    }
   },
   "id": "2a542bda2339fb4c",
   "execution_count": 10
  },
  {
   "cell_type": "code",
   "outputs": [],
   "source": [
    "df_1 = pd.read_csv('eod_data.csv')"
   ],
   "metadata": {
    "collapsed": false,
    "ExecuteTime": {
     "end_time": "2024-03-13T09:01:49.784861Z",
     "start_time": "2024-03-13T09:01:49.740854Z"
    }
   },
   "id": "14375194ab604be5",
   "execution_count": 11
  },
  {
   "cell_type": "code",
   "outputs": [
    {
     "data": {
      "text/plain": "Index(['date', 'open', 'high', 'low', 'close', 'volume'], dtype='object')"
     },
     "execution_count": 12,
     "metadata": {},
     "output_type": "execute_result"
    }
   ],
   "source": [
    "df_1.columns"
   ],
   "metadata": {
    "collapsed": false,
    "ExecuteTime": {
     "end_time": "2024-03-13T09:01:49.800361Z",
     "start_time": "2024-03-13T09:01:49.785860Z"
    }
   },
   "id": "227ad0e429a58ef0",
   "execution_count": 12
  },
  {
   "cell_type": "code",
   "outputs": [
    {
     "data": {
      "text/plain": "            date        open        high         low       close  volume\n4183  2024-03-01  46218.0000  47342.2500  46218.0000  47286.8984  172500\n4184  2024-03-02  47342.1000  47392.9500  47240.3500  47297.5000   12240\n4185  2024-03-04  47318.5000  47529.6016  47191.6484  47456.1016  158100\n4186  2024-03-05  47265.6992  47737.8516  47196.7500  47581.0000  176900\n4187  2024-03-06  47451.6484  48161.2500  47442.2500  47965.3984  301700",
      "text/html": "<div>\n<style scoped>\n    .dataframe tbody tr th:only-of-type {\n        vertical-align: middle;\n    }\n\n    .dataframe tbody tr th {\n        vertical-align: top;\n    }\n\n    .dataframe thead th {\n        text-align: right;\n    }\n</style>\n<table border=\"1\" class=\"dataframe\">\n  <thead>\n    <tr style=\"text-align: right;\">\n      <th></th>\n      <th>date</th>\n      <th>open</th>\n      <th>high</th>\n      <th>low</th>\n      <th>close</th>\n      <th>volume</th>\n    </tr>\n  </thead>\n  <tbody>\n    <tr>\n      <th>4183</th>\n      <td>2024-03-01</td>\n      <td>46218.0000</td>\n      <td>47342.2500</td>\n      <td>46218.0000</td>\n      <td>47286.8984</td>\n      <td>172500</td>\n    </tr>\n    <tr>\n      <th>4184</th>\n      <td>2024-03-02</td>\n      <td>47342.1000</td>\n      <td>47392.9500</td>\n      <td>47240.3500</td>\n      <td>47297.5000</td>\n      <td>12240</td>\n    </tr>\n    <tr>\n      <th>4185</th>\n      <td>2024-03-04</td>\n      <td>47318.5000</td>\n      <td>47529.6016</td>\n      <td>47191.6484</td>\n      <td>47456.1016</td>\n      <td>158100</td>\n    </tr>\n    <tr>\n      <th>4186</th>\n      <td>2024-03-05</td>\n      <td>47265.6992</td>\n      <td>47737.8516</td>\n      <td>47196.7500</td>\n      <td>47581.0000</td>\n      <td>176900</td>\n    </tr>\n    <tr>\n      <th>4187</th>\n      <td>2024-03-06</td>\n      <td>47451.6484</td>\n      <td>48161.2500</td>\n      <td>47442.2500</td>\n      <td>47965.3984</td>\n      <td>301700</td>\n    </tr>\n  </tbody>\n</table>\n</div>"
     },
     "execution_count": 13,
     "metadata": {},
     "output_type": "execute_result"
    }
   ],
   "source": [
    "df_1.tail()"
   ],
   "metadata": {
    "collapsed": false,
    "ExecuteTime": {
     "end_time": "2024-03-13T09:01:49.816083Z",
     "start_time": "2024-03-13T09:01:49.801415Z"
    }
   },
   "id": "80ca74a7e62b9d52",
   "execution_count": 13
  },
  {
   "cell_type": "code",
   "outputs": [
    {
     "data": {
      "text/plain": "         date        open        high         low       close  volume\n0  2024-03-07  48035.8008  48071.6992  47747.1992  47835.8008  146300\n1  2024-03-11  47792.1992  47853.8008  47230.6484  47327.8516  204200\n2  2024-03-12  47351.3516  47812.7500  46884.4492  47282.3984  207200",
      "text/html": "<div>\n<style scoped>\n    .dataframe tbody tr th:only-of-type {\n        vertical-align: middle;\n    }\n\n    .dataframe tbody tr th {\n        vertical-align: top;\n    }\n\n    .dataframe thead th {\n        text-align: right;\n    }\n</style>\n<table border=\"1\" class=\"dataframe\">\n  <thead>\n    <tr style=\"text-align: right;\">\n      <th></th>\n      <th>date</th>\n      <th>open</th>\n      <th>high</th>\n      <th>low</th>\n      <th>close</th>\n      <th>volume</th>\n    </tr>\n  </thead>\n  <tbody>\n    <tr>\n      <th>0</th>\n      <td>2024-03-07</td>\n      <td>48035.8008</td>\n      <td>48071.6992</td>\n      <td>47747.1992</td>\n      <td>47835.8008</td>\n      <td>146300</td>\n    </tr>\n    <tr>\n      <th>1</th>\n      <td>2024-03-11</td>\n      <td>47792.1992</td>\n      <td>47853.8008</td>\n      <td>47230.6484</td>\n      <td>47327.8516</td>\n      <td>204200</td>\n    </tr>\n    <tr>\n      <th>2</th>\n      <td>2024-03-12</td>\n      <td>47351.3516</td>\n      <td>47812.7500</td>\n      <td>46884.4492</td>\n      <td>47282.3984</td>\n      <td>207200</td>\n    </tr>\n  </tbody>\n</table>\n</div>"
     },
     "execution_count": 14,
     "metadata": {},
     "output_type": "execute_result"
    }
   ],
   "source": [
    "df.head()"
   ],
   "metadata": {
    "collapsed": false,
    "ExecuteTime": {
     "end_time": "2024-03-13T09:01:49.831747Z",
     "start_time": "2024-03-13T09:01:49.817138Z"
    }
   },
   "id": "2cfb25c04214b4e7",
   "execution_count": 14
  },
  {
   "cell_type": "code",
   "outputs": [],
   "source": [
    "result = pd.concat([df_1, df], ignore_index=True)"
   ],
   "metadata": {
    "collapsed": false,
    "ExecuteTime": {
     "end_time": "2024-03-13T09:01:49.847810Z",
     "start_time": "2024-03-13T09:01:49.833857Z"
    }
   },
   "id": "dcf9ca2c0381fa27",
   "execution_count": 15
  },
  {
   "cell_type": "code",
   "outputs": [
    {
     "data": {
      "text/plain": "            date        open        high         low       close     volume\n4181  2024-02-28  46640.9000  46754.5500  45852.5500  45963.1500  167270000\n4182  2024-02-29  45881.4500  46329.6500  45661.7500  46120.9000  544730000\n4183  2024-03-01  46218.0000  47342.2500  46218.0000  47286.8984     172500\n4184  2024-03-02  47342.1000  47392.9500  47240.3500  47297.5000      12240\n4185  2024-03-04  47318.5000  47529.6016  47191.6484  47456.1016     158100\n4186  2024-03-05  47265.6992  47737.8516  47196.7500  47581.0000     176900\n4187  2024-03-06  47451.6484  48161.2500  47442.2500  47965.3984     301700\n4188  2024-03-07  48035.8008  48071.6992  47747.1992  47835.8008     146300\n4189  2024-03-11  47792.1992  47853.8008  47230.6484  47327.8516     204200\n4190  2024-03-12  47351.3516  47812.7500  46884.4492  47282.3984     207200",
      "text/html": "<div>\n<style scoped>\n    .dataframe tbody tr th:only-of-type {\n        vertical-align: middle;\n    }\n\n    .dataframe tbody tr th {\n        vertical-align: top;\n    }\n\n    .dataframe thead th {\n        text-align: right;\n    }\n</style>\n<table border=\"1\" class=\"dataframe\">\n  <thead>\n    <tr style=\"text-align: right;\">\n      <th></th>\n      <th>date</th>\n      <th>open</th>\n      <th>high</th>\n      <th>low</th>\n      <th>close</th>\n      <th>volume</th>\n    </tr>\n  </thead>\n  <tbody>\n    <tr>\n      <th>4181</th>\n      <td>2024-02-28</td>\n      <td>46640.9000</td>\n      <td>46754.5500</td>\n      <td>45852.5500</td>\n      <td>45963.1500</td>\n      <td>167270000</td>\n    </tr>\n    <tr>\n      <th>4182</th>\n      <td>2024-02-29</td>\n      <td>45881.4500</td>\n      <td>46329.6500</td>\n      <td>45661.7500</td>\n      <td>46120.9000</td>\n      <td>544730000</td>\n    </tr>\n    <tr>\n      <th>4183</th>\n      <td>2024-03-01</td>\n      <td>46218.0000</td>\n      <td>47342.2500</td>\n      <td>46218.0000</td>\n      <td>47286.8984</td>\n      <td>172500</td>\n    </tr>\n    <tr>\n      <th>4184</th>\n      <td>2024-03-02</td>\n      <td>47342.1000</td>\n      <td>47392.9500</td>\n      <td>47240.3500</td>\n      <td>47297.5000</td>\n      <td>12240</td>\n    </tr>\n    <tr>\n      <th>4185</th>\n      <td>2024-03-04</td>\n      <td>47318.5000</td>\n      <td>47529.6016</td>\n      <td>47191.6484</td>\n      <td>47456.1016</td>\n      <td>158100</td>\n    </tr>\n    <tr>\n      <th>4186</th>\n      <td>2024-03-05</td>\n      <td>47265.6992</td>\n      <td>47737.8516</td>\n      <td>47196.7500</td>\n      <td>47581.0000</td>\n      <td>176900</td>\n    </tr>\n    <tr>\n      <th>4187</th>\n      <td>2024-03-06</td>\n      <td>47451.6484</td>\n      <td>48161.2500</td>\n      <td>47442.2500</td>\n      <td>47965.3984</td>\n      <td>301700</td>\n    </tr>\n    <tr>\n      <th>4188</th>\n      <td>2024-03-07</td>\n      <td>48035.8008</td>\n      <td>48071.6992</td>\n      <td>47747.1992</td>\n      <td>47835.8008</td>\n      <td>146300</td>\n    </tr>\n    <tr>\n      <th>4189</th>\n      <td>2024-03-11</td>\n      <td>47792.1992</td>\n      <td>47853.8008</td>\n      <td>47230.6484</td>\n      <td>47327.8516</td>\n      <td>204200</td>\n    </tr>\n    <tr>\n      <th>4190</th>\n      <td>2024-03-12</td>\n      <td>47351.3516</td>\n      <td>47812.7500</td>\n      <td>46884.4492</td>\n      <td>47282.3984</td>\n      <td>207200</td>\n    </tr>\n  </tbody>\n</table>\n</div>"
     },
     "execution_count": 16,
     "metadata": {},
     "output_type": "execute_result"
    }
   ],
   "source": [
    "result.tail(10)"
   ],
   "metadata": {
    "collapsed": false,
    "ExecuteTime": {
     "end_time": "2024-03-13T09:01:49.878732Z",
     "start_time": "2024-03-13T09:01:49.851818Z"
    }
   },
   "id": "592234755f56055f",
   "execution_count": 16
  },
  {
   "cell_type": "code",
   "outputs": [],
   "source": [
    "# Convert 'date' to datetime type\n",
    "result['date'] = pd.to_datetime(result['date'])\n",
    "\n",
    "# Set 'date' as the index\n",
    "result.set_index('date', inplace=True)\n"
   ],
   "metadata": {
    "collapsed": false,
    "ExecuteTime": {
     "end_time": "2024-03-13T09:01:49.910375Z",
     "start_time": "2024-03-13T09:01:49.880723Z"
    }
   },
   "id": "e8320a198858b688",
   "execution_count": 17
  },
  {
   "cell_type": "code",
   "outputs": [
    {
     "data": {
      "text/plain": "               open     high      low    close    volume\ndate                                                    \n2007-04-02  5267.70  5267.70  4946.55  4959.65  12535000\n2007-04-03  4961.30  5048.60  4921.80  4995.15  14984000\n2007-04-04  4997.05  5108.15  4997.05  5031.75   9251000\n2007-04-05  5035.90  5151.25  4985.30  5129.20  10120000\n2007-04-09  5129.05  5335.95  5129.05  5323.80   9708000",
      "text/html": "<div>\n<style scoped>\n    .dataframe tbody tr th:only-of-type {\n        vertical-align: middle;\n    }\n\n    .dataframe tbody tr th {\n        vertical-align: top;\n    }\n\n    .dataframe thead th {\n        text-align: right;\n    }\n</style>\n<table border=\"1\" class=\"dataframe\">\n  <thead>\n    <tr style=\"text-align: right;\">\n      <th></th>\n      <th>open</th>\n      <th>high</th>\n      <th>low</th>\n      <th>close</th>\n      <th>volume</th>\n    </tr>\n    <tr>\n      <th>date</th>\n      <th></th>\n      <th></th>\n      <th></th>\n      <th></th>\n      <th></th>\n    </tr>\n  </thead>\n  <tbody>\n    <tr>\n      <th>2007-04-02</th>\n      <td>5267.70</td>\n      <td>5267.70</td>\n      <td>4946.55</td>\n      <td>4959.65</td>\n      <td>12535000</td>\n    </tr>\n    <tr>\n      <th>2007-04-03</th>\n      <td>4961.30</td>\n      <td>5048.60</td>\n      <td>4921.80</td>\n      <td>4995.15</td>\n      <td>14984000</td>\n    </tr>\n    <tr>\n      <th>2007-04-04</th>\n      <td>4997.05</td>\n      <td>5108.15</td>\n      <td>4997.05</td>\n      <td>5031.75</td>\n      <td>9251000</td>\n    </tr>\n    <tr>\n      <th>2007-04-05</th>\n      <td>5035.90</td>\n      <td>5151.25</td>\n      <td>4985.30</td>\n      <td>5129.20</td>\n      <td>10120000</td>\n    </tr>\n    <tr>\n      <th>2007-04-09</th>\n      <td>5129.05</td>\n      <td>5335.95</td>\n      <td>5129.05</td>\n      <td>5323.80</td>\n      <td>9708000</td>\n    </tr>\n  </tbody>\n</table>\n</div>"
     },
     "execution_count": 18,
     "metadata": {},
     "output_type": "execute_result"
    }
   ],
   "source": [
    "result.head()"
   ],
   "metadata": {
    "collapsed": false,
    "ExecuteTime": {
     "end_time": "2024-03-13T09:01:49.940765Z",
     "start_time": "2024-03-13T09:01:49.911427Z"
    }
   },
   "id": "1b859943da79ac0b",
   "execution_count": 18
  },
  {
   "cell_type": "code",
   "outputs": [
    {
     "data": {
      "text/plain": "                  open        high         low       close     volume\ndate                                                                 \n2024-02-28  46640.9000  46754.5500  45852.5500  45963.1500  167270000\n2024-02-29  45881.4500  46329.6500  45661.7500  46120.9000  544730000\n2024-03-01  46218.0000  47342.2500  46218.0000  47286.8984     172500\n2024-03-02  47342.1000  47392.9500  47240.3500  47297.5000      12240\n2024-03-04  47318.5000  47529.6016  47191.6484  47456.1016     158100\n2024-03-05  47265.6992  47737.8516  47196.7500  47581.0000     176900\n2024-03-06  47451.6484  48161.2500  47442.2500  47965.3984     301700\n2024-03-07  48035.8008  48071.6992  47747.1992  47835.8008     146300\n2024-03-11  47792.1992  47853.8008  47230.6484  47327.8516     204200\n2024-03-12  47351.3516  47812.7500  46884.4492  47282.3984     207200",
      "text/html": "<div>\n<style scoped>\n    .dataframe tbody tr th:only-of-type {\n        vertical-align: middle;\n    }\n\n    .dataframe tbody tr th {\n        vertical-align: top;\n    }\n\n    .dataframe thead th {\n        text-align: right;\n    }\n</style>\n<table border=\"1\" class=\"dataframe\">\n  <thead>\n    <tr style=\"text-align: right;\">\n      <th></th>\n      <th>open</th>\n      <th>high</th>\n      <th>low</th>\n      <th>close</th>\n      <th>volume</th>\n    </tr>\n    <tr>\n      <th>date</th>\n      <th></th>\n      <th></th>\n      <th></th>\n      <th></th>\n      <th></th>\n    </tr>\n  </thead>\n  <tbody>\n    <tr>\n      <th>2024-02-28</th>\n      <td>46640.9000</td>\n      <td>46754.5500</td>\n      <td>45852.5500</td>\n      <td>45963.1500</td>\n      <td>167270000</td>\n    </tr>\n    <tr>\n      <th>2024-02-29</th>\n      <td>45881.4500</td>\n      <td>46329.6500</td>\n      <td>45661.7500</td>\n      <td>46120.9000</td>\n      <td>544730000</td>\n    </tr>\n    <tr>\n      <th>2024-03-01</th>\n      <td>46218.0000</td>\n      <td>47342.2500</td>\n      <td>46218.0000</td>\n      <td>47286.8984</td>\n      <td>172500</td>\n    </tr>\n    <tr>\n      <th>2024-03-02</th>\n      <td>47342.1000</td>\n      <td>47392.9500</td>\n      <td>47240.3500</td>\n      <td>47297.5000</td>\n      <td>12240</td>\n    </tr>\n    <tr>\n      <th>2024-03-04</th>\n      <td>47318.5000</td>\n      <td>47529.6016</td>\n      <td>47191.6484</td>\n      <td>47456.1016</td>\n      <td>158100</td>\n    </tr>\n    <tr>\n      <th>2024-03-05</th>\n      <td>47265.6992</td>\n      <td>47737.8516</td>\n      <td>47196.7500</td>\n      <td>47581.0000</td>\n      <td>176900</td>\n    </tr>\n    <tr>\n      <th>2024-03-06</th>\n      <td>47451.6484</td>\n      <td>48161.2500</td>\n      <td>47442.2500</td>\n      <td>47965.3984</td>\n      <td>301700</td>\n    </tr>\n    <tr>\n      <th>2024-03-07</th>\n      <td>48035.8008</td>\n      <td>48071.6992</td>\n      <td>47747.1992</td>\n      <td>47835.8008</td>\n      <td>146300</td>\n    </tr>\n    <tr>\n      <th>2024-03-11</th>\n      <td>47792.1992</td>\n      <td>47853.8008</td>\n      <td>47230.6484</td>\n      <td>47327.8516</td>\n      <td>204200</td>\n    </tr>\n    <tr>\n      <th>2024-03-12</th>\n      <td>47351.3516</td>\n      <td>47812.7500</td>\n      <td>46884.4492</td>\n      <td>47282.3984</td>\n      <td>207200</td>\n    </tr>\n  </tbody>\n</table>\n</div>"
     },
     "execution_count": 19,
     "metadata": {},
     "output_type": "execute_result"
    }
   ],
   "source": [
    "result.tail(10)"
   ],
   "metadata": {
    "collapsed": false,
    "ExecuteTime": {
     "end_time": "2024-03-13T09:01:49.956849Z",
     "start_time": "2024-03-13T09:01:49.942965Z"
    }
   },
   "id": "fb2777b641dd56da",
   "execution_count": 19
  },
  {
   "cell_type": "code",
   "outputs": [],
   "source": [
    "result.to_csv('eod_data_1.csv')"
   ],
   "metadata": {
    "collapsed": false,
    "ExecuteTime": {
     "end_time": "2024-03-13T09:01:50.034097Z",
     "start_time": "2024-03-13T09:01:49.959284Z"
    }
   },
   "id": "a8225420546772f7",
   "execution_count": 20
  }
 ],
 "metadata": {
  "kernelspec": {
   "display_name": "Python 3",
   "language": "python",
   "name": "python3"
  },
  "language_info": {
   "codemirror_mode": {
    "name": "ipython",
    "version": 2
   },
   "file_extension": ".py",
   "mimetype": "text/x-python",
   "name": "python",
   "nbconvert_exporter": "python",
   "pygments_lexer": "ipython2",
   "version": "2.7.6"
  }
 },
 "nbformat": 4,
 "nbformat_minor": 5
}
