{
 "cells": [
  {
   "cell_type": "code",
   "execution_count": null,
   "id": "initial_id",
   "metadata": {
    "collapsed": true
   },
   "outputs": [],
   "source": [
    "import requests\n",
    "\n",
    "url = f'https://eodhd.com/api/intraday/NSEBANK.INDX?api_token=65e185a7d8ff47.50324444&fmt=json&from=1664595900&to=1665396000'\n",
    "data = requests.get(url).json()\n",
    "\n",
    "print(data)"
   ]
  },
  {
   "cell_type": "code",
   "outputs": [],
   "source": [
    "# define a function to get data between two unix timesta\n",
    "# mps\n",
    "def get_data(from_date, to_date):\n",
    "    url = f'https://eodhd.com/api/intraday/NSEBANK.INDX?api_token=65e185a7d8ff47.50324444&fmt=json&from={from_date}&to={to_date}'\n",
    "    return requests.get(url).json()"
   ],
   "metadata": {
    "collapsed": false
   },
   "id": "77b72d16215858d"
  },
  {
   "cell_type": "code",
   "outputs": [],
   "source": [
    "import requests\n",
    "import pandas as pd\n",
    "from datetime import datetime, timedelta\n",
    "# date range from October 1, 2020 until yesterday\n",
    "dates = pd.date_range(start='1/1/2000', end=datetime.now() - timedelta(1))\n",
    "\n",
    "unix_dates = [int(date.timestamp()) for date in dates]"
   ],
   "metadata": {
    "collapsed": false,
    "ExecuteTime": {
     "end_time": "2024-03-07T13:45:35.680436Z",
     "start_time": "2024-03-07T13:45:30.457914Z"
    }
   },
   "id": "eccf5cf65e550e76",
   "execution_count": 1
  },
  {
   "cell_type": "code",
   "outputs": [],
   "source": [
    "start_date = \"2007-04-01\"\n",
    "end_date = \"2024-03-06\""
   ],
   "metadata": {
    "collapsed": false,
    "ExecuteTime": {
     "end_time": "2024-03-07T14:00:43.619830Z",
     "start_time": "2024-03-07T14:00:43.616719Z"
    }
   },
   "id": "3426d33050e033a0",
   "execution_count": 23
  },
  {
   "cell_type": "code",
   "outputs": [],
   "source": [],
   "metadata": {
    "collapsed": false,
    "ExecuteTime": {
     "end_time": "2024-03-07T14:00:43.624990Z",
     "start_time": "2024-03-07T14:00:43.621832Z"
    }
   },
   "id": "33959d8ec853145a",
   "execution_count": 23
  },
  {
   "cell_type": "code",
   "outputs": [],
   "source": [
    "#url = f'https://eodhd.com/api/intraday/NSEBANK.INDX?api_token=65e185a7d8ff47.50324444&fmt=json&from={unix_dates[0]}&to={unix_dates[-1]}'\n",
    "url = f'https://eodhistoricaldata.com/api/eod/NSEBANK.INDX?api_token=65e185a7d8ff47.50324444&from={start_date}&to={end_date}&fmt=json'\n",
    "data = requests.get(url).json()"
   ],
   "metadata": {
    "collapsed": false,
    "ExecuteTime": {
     "end_time": "2024-03-07T14:00:46.238592Z",
     "start_time": "2024-03-07T14:00:43.664720Z"
    }
   },
   "id": "c64954046a68827",
   "execution_count": 24
  },
  {
   "cell_type": "code",
   "outputs": [],
   "source": [
    "df = pd.DataFrame(data)"
   ],
   "metadata": {
    "collapsed": false,
    "ExecuteTime": {
     "end_time": "2024-03-07T14:00:46.257765Z",
     "start_time": "2024-03-07T14:00:46.242063Z"
    }
   },
   "id": "1a97f82eaf7702c9",
   "execution_count": 25
  },
  {
   "cell_type": "code",
   "outputs": [
    {
     "data": {
      "text/plain": "(4197, 7)"
     },
     "execution_count": 26,
     "metadata": {},
     "output_type": "execute_result"
    }
   ],
   "source": [
    "df.shape"
   ],
   "metadata": {
    "collapsed": false,
    "ExecuteTime": {
     "end_time": "2024-03-07T14:00:46.265712Z",
     "start_time": "2024-03-07T14:00:46.259025Z"
    }
   },
   "id": "13575e8f38fb9fe6",
   "execution_count": 26
  },
  {
   "cell_type": "code",
   "outputs": [
    {
     "data": {
      "text/plain": "9"
     },
     "execution_count": 27,
     "metadata": {},
     "output_type": "execute_result"
    }
   ],
   "source": [
    "(df['volume'] == 0).sum()"
   ],
   "metadata": {
    "collapsed": false,
    "ExecuteTime": {
     "end_time": "2024-03-07T14:00:46.275562Z",
     "start_time": "2024-03-07T14:00:46.268024Z"
    }
   },
   "id": "badb02d10bf302fa",
   "execution_count": 27
  },
  {
   "cell_type": "code",
   "outputs": [
    {
     "data": {
      "text/plain": "           date      open      high       low     close  adjusted_close  \\\n0    2007-04-02   5267.70   5267.70   4946.55   4959.65         4959.65   \n1    2007-04-03   4961.30   5048.60   4921.80   4995.15         4995.15   \n2    2007-04-04   4997.05   5108.15   4997.05   5031.75         5031.75   \n3    2007-04-05   5035.90   5151.25   4985.30   5129.20         5129.20   \n4    2007-04-09   5129.05   5335.95   5129.05   5323.80         5323.80   \n..          ...       ...       ...       ...       ...             ...   \n995  2011-04-06  11784.55  11838.05  11686.55  11730.05        11730.05   \n996  2011-04-07  11724.75  11825.00  11656.70  11754.40        11754.40   \n997  2011-04-08  11751.80  11853.35  11632.55  11673.25        11673.25   \n998  2011-04-11  11591.00  11637.00  11551.75  11597.80        11597.80   \n999  2011-04-13  11531.45  11856.35  11490.55  11839.50        11839.50   \n\n       volume  \n0    12535000  \n1    14984000  \n2     9251000  \n3    10120000  \n4     9708000  \n..        ...  \n995  14275000  \n996  11993000  \n997  14180000  \n998  12854000  \n999  15317000  \n\n[1000 rows x 7 columns]",
      "text/html": "<div>\n<style scoped>\n    .dataframe tbody tr th:only-of-type {\n        vertical-align: middle;\n    }\n\n    .dataframe tbody tr th {\n        vertical-align: top;\n    }\n\n    .dataframe thead th {\n        text-align: right;\n    }\n</style>\n<table border=\"1\" class=\"dataframe\">\n  <thead>\n    <tr style=\"text-align: right;\">\n      <th></th>\n      <th>date</th>\n      <th>open</th>\n      <th>high</th>\n      <th>low</th>\n      <th>close</th>\n      <th>adjusted_close</th>\n      <th>volume</th>\n    </tr>\n  </thead>\n  <tbody>\n    <tr>\n      <th>0</th>\n      <td>2007-04-02</td>\n      <td>5267.70</td>\n      <td>5267.70</td>\n      <td>4946.55</td>\n      <td>4959.65</td>\n      <td>4959.65</td>\n      <td>12535000</td>\n    </tr>\n    <tr>\n      <th>1</th>\n      <td>2007-04-03</td>\n      <td>4961.30</td>\n      <td>5048.60</td>\n      <td>4921.80</td>\n      <td>4995.15</td>\n      <td>4995.15</td>\n      <td>14984000</td>\n    </tr>\n    <tr>\n      <th>2</th>\n      <td>2007-04-04</td>\n      <td>4997.05</td>\n      <td>5108.15</td>\n      <td>4997.05</td>\n      <td>5031.75</td>\n      <td>5031.75</td>\n      <td>9251000</td>\n    </tr>\n    <tr>\n      <th>3</th>\n      <td>2007-04-05</td>\n      <td>5035.90</td>\n      <td>5151.25</td>\n      <td>4985.30</td>\n      <td>5129.20</td>\n      <td>5129.20</td>\n      <td>10120000</td>\n    </tr>\n    <tr>\n      <th>4</th>\n      <td>2007-04-09</td>\n      <td>5129.05</td>\n      <td>5335.95</td>\n      <td>5129.05</td>\n      <td>5323.80</td>\n      <td>5323.80</td>\n      <td>9708000</td>\n    </tr>\n    <tr>\n      <th>...</th>\n      <td>...</td>\n      <td>...</td>\n      <td>...</td>\n      <td>...</td>\n      <td>...</td>\n      <td>...</td>\n      <td>...</td>\n    </tr>\n    <tr>\n      <th>995</th>\n      <td>2011-04-06</td>\n      <td>11784.55</td>\n      <td>11838.05</td>\n      <td>11686.55</td>\n      <td>11730.05</td>\n      <td>11730.05</td>\n      <td>14275000</td>\n    </tr>\n    <tr>\n      <th>996</th>\n      <td>2011-04-07</td>\n      <td>11724.75</td>\n      <td>11825.00</td>\n      <td>11656.70</td>\n      <td>11754.40</td>\n      <td>11754.40</td>\n      <td>11993000</td>\n    </tr>\n    <tr>\n      <th>997</th>\n      <td>2011-04-08</td>\n      <td>11751.80</td>\n      <td>11853.35</td>\n      <td>11632.55</td>\n      <td>11673.25</td>\n      <td>11673.25</td>\n      <td>14180000</td>\n    </tr>\n    <tr>\n      <th>998</th>\n      <td>2011-04-11</td>\n      <td>11591.00</td>\n      <td>11637.00</td>\n      <td>11551.75</td>\n      <td>11597.80</td>\n      <td>11597.80</td>\n      <td>12854000</td>\n    </tr>\n    <tr>\n      <th>999</th>\n      <td>2011-04-13</td>\n      <td>11531.45</td>\n      <td>11856.35</td>\n      <td>11490.55</td>\n      <td>11839.50</td>\n      <td>11839.50</td>\n      <td>15317000</td>\n    </tr>\n  </tbody>\n</table>\n<p>1000 rows × 7 columns</p>\n</div>"
     },
     "execution_count": 28,
     "metadata": {},
     "output_type": "execute_result"
    }
   ],
   "source": [
    "df.head(1000)"
   ],
   "metadata": {
    "collapsed": false,
    "ExecuteTime": {
     "end_time": "2024-03-07T14:00:46.290583Z",
     "start_time": "2024-03-07T14:00:46.276640Z"
    }
   },
   "id": "f7be5de20fd50d3d",
   "execution_count": 28
  },
  {
   "cell_type": "code",
   "outputs": [
    {
     "data": {
      "text/plain": "            date        open        high         low       close  \\\n4192  2024-03-01  46218.0000  47342.2500  46218.0000  47286.8984   \n4193  2024-03-02  47342.1000  47392.9500  47240.3500  47297.5000   \n4194  2024-03-04  47318.5000  47529.6016  47191.6484  47456.1016   \n4195  2024-03-05  47265.6992  47737.8516  47196.7500  47581.0000   \n4196  2024-03-06  47451.6484  48161.2500  47442.2500  47965.3984   \n\n      adjusted_close  volume  \n4192      47286.8984  172500  \n4193      47297.5000   12240  \n4194      47456.1016  158100  \n4195      47581.0000  176900  \n4196      47965.3984  301700  ",
      "text/html": "<div>\n<style scoped>\n    .dataframe tbody tr th:only-of-type {\n        vertical-align: middle;\n    }\n\n    .dataframe tbody tr th {\n        vertical-align: top;\n    }\n\n    .dataframe thead th {\n        text-align: right;\n    }\n</style>\n<table border=\"1\" class=\"dataframe\">\n  <thead>\n    <tr style=\"text-align: right;\">\n      <th></th>\n      <th>date</th>\n      <th>open</th>\n      <th>high</th>\n      <th>low</th>\n      <th>close</th>\n      <th>adjusted_close</th>\n      <th>volume</th>\n    </tr>\n  </thead>\n  <tbody>\n    <tr>\n      <th>4192</th>\n      <td>2024-03-01</td>\n      <td>46218.0000</td>\n      <td>47342.2500</td>\n      <td>46218.0000</td>\n      <td>47286.8984</td>\n      <td>47286.8984</td>\n      <td>172500</td>\n    </tr>\n    <tr>\n      <th>4193</th>\n      <td>2024-03-02</td>\n      <td>47342.1000</td>\n      <td>47392.9500</td>\n      <td>47240.3500</td>\n      <td>47297.5000</td>\n      <td>47297.5000</td>\n      <td>12240</td>\n    </tr>\n    <tr>\n      <th>4194</th>\n      <td>2024-03-04</td>\n      <td>47318.5000</td>\n      <td>47529.6016</td>\n      <td>47191.6484</td>\n      <td>47456.1016</td>\n      <td>47456.1016</td>\n      <td>158100</td>\n    </tr>\n    <tr>\n      <th>4195</th>\n      <td>2024-03-05</td>\n      <td>47265.6992</td>\n      <td>47737.8516</td>\n      <td>47196.7500</td>\n      <td>47581.0000</td>\n      <td>47581.0000</td>\n      <td>176900</td>\n    </tr>\n    <tr>\n      <th>4196</th>\n      <td>2024-03-06</td>\n      <td>47451.6484</td>\n      <td>48161.2500</td>\n      <td>47442.2500</td>\n      <td>47965.3984</td>\n      <td>47965.3984</td>\n      <td>301700</td>\n    </tr>\n  </tbody>\n</table>\n</div>"
     },
     "execution_count": 29,
     "metadata": {},
     "output_type": "execute_result"
    }
   ],
   "source": [
    "df.tail()"
   ],
   "metadata": {
    "collapsed": false,
    "ExecuteTime": {
     "end_time": "2024-03-07T14:00:46.303440Z",
     "start_time": "2024-03-07T14:00:46.292752Z"
    }
   },
   "id": "f669a3da8e8ffcf9",
   "execution_count": 29
  },
  {
   "cell_type": "code",
   "outputs": [
    {
     "data": {
      "text/plain": "date              0\nopen              0\nhigh              0\nlow               0\nclose             0\nadjusted_close    0\nvolume            0\ndtype: int64"
     },
     "execution_count": 30,
     "metadata": {},
     "output_type": "execute_result"
    }
   ],
   "source": [
    "df.isna().sum()"
   ],
   "metadata": {
    "collapsed": false,
    "ExecuteTime": {
     "end_time": "2024-03-07T14:00:46.316700Z",
     "start_time": "2024-03-07T14:00:46.305619Z"
    }
   },
   "id": "ce5bfdc4b1260724",
   "execution_count": 30
  },
  {
   "cell_type": "code",
   "outputs": [
    {
     "name": "stdout",
     "output_type": "stream",
     "text": [
      "The latest date with zero volume is: 2024-01-20\n"
     ]
    }
   ],
   "source": [
    "# Filter the DataFrame for rows where 'volume' is zero\n",
    "zero_volume_df = df[df['volume'] == 0]\n",
    "\n",
    "# Find the latest date where 'volume' is zero\n",
    "latest_zero_volume_date = zero_volume_df['date'].max()\n",
    "\n",
    "print(f\"The latest date with zero volume is: {latest_zero_volume_date}\")"
   ],
   "metadata": {
    "collapsed": false,
    "ExecuteTime": {
     "end_time": "2024-03-07T14:00:46.326313Z",
     "start_time": "2024-03-07T14:00:46.317850Z"
    }
   },
   "id": "cd916e9acd32244e",
   "execution_count": 31
  },
  {
   "cell_type": "code",
   "outputs": [
    {
     "data": {
      "text/plain": "volume\n0           9\n17409000    3\n8947000     3\n53180000    2\n14642000    2\n           ..\n20519000    1\n23395000    1\n18651000    1\n16880000    1\n301700      1\nName: count, Length: 4125, dtype: int64"
     },
     "execution_count": 32,
     "metadata": {},
     "output_type": "execute_result"
    }
   ],
   "source": [
    "df['volume'].value_counts()"
   ],
   "metadata": {
    "collapsed": false,
    "ExecuteTime": {
     "end_time": "2024-03-07T14:00:46.336533Z",
     "start_time": "2024-03-07T14:00:46.328410Z"
    }
   },
   "id": "15945ba73cd27279",
   "execution_count": 32
  },
  {
   "cell_type": "code",
   "outputs": [],
   "source": [
    "df = df[df['volume'] != 0]"
   ],
   "metadata": {
    "collapsed": false,
    "ExecuteTime": {
     "end_time": "2024-03-07T14:01:51.314909Z",
     "start_time": "2024-03-07T14:01:51.310285Z"
    }
   },
   "id": "aa7d83f37d2196cc",
   "execution_count": 33
  },
  {
   "cell_type": "code",
   "outputs": [
    {
     "data": {
      "text/plain": "(4188, 7)"
     },
     "execution_count": 34,
     "metadata": {},
     "output_type": "execute_result"
    }
   ],
   "source": [
    "df.shape"
   ],
   "metadata": {
    "collapsed": false,
    "ExecuteTime": {
     "end_time": "2024-03-07T14:01:55.659571Z",
     "start_time": "2024-03-07T14:01:55.652246Z"
    }
   },
   "id": "e03a2d2658e846da",
   "execution_count": 34
  },
  {
   "cell_type": "code",
   "outputs": [
    {
     "data": {
      "text/plain": "Index(['date', 'open', 'high', 'low', 'close', 'adjusted_close', 'volume'], dtype='object')"
     },
     "execution_count": 35,
     "metadata": {},
     "output_type": "execute_result"
    }
   ],
   "source": [
    "df.columns"
   ],
   "metadata": {
    "collapsed": false,
    "ExecuteTime": {
     "end_time": "2024-03-07T14:02:05.236900Z",
     "start_time": "2024-03-07T14:02:05.231513Z"
    }
   },
   "id": "2a0483d12e7aa007",
   "execution_count": 35
  },
  {
   "cell_type": "code",
   "outputs": [
    {
     "data": {
      "text/plain": "date               object\nopen              float64\nhigh              float64\nlow               float64\nclose             float64\nadjusted_close    float64\nvolume              int64\ndtype: object"
     },
     "execution_count": 36,
     "metadata": {},
     "output_type": "execute_result"
    }
   ],
   "source": [
    "df.dtypes"
   ],
   "metadata": {
    "collapsed": false,
    "ExecuteTime": {
     "end_time": "2024-03-07T14:02:12.797996Z",
     "start_time": "2024-03-07T14:02:12.791526Z"
    }
   },
   "id": "e1c45da2241ae7fb",
   "execution_count": 36
  },
  {
   "cell_type": "code",
   "outputs": [
    {
     "name": "stdout",
     "output_type": "stream",
     "text": [
      "               open     high      low    close    volume\n",
      "date                                                    \n",
      "2007-04-02  5267.70  5267.70  4946.55  4959.65  12535000\n",
      "2007-04-03  4961.30  5048.60  4921.80  4995.15  14984000\n",
      "2007-04-04  4997.05  5108.15  4997.05  5031.75   9251000\n",
      "2007-04-05  5035.90  5151.25  4985.30  5129.20  10120000\n",
      "2007-04-09  5129.05  5335.95  5129.05  5323.80   9708000\n",
      "open      float64\n",
      "high      float64\n",
      "low       float64\n",
      "close     float64\n",
      "volume      int64\n",
      "dtype: object\n"
     ]
    }
   ],
   "source": [
    "import pandas as pd\n",
    "\n",
    "# Load your DataFrame here\n",
    "# For example: df = pd.read_csv('path_to_your_file.csv')\n",
    "\n",
    "# Convert 'date' to datetime type\n",
    "df['date'] = pd.to_datetime(df['date'])\n",
    "\n",
    "# Set 'date' as the index\n",
    "df.set_index('date', inplace=True)\n",
    "\n",
    "# Drop the 'adjusted_close' column\n",
    "df.drop('adjusted_close', axis=1, inplace=True)\n",
    "\n",
    "# To verify the changes\n",
    "print(df.head())\n",
    "print(df.dtypes)\n"
   ],
   "metadata": {
    "collapsed": false,
    "ExecuteTime": {
     "end_time": "2024-03-07T14:03:48.204339Z",
     "start_time": "2024-03-07T14:03:48.189570Z"
    }
   },
   "id": "5b51bc9effbf614d",
   "execution_count": 37
  },
  {
   "cell_type": "code",
   "outputs": [
    {
     "data": {
      "text/plain": "               open     high      low    close    volume\ndate                                                    \n2007-04-02  5267.70  5267.70  4946.55  4959.65  12535000\n2007-04-03  4961.30  5048.60  4921.80  4995.15  14984000\n2007-04-04  4997.05  5108.15  4997.05  5031.75   9251000\n2007-04-05  5035.90  5151.25  4985.30  5129.20  10120000\n2007-04-09  5129.05  5335.95  5129.05  5323.80   9708000\n2007-04-10  5335.40  5349.75  5229.75  5325.50   9197000\n2007-04-11  5325.30  5374.25  5261.30  5276.65   5527000\n2007-04-12  5241.15  5241.15  5176.45  5215.15   5884000\n2007-04-13  5234.50  5404.10  5230.90  5362.10  10973000\n2007-04-16  5400.30  5465.50  5400.30  5435.10   7437000\n2007-04-17  5457.20  5522.15  5387.50  5455.45  13006000\n2007-04-18  5474.10  5548.00  5460.15  5513.00  10512000\n2007-04-19  5485.20  5587.30  5382.20  5540.30  11573000\n2007-04-20  5552.10  5626.85  5514.80  5597.55   9099000\n2007-04-23  5622.00  5637.10  5536.05  5550.15   8005000\n2007-04-24  5524.20  5833.05  5511.70  5807.50  24077000\n2007-04-25  5724.00  5905.10  5724.00  5876.45  13755000\n2007-04-26  5886.95  5975.00  5862.85  5880.95  15562000\n2007-04-27  5833.65  5874.75  5731.40  5752.90  10681000\n2007-04-30  5627.90  5638.65  5490.85  5621.00  11541000\n2007-05-03  5656.25  5721.90  5651.05  5693.40  13434000\n2007-05-04  5713.70  5765.60  5641.75  5656.55  13053000\n2007-05-07  5773.40  5773.40  5596.20  5610.70  11791000\n2007-05-08  5584.10  5672.50  5523.75  5537.00   9247000\n2007-05-09  5571.15  5649.25  5480.50  5638.55   9546000",
      "text/html": "<div>\n<style scoped>\n    .dataframe tbody tr th:only-of-type {\n        vertical-align: middle;\n    }\n\n    .dataframe tbody tr th {\n        vertical-align: top;\n    }\n\n    .dataframe thead th {\n        text-align: right;\n    }\n</style>\n<table border=\"1\" class=\"dataframe\">\n  <thead>\n    <tr style=\"text-align: right;\">\n      <th></th>\n      <th>open</th>\n      <th>high</th>\n      <th>low</th>\n      <th>close</th>\n      <th>volume</th>\n    </tr>\n    <tr>\n      <th>date</th>\n      <th></th>\n      <th></th>\n      <th></th>\n      <th></th>\n      <th></th>\n    </tr>\n  </thead>\n  <tbody>\n    <tr>\n      <th>2007-04-02</th>\n      <td>5267.70</td>\n      <td>5267.70</td>\n      <td>4946.55</td>\n      <td>4959.65</td>\n      <td>12535000</td>\n    </tr>\n    <tr>\n      <th>2007-04-03</th>\n      <td>4961.30</td>\n      <td>5048.60</td>\n      <td>4921.80</td>\n      <td>4995.15</td>\n      <td>14984000</td>\n    </tr>\n    <tr>\n      <th>2007-04-04</th>\n      <td>4997.05</td>\n      <td>5108.15</td>\n      <td>4997.05</td>\n      <td>5031.75</td>\n      <td>9251000</td>\n    </tr>\n    <tr>\n      <th>2007-04-05</th>\n      <td>5035.90</td>\n      <td>5151.25</td>\n      <td>4985.30</td>\n      <td>5129.20</td>\n      <td>10120000</td>\n    </tr>\n    <tr>\n      <th>2007-04-09</th>\n      <td>5129.05</td>\n      <td>5335.95</td>\n      <td>5129.05</td>\n      <td>5323.80</td>\n      <td>9708000</td>\n    </tr>\n    <tr>\n      <th>2007-04-10</th>\n      <td>5335.40</td>\n      <td>5349.75</td>\n      <td>5229.75</td>\n      <td>5325.50</td>\n      <td>9197000</td>\n    </tr>\n    <tr>\n      <th>2007-04-11</th>\n      <td>5325.30</td>\n      <td>5374.25</td>\n      <td>5261.30</td>\n      <td>5276.65</td>\n      <td>5527000</td>\n    </tr>\n    <tr>\n      <th>2007-04-12</th>\n      <td>5241.15</td>\n      <td>5241.15</td>\n      <td>5176.45</td>\n      <td>5215.15</td>\n      <td>5884000</td>\n    </tr>\n    <tr>\n      <th>2007-04-13</th>\n      <td>5234.50</td>\n      <td>5404.10</td>\n      <td>5230.90</td>\n      <td>5362.10</td>\n      <td>10973000</td>\n    </tr>\n    <tr>\n      <th>2007-04-16</th>\n      <td>5400.30</td>\n      <td>5465.50</td>\n      <td>5400.30</td>\n      <td>5435.10</td>\n      <td>7437000</td>\n    </tr>\n    <tr>\n      <th>2007-04-17</th>\n      <td>5457.20</td>\n      <td>5522.15</td>\n      <td>5387.50</td>\n      <td>5455.45</td>\n      <td>13006000</td>\n    </tr>\n    <tr>\n      <th>2007-04-18</th>\n      <td>5474.10</td>\n      <td>5548.00</td>\n      <td>5460.15</td>\n      <td>5513.00</td>\n      <td>10512000</td>\n    </tr>\n    <tr>\n      <th>2007-04-19</th>\n      <td>5485.20</td>\n      <td>5587.30</td>\n      <td>5382.20</td>\n      <td>5540.30</td>\n      <td>11573000</td>\n    </tr>\n    <tr>\n      <th>2007-04-20</th>\n      <td>5552.10</td>\n      <td>5626.85</td>\n      <td>5514.80</td>\n      <td>5597.55</td>\n      <td>9099000</td>\n    </tr>\n    <tr>\n      <th>2007-04-23</th>\n      <td>5622.00</td>\n      <td>5637.10</td>\n      <td>5536.05</td>\n      <td>5550.15</td>\n      <td>8005000</td>\n    </tr>\n    <tr>\n      <th>2007-04-24</th>\n      <td>5524.20</td>\n      <td>5833.05</td>\n      <td>5511.70</td>\n      <td>5807.50</td>\n      <td>24077000</td>\n    </tr>\n    <tr>\n      <th>2007-04-25</th>\n      <td>5724.00</td>\n      <td>5905.10</td>\n      <td>5724.00</td>\n      <td>5876.45</td>\n      <td>13755000</td>\n    </tr>\n    <tr>\n      <th>2007-04-26</th>\n      <td>5886.95</td>\n      <td>5975.00</td>\n      <td>5862.85</td>\n      <td>5880.95</td>\n      <td>15562000</td>\n    </tr>\n    <tr>\n      <th>2007-04-27</th>\n      <td>5833.65</td>\n      <td>5874.75</td>\n      <td>5731.40</td>\n      <td>5752.90</td>\n      <td>10681000</td>\n    </tr>\n    <tr>\n      <th>2007-04-30</th>\n      <td>5627.90</td>\n      <td>5638.65</td>\n      <td>5490.85</td>\n      <td>5621.00</td>\n      <td>11541000</td>\n    </tr>\n    <tr>\n      <th>2007-05-03</th>\n      <td>5656.25</td>\n      <td>5721.90</td>\n      <td>5651.05</td>\n      <td>5693.40</td>\n      <td>13434000</td>\n    </tr>\n    <tr>\n      <th>2007-05-04</th>\n      <td>5713.70</td>\n      <td>5765.60</td>\n      <td>5641.75</td>\n      <td>5656.55</td>\n      <td>13053000</td>\n    </tr>\n    <tr>\n      <th>2007-05-07</th>\n      <td>5773.40</td>\n      <td>5773.40</td>\n      <td>5596.20</td>\n      <td>5610.70</td>\n      <td>11791000</td>\n    </tr>\n    <tr>\n      <th>2007-05-08</th>\n      <td>5584.10</td>\n      <td>5672.50</td>\n      <td>5523.75</td>\n      <td>5537.00</td>\n      <td>9247000</td>\n    </tr>\n    <tr>\n      <th>2007-05-09</th>\n      <td>5571.15</td>\n      <td>5649.25</td>\n      <td>5480.50</td>\n      <td>5638.55</td>\n      <td>9546000</td>\n    </tr>\n  </tbody>\n</table>\n</div>"
     },
     "execution_count": 38,
     "metadata": {},
     "output_type": "execute_result"
    }
   ],
   "source": [
    "df.head(25)"
   ],
   "metadata": {
    "collapsed": false,
    "ExecuteTime": {
     "end_time": "2024-03-07T14:04:04.692013Z",
     "start_time": "2024-03-07T14:04:04.678213Z"
    }
   },
   "id": "5a2bf05fa9b54bc5",
   "execution_count": 38
  },
  {
   "cell_type": "code",
   "outputs": [
    {
     "data": {
      "text/plain": "                  open        high         low       close     volume\ndate                                                                 \n2024-02-02  46568.2000  46892.3500  45901.2500  45970.9500  337040000\n2024-02-05  45962.2500  46048.6000  45615.1000  45825.5500  265910000\n2024-02-06  45891.2000  45932.1500  45527.0000  45690.8000  178590000\n2024-02-07  45944.6000  46062.8500  45620.5000  45818.5000  283680000\n2024-02-08  45973.8500  46181.2000  44893.7500  45012.0000  319910000\n2024-02-09  44986.7500  45718.1500  44859.1500  45634.5500  275980000\n2024-02-12  45664.3000  45748.5000  44633.8500  44882.2500  268820000\n2024-02-13  45056.8000  45750.4000  44819.5500  45502.4000  245860000\n2024-02-14  45014.6500  46170.4500  44860.7500  45908.3000  279950000\n2024-02-15  46027.1000  46297.7000  45590.2000  46218.9000  277740000\n2024-02-16  46454.3000  46693.4000  46264.4000  46384.8500  291380000\n2024-02-19  46554.9000  46717.4000  46317.7000  46535.5000  158390000\n2024-02-20  46444.9000  47136.7500  46367.8000  47094.2000  171890000\n2024-02-21  47363.4000  47363.4000  46886.9500  47019.7000  198950000\n2024-02-22  46934.5500  47024.0500  46426.8500  46919.8000  177180000\n2024-02-23  47060.7000  47245.3500  46723.1500  46811.7500  200520000\n2024-02-26  46615.8500  46893.1500  46513.5500  46576.5000  223680000\n2024-02-27  46480.2000  46722.2500  46324.9000  46588.0500  157260000\n2024-02-28  46640.9000  46754.5500  45852.5500  45963.1500  167270000\n2024-02-29  45881.4500  46329.6500  45661.7500  46120.9000  544730000\n2024-03-01  46218.0000  47342.2500  46218.0000  47286.8984     172500\n2024-03-02  47342.1000  47392.9500  47240.3500  47297.5000      12240\n2024-03-04  47318.5000  47529.6016  47191.6484  47456.1016     158100\n2024-03-05  47265.6992  47737.8516  47196.7500  47581.0000     176900\n2024-03-06  47451.6484  48161.2500  47442.2500  47965.3984     301700",
      "text/html": "<div>\n<style scoped>\n    .dataframe tbody tr th:only-of-type {\n        vertical-align: middle;\n    }\n\n    .dataframe tbody tr th {\n        vertical-align: top;\n    }\n\n    .dataframe thead th {\n        text-align: right;\n    }\n</style>\n<table border=\"1\" class=\"dataframe\">\n  <thead>\n    <tr style=\"text-align: right;\">\n      <th></th>\n      <th>open</th>\n      <th>high</th>\n      <th>low</th>\n      <th>close</th>\n      <th>volume</th>\n    </tr>\n    <tr>\n      <th>date</th>\n      <th></th>\n      <th></th>\n      <th></th>\n      <th></th>\n      <th></th>\n    </tr>\n  </thead>\n  <tbody>\n    <tr>\n      <th>2024-02-02</th>\n      <td>46568.2000</td>\n      <td>46892.3500</td>\n      <td>45901.2500</td>\n      <td>45970.9500</td>\n      <td>337040000</td>\n    </tr>\n    <tr>\n      <th>2024-02-05</th>\n      <td>45962.2500</td>\n      <td>46048.6000</td>\n      <td>45615.1000</td>\n      <td>45825.5500</td>\n      <td>265910000</td>\n    </tr>\n    <tr>\n      <th>2024-02-06</th>\n      <td>45891.2000</td>\n      <td>45932.1500</td>\n      <td>45527.0000</td>\n      <td>45690.8000</td>\n      <td>178590000</td>\n    </tr>\n    <tr>\n      <th>2024-02-07</th>\n      <td>45944.6000</td>\n      <td>46062.8500</td>\n      <td>45620.5000</td>\n      <td>45818.5000</td>\n      <td>283680000</td>\n    </tr>\n    <tr>\n      <th>2024-02-08</th>\n      <td>45973.8500</td>\n      <td>46181.2000</td>\n      <td>44893.7500</td>\n      <td>45012.0000</td>\n      <td>319910000</td>\n    </tr>\n    <tr>\n      <th>2024-02-09</th>\n      <td>44986.7500</td>\n      <td>45718.1500</td>\n      <td>44859.1500</td>\n      <td>45634.5500</td>\n      <td>275980000</td>\n    </tr>\n    <tr>\n      <th>2024-02-12</th>\n      <td>45664.3000</td>\n      <td>45748.5000</td>\n      <td>44633.8500</td>\n      <td>44882.2500</td>\n      <td>268820000</td>\n    </tr>\n    <tr>\n      <th>2024-02-13</th>\n      <td>45056.8000</td>\n      <td>45750.4000</td>\n      <td>44819.5500</td>\n      <td>45502.4000</td>\n      <td>245860000</td>\n    </tr>\n    <tr>\n      <th>2024-02-14</th>\n      <td>45014.6500</td>\n      <td>46170.4500</td>\n      <td>44860.7500</td>\n      <td>45908.3000</td>\n      <td>279950000</td>\n    </tr>\n    <tr>\n      <th>2024-02-15</th>\n      <td>46027.1000</td>\n      <td>46297.7000</td>\n      <td>45590.2000</td>\n      <td>46218.9000</td>\n      <td>277740000</td>\n    </tr>\n    <tr>\n      <th>2024-02-16</th>\n      <td>46454.3000</td>\n      <td>46693.4000</td>\n      <td>46264.4000</td>\n      <td>46384.8500</td>\n      <td>291380000</td>\n    </tr>\n    <tr>\n      <th>2024-02-19</th>\n      <td>46554.9000</td>\n      <td>46717.4000</td>\n      <td>46317.7000</td>\n      <td>46535.5000</td>\n      <td>158390000</td>\n    </tr>\n    <tr>\n      <th>2024-02-20</th>\n      <td>46444.9000</td>\n      <td>47136.7500</td>\n      <td>46367.8000</td>\n      <td>47094.2000</td>\n      <td>171890000</td>\n    </tr>\n    <tr>\n      <th>2024-02-21</th>\n      <td>47363.4000</td>\n      <td>47363.4000</td>\n      <td>46886.9500</td>\n      <td>47019.7000</td>\n      <td>198950000</td>\n    </tr>\n    <tr>\n      <th>2024-02-22</th>\n      <td>46934.5500</td>\n      <td>47024.0500</td>\n      <td>46426.8500</td>\n      <td>46919.8000</td>\n      <td>177180000</td>\n    </tr>\n    <tr>\n      <th>2024-02-23</th>\n      <td>47060.7000</td>\n      <td>47245.3500</td>\n      <td>46723.1500</td>\n      <td>46811.7500</td>\n      <td>200520000</td>\n    </tr>\n    <tr>\n      <th>2024-02-26</th>\n      <td>46615.8500</td>\n      <td>46893.1500</td>\n      <td>46513.5500</td>\n      <td>46576.5000</td>\n      <td>223680000</td>\n    </tr>\n    <tr>\n      <th>2024-02-27</th>\n      <td>46480.2000</td>\n      <td>46722.2500</td>\n      <td>46324.9000</td>\n      <td>46588.0500</td>\n      <td>157260000</td>\n    </tr>\n    <tr>\n      <th>2024-02-28</th>\n      <td>46640.9000</td>\n      <td>46754.5500</td>\n      <td>45852.5500</td>\n      <td>45963.1500</td>\n      <td>167270000</td>\n    </tr>\n    <tr>\n      <th>2024-02-29</th>\n      <td>45881.4500</td>\n      <td>46329.6500</td>\n      <td>45661.7500</td>\n      <td>46120.9000</td>\n      <td>544730000</td>\n    </tr>\n    <tr>\n      <th>2024-03-01</th>\n      <td>46218.0000</td>\n      <td>47342.2500</td>\n      <td>46218.0000</td>\n      <td>47286.8984</td>\n      <td>172500</td>\n    </tr>\n    <tr>\n      <th>2024-03-02</th>\n      <td>47342.1000</td>\n      <td>47392.9500</td>\n      <td>47240.3500</td>\n      <td>47297.5000</td>\n      <td>12240</td>\n    </tr>\n    <tr>\n      <th>2024-03-04</th>\n      <td>47318.5000</td>\n      <td>47529.6016</td>\n      <td>47191.6484</td>\n      <td>47456.1016</td>\n      <td>158100</td>\n    </tr>\n    <tr>\n      <th>2024-03-05</th>\n      <td>47265.6992</td>\n      <td>47737.8516</td>\n      <td>47196.7500</td>\n      <td>47581.0000</td>\n      <td>176900</td>\n    </tr>\n    <tr>\n      <th>2024-03-06</th>\n      <td>47451.6484</td>\n      <td>48161.2500</td>\n      <td>47442.2500</td>\n      <td>47965.3984</td>\n      <td>301700</td>\n    </tr>\n  </tbody>\n</table>\n</div>"
     },
     "execution_count": 39,
     "metadata": {},
     "output_type": "execute_result"
    }
   ],
   "source": [
    "df.tail(25)"
   ],
   "metadata": {
    "collapsed": false,
    "ExecuteTime": {
     "end_time": "2024-03-07T14:04:35.620323Z",
     "start_time": "2024-03-07T14:04:35.608286Z"
    }
   },
   "id": "3ace508545f37ff7",
   "execution_count": 39
  },
  {
   "cell_type": "code",
   "outputs": [],
   "source": [
    "df.to_csv('eod_data.csv', index=True)"
   ],
   "metadata": {
    "collapsed": false,
    "ExecuteTime": {
     "end_time": "2024-03-07T14:05:29.612429Z",
     "start_time": "2024-03-07T14:05:29.557268Z"
    }
   },
   "id": "483b7e45c3996d44",
   "execution_count": 40
  }
 ],
 "metadata": {
  "kernelspec": {
   "display_name": "Python 3",
   "language": "python",
   "name": "python3"
  },
  "language_info": {
   "codemirror_mode": {
    "name": "ipython",
    "version": 2
   },
   "file_extension": ".py",
   "mimetype": "text/x-python",
   "name": "python",
   "nbconvert_exporter": "python",
   "pygments_lexer": "ipython2",
   "version": "2.7.6"
  }
 },
 "nbformat": 4,
 "nbformat_minor": 5
}
